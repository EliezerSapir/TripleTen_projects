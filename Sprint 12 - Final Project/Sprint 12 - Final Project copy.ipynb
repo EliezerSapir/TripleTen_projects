{
 "cells": [
  {
   "cell_type": "markdown",
   "id": "0f47e5a1",
   "metadata": {},
   "source": [
    "# Sprint 12 - Final Project\n",
    "# AtliQ Hardware Product Analysis"
   ]
  },
  {
   "cell_type": "markdown",
   "id": "485cc3ea",
   "metadata": {},
   "source": [
    "We have access to six databases from AtliQ Hardware about their customer base, product line and sales records.\n",
    "\n",
    "This report will showcase analysis of the AtliQ Hardware databases, extract valuable insights to identify top selling and most profitable products, and create realistic recommendations to improve product sales performance."
   ]
  },
  {
   "cell_type": "markdown",
   "id": "5925f045",
   "metadata": {},
   "source": [
    "## Data Access and Initial Exploration:"
   ]
  },
  {
   "cell_type": "code",
   "execution_count": 56,
   "id": "39402b86",
   "metadata": {},
   "outputs": [],
   "source": [
    "import pandas as pd\n",
    "import datetime as dt\n",
    "import numpy as np\n",
    "import matplotlib.pyplot as plt\n",
    "import math\n",
    "import scipy.stats as stats\n",
    "import seaborn as sns"
   ]
  },
  {
   "cell_type": "markdown",
   "id": "fb842f20",
   "metadata": {},
   "source": [
    "The data resides in an sqlite3 database.  It needs to be imported here so we can make queries in our jupyter notebook."
   ]
  },
  {
   "cell_type": "code",
   "execution_count": 57,
   "id": "6e37451d",
   "metadata": {},
   "outputs": [
    {
     "name": "stdout",
     "output_type": "stream",
     "text": [
      "[('dim_customer',), ('dim_product',), ('fact_pre_discount',), ('fact_manufacturing_cost',), ('fact_gross_price',), ('fact_sales_monthly',)]\n"
     ]
    }
   ],
   "source": [
    "### connect to the database\n",
    "import sqlite3\n",
    "con = sqlite3.connect('/Users/eli/Documents/Programming/TripleTen DA/Sprint 12 - Final Project/atliq_db.sqlite3')\n",
    "\n",
    "### check all tables in the database\n",
    "cursor = con.cursor()\n",
    "cursor.execute(\"SELECT name FROM sqlite_master WHERE type='table';\")\n",
    "print(cursor.fetchall())"
   ]
  },
  {
   "cell_type": "markdown",
   "id": "b3bdb97e",
   "metadata": {},
   "source": [
    "I will import the heads of each table to see an overview but I will go more into depth in the tables that have to do with product sales (everything except for customer information)."
   ]
  },
  {
   "cell_type": "code",
   "execution_count": 58,
   "id": "9694a415",
   "metadata": {},
   "outputs": [
    {
     "data": {
      "text/html": [
       "<div>\n",
       "<style scoped>\n",
       "    .dataframe tbody tr th:only-of-type {\n",
       "        vertical-align: middle;\n",
       "    }\n",
       "\n",
       "    .dataframe tbody tr th {\n",
       "        vertical-align: top;\n",
       "    }\n",
       "\n",
       "    .dataframe thead th {\n",
       "        text-align: right;\n",
       "    }\n",
       "</style>\n",
       "<table border=\"1\" class=\"dataframe\">\n",
       "  <thead>\n",
       "    <tr style=\"text-align: right;\">\n",
       "      <th></th>\n",
       "      <th>customer_code</th>\n",
       "      <th>customer</th>\n",
       "      <th>platform</th>\n",
       "      <th>channel</th>\n",
       "      <th>market</th>\n",
       "      <th>sub_zone</th>\n",
       "      <th>region</th>\n",
       "    </tr>\n",
       "  </thead>\n",
       "  <tbody>\n",
       "    <tr>\n",
       "      <th>0</th>\n",
       "      <td>70002017</td>\n",
       "      <td>Atliq Exclusive</td>\n",
       "      <td>Brick &amp; Mortar</td>\n",
       "      <td>Direct</td>\n",
       "      <td>India</td>\n",
       "      <td>India</td>\n",
       "      <td>APAC</td>\n",
       "    </tr>\n",
       "    <tr>\n",
       "      <th>1</th>\n",
       "      <td>70002018</td>\n",
       "      <td>Atliq e Store</td>\n",
       "      <td>E-Commerce</td>\n",
       "      <td>Direct</td>\n",
       "      <td>India</td>\n",
       "      <td>India</td>\n",
       "      <td>APAC</td>\n",
       "    </tr>\n",
       "    <tr>\n",
       "      <th>2</th>\n",
       "      <td>70003181</td>\n",
       "      <td>Atliq Exclusive</td>\n",
       "      <td>Brick &amp; Mortar</td>\n",
       "      <td>Direct</td>\n",
       "      <td>Indonesia</td>\n",
       "      <td>ROA</td>\n",
       "      <td>APAC</td>\n",
       "    </tr>\n",
       "    <tr>\n",
       "      <th>3</th>\n",
       "      <td>70003182</td>\n",
       "      <td>Atliq e Store</td>\n",
       "      <td>E-Commerce</td>\n",
       "      <td>Direct</td>\n",
       "      <td>Indonesia</td>\n",
       "      <td>ROA</td>\n",
       "      <td>APAC</td>\n",
       "    </tr>\n",
       "    <tr>\n",
       "      <th>4</th>\n",
       "      <td>70004069</td>\n",
       "      <td>Atliq Exclusive</td>\n",
       "      <td>Brick &amp; Mortar</td>\n",
       "      <td>Direct</td>\n",
       "      <td>Japan</td>\n",
       "      <td>ROA</td>\n",
       "      <td>APAC</td>\n",
       "    </tr>\n",
       "    <tr>\n",
       "      <th>5</th>\n",
       "      <td>70004070</td>\n",
       "      <td>Atliq e Store</td>\n",
       "      <td>E-Commerce</td>\n",
       "      <td>Direct</td>\n",
       "      <td>Japan</td>\n",
       "      <td>ROA</td>\n",
       "      <td>APAC</td>\n",
       "    </tr>\n",
       "    <tr>\n",
       "      <th>6</th>\n",
       "      <td>70005163</td>\n",
       "      <td>Atliq e Store</td>\n",
       "      <td>E-Commerce</td>\n",
       "      <td>Direct</td>\n",
       "      <td>Pakistan</td>\n",
       "      <td>ROA</td>\n",
       "      <td>APAC</td>\n",
       "    </tr>\n",
       "    <tr>\n",
       "      <th>7</th>\n",
       "      <td>70006157</td>\n",
       "      <td>Atliq Exclusive</td>\n",
       "      <td>Brick &amp; Mortar</td>\n",
       "      <td>Direct</td>\n",
       "      <td>Philiphines</td>\n",
       "      <td>ROA</td>\n",
       "      <td>APAC</td>\n",
       "    </tr>\n",
       "    <tr>\n",
       "      <th>8</th>\n",
       "      <td>70006158</td>\n",
       "      <td>Atliq e Store</td>\n",
       "      <td>E-Commerce</td>\n",
       "      <td>Direct</td>\n",
       "      <td>Philiphines</td>\n",
       "      <td>ROA</td>\n",
       "      <td>APAC</td>\n",
       "    </tr>\n",
       "    <tr>\n",
       "      <th>9</th>\n",
       "      <td>70007198</td>\n",
       "      <td>Atliq Exclusive</td>\n",
       "      <td>Brick &amp; Mortar</td>\n",
       "      <td>Direct</td>\n",
       "      <td>South Korea</td>\n",
       "      <td>ROA</td>\n",
       "      <td>APAC</td>\n",
       "    </tr>\n",
       "  </tbody>\n",
       "</table>\n",
       "</div>"
      ],
      "text/plain": [
       "   customer_code         customer        platform channel       market  \\\n",
       "0       70002017  Atliq Exclusive  Brick & Mortar  Direct        India   \n",
       "1       70002018    Atliq e Store      E-Commerce  Direct        India   \n",
       "2       70003181  Atliq Exclusive  Brick & Mortar  Direct    Indonesia   \n",
       "3       70003182    Atliq e Store      E-Commerce  Direct    Indonesia   \n",
       "4       70004069  Atliq Exclusive  Brick & Mortar  Direct        Japan   \n",
       "5       70004070    Atliq e Store      E-Commerce  Direct        Japan   \n",
       "6       70005163    Atliq e Store      E-Commerce  Direct     Pakistan   \n",
       "7       70006157  Atliq Exclusive  Brick & Mortar  Direct  Philiphines   \n",
       "8       70006158    Atliq e Store      E-Commerce  Direct  Philiphines   \n",
       "9       70007198  Atliq Exclusive  Brick & Mortar  Direct  South Korea   \n",
       "\n",
       "  sub_zone region  \n",
       "0    India   APAC  \n",
       "1    India   APAC  \n",
       "2      ROA   APAC  \n",
       "3      ROA   APAC  \n",
       "4      ROA   APAC  \n",
       "5      ROA   APAC  \n",
       "6      ROA   APAC  \n",
       "7      ROA   APAC  \n",
       "8      ROA   APAC  \n",
       "9      ROA   APAC  "
      ]
     },
     "execution_count": 58,
     "metadata": {},
     "output_type": "execute_result"
    }
   ],
   "source": [
    "### import head of each table to see overview of data\n",
    "query=\"\"\"Select * from \n",
    "dim_customer\n",
    "\"\"\"\n",
    "dim_customer=pd.read_sql_query(query, con)\n",
    "dim_customer.head(10)"
   ]
  },
  {
   "cell_type": "code",
   "execution_count": 59,
   "id": "436a03d7",
   "metadata": {},
   "outputs": [
    {
     "data": {
      "text/html": [
       "<div>\n",
       "<style scoped>\n",
       "    .dataframe tbody tr th:only-of-type {\n",
       "        vertical-align: middle;\n",
       "    }\n",
       "\n",
       "    .dataframe tbody tr th {\n",
       "        vertical-align: top;\n",
       "    }\n",
       "\n",
       "    .dataframe thead th {\n",
       "        text-align: right;\n",
       "    }\n",
       "</style>\n",
       "<table border=\"1\" class=\"dataframe\">\n",
       "  <thead>\n",
       "    <tr style=\"text-align: right;\">\n",
       "      <th></th>\n",
       "      <th>product_code</th>\n",
       "      <th>division</th>\n",
       "      <th>segment</th>\n",
       "      <th>category</th>\n",
       "      <th>product</th>\n",
       "      <th>variant</th>\n",
       "    </tr>\n",
       "  </thead>\n",
       "  <tbody>\n",
       "    <tr>\n",
       "      <th>0</th>\n",
       "      <td>A0118150101</td>\n",
       "      <td>P &amp; A</td>\n",
       "      <td>Peripherals</td>\n",
       "      <td>Internal HDD</td>\n",
       "      <td>AQ Dracula HDD – 3.5 Inch SATA 6 Gb/s 5400 RPM 256 MB Cache</td>\n",
       "      <td>Standard</td>\n",
       "    </tr>\n",
       "    <tr>\n",
       "      <th>1</th>\n",
       "      <td>A0118150102</td>\n",
       "      <td>P &amp; A</td>\n",
       "      <td>Peripherals</td>\n",
       "      <td>Internal HDD</td>\n",
       "      <td>AQ Dracula HDD – 3.5 Inch SATA 6 Gb/s 5400 RPM 256 MB Cache</td>\n",
       "      <td>Plus</td>\n",
       "    </tr>\n",
       "    <tr>\n",
       "      <th>2</th>\n",
       "      <td>A0118150103</td>\n",
       "      <td>P &amp; A</td>\n",
       "      <td>Peripherals</td>\n",
       "      <td>Internal HDD</td>\n",
       "      <td>AQ Dracula HDD – 3.5 Inch SATA 6 Gb/s 5400 RPM 256 MB Cache</td>\n",
       "      <td>Premium</td>\n",
       "    </tr>\n",
       "    <tr>\n",
       "      <th>3</th>\n",
       "      <td>A0118150104</td>\n",
       "      <td>P &amp; A</td>\n",
       "      <td>Peripherals</td>\n",
       "      <td>Internal HDD</td>\n",
       "      <td>AQ Dracula HDD – 3.5 Inch SATA 6 Gb/s 5400 RPM 256 MB Cache</td>\n",
       "      <td>Premium Plus</td>\n",
       "    </tr>\n",
       "    <tr>\n",
       "      <th>4</th>\n",
       "      <td>A0219150201</td>\n",
       "      <td>P &amp; A</td>\n",
       "      <td>Peripherals</td>\n",
       "      <td>Internal HDD</td>\n",
       "      <td>AQ WereWolf NAS Internal Hard Drive HDD – 8.89 cm</td>\n",
       "      <td>Standard</td>\n",
       "    </tr>\n",
       "    <tr>\n",
       "      <th>5</th>\n",
       "      <td>A0219150202</td>\n",
       "      <td>P &amp; A</td>\n",
       "      <td>Peripherals</td>\n",
       "      <td>Internal HDD</td>\n",
       "      <td>AQ WereWolf NAS Internal Hard Drive HDD – 8.89 cm</td>\n",
       "      <td>Plus</td>\n",
       "    </tr>\n",
       "    <tr>\n",
       "      <th>6</th>\n",
       "      <td>A0220150203</td>\n",
       "      <td>P &amp; A</td>\n",
       "      <td>Peripherals</td>\n",
       "      <td>Internal HDD</td>\n",
       "      <td>AQ WereWolf NAS Internal Hard Drive HDD – 8.89 cm</td>\n",
       "      <td>Premium</td>\n",
       "    </tr>\n",
       "    <tr>\n",
       "      <th>7</th>\n",
       "      <td>A0320150301</td>\n",
       "      <td>P &amp; A</td>\n",
       "      <td>Peripherals</td>\n",
       "      <td>Internal HDD</td>\n",
       "      <td>AQ Zion Saga</td>\n",
       "      <td>Standard</td>\n",
       "    </tr>\n",
       "    <tr>\n",
       "      <th>8</th>\n",
       "      <td>A0321150302</td>\n",
       "      <td>P &amp; A</td>\n",
       "      <td>Peripherals</td>\n",
       "      <td>Internal HDD</td>\n",
       "      <td>AQ Zion Saga</td>\n",
       "      <td>Plus</td>\n",
       "    </tr>\n",
       "    <tr>\n",
       "      <th>9</th>\n",
       "      <td>A0321150303</td>\n",
       "      <td>P &amp; A</td>\n",
       "      <td>Peripherals</td>\n",
       "      <td>Internal HDD</td>\n",
       "      <td>AQ Zion Saga</td>\n",
       "      <td>Premium</td>\n",
       "    </tr>\n",
       "    <tr>\n",
       "      <th>10</th>\n",
       "      <td>A0418150101</td>\n",
       "      <td>P &amp; A</td>\n",
       "      <td>Peripherals</td>\n",
       "      <td>Graphic Card</td>\n",
       "      <td>AQ Mforce Gen X</td>\n",
       "      <td>Standard 1</td>\n",
       "    </tr>\n",
       "    <tr>\n",
       "      <th>11</th>\n",
       "      <td>A0418150102</td>\n",
       "      <td>P &amp; A</td>\n",
       "      <td>Peripherals</td>\n",
       "      <td>Graphic Card</td>\n",
       "      <td>AQ Mforce Gen X</td>\n",
       "      <td>Standard 2</td>\n",
       "    </tr>\n",
       "    <tr>\n",
       "      <th>12</th>\n",
       "      <td>A0418150103</td>\n",
       "      <td>P &amp; A</td>\n",
       "      <td>Peripherals</td>\n",
       "      <td>Graphic Card</td>\n",
       "      <td>AQ Mforce Gen X</td>\n",
       "      <td>Standard 3</td>\n",
       "    </tr>\n",
       "    <tr>\n",
       "      <th>13</th>\n",
       "      <td>A0418150104</td>\n",
       "      <td>P &amp; A</td>\n",
       "      <td>Peripherals</td>\n",
       "      <td>Graphic Card</td>\n",
       "      <td>AQ Mforce Gen X</td>\n",
       "      <td>Plus 1</td>\n",
       "    </tr>\n",
       "    <tr>\n",
       "      <th>14</th>\n",
       "      <td>A0418150105</td>\n",
       "      <td>P &amp; A</td>\n",
       "      <td>Peripherals</td>\n",
       "      <td>Graphic Card</td>\n",
       "      <td>AQ Mforce Gen X</td>\n",
       "      <td>Plus 2</td>\n",
       "    </tr>\n",
       "    <tr>\n",
       "      <th>15</th>\n",
       "      <td>A0418150106</td>\n",
       "      <td>P &amp; A</td>\n",
       "      <td>Peripherals</td>\n",
       "      <td>Graphic Card</td>\n",
       "      <td>AQ Mforce Gen X</td>\n",
       "      <td>Plus 3</td>\n",
       "    </tr>\n",
       "    <tr>\n",
       "      <th>16</th>\n",
       "      <td>A0418150107</td>\n",
       "      <td>P &amp; A</td>\n",
       "      <td>Peripherals</td>\n",
       "      <td>Graphic Card</td>\n",
       "      <td>AQ Mforce Gen X</td>\n",
       "      <td>Premium 1</td>\n",
       "    </tr>\n",
       "    <tr>\n",
       "      <th>17</th>\n",
       "      <td>A0418150108</td>\n",
       "      <td>P &amp; A</td>\n",
       "      <td>Peripherals</td>\n",
       "      <td>Graphic Card</td>\n",
       "      <td>AQ Mforce Gen X</td>\n",
       "      <td>Premium 2</td>\n",
       "    </tr>\n",
       "    <tr>\n",
       "      <th>18</th>\n",
       "      <td>A0519150201</td>\n",
       "      <td>P &amp; A</td>\n",
       "      <td>Peripherals</td>\n",
       "      <td>Graphic Card</td>\n",
       "      <td>AQ Mforce Gen Y</td>\n",
       "      <td>Standard 1</td>\n",
       "    </tr>\n",
       "    <tr>\n",
       "      <th>19</th>\n",
       "      <td>A0519150202</td>\n",
       "      <td>P &amp; A</td>\n",
       "      <td>Peripherals</td>\n",
       "      <td>Graphic Card</td>\n",
       "      <td>AQ Mforce Gen Y</td>\n",
       "      <td>Standard 2</td>\n",
       "    </tr>\n",
       "  </tbody>\n",
       "</table>\n",
       "</div>"
      ],
      "text/plain": [
       "   product_code division      segment      category  \\\n",
       "0   A0118150101    P & A  Peripherals  Internal HDD   \n",
       "1   A0118150102    P & A  Peripherals  Internal HDD   \n",
       "2   A0118150103    P & A  Peripherals  Internal HDD   \n",
       "3   A0118150104    P & A  Peripherals  Internal HDD   \n",
       "4   A0219150201    P & A  Peripherals  Internal HDD   \n",
       "5   A0219150202    P & A  Peripherals  Internal HDD   \n",
       "6   A0220150203    P & A  Peripherals  Internal HDD   \n",
       "7   A0320150301    P & A  Peripherals  Internal HDD   \n",
       "8   A0321150302    P & A  Peripherals  Internal HDD   \n",
       "9   A0321150303    P & A  Peripherals  Internal HDD   \n",
       "10  A0418150101    P & A  Peripherals  Graphic Card   \n",
       "11  A0418150102    P & A  Peripherals  Graphic Card   \n",
       "12  A0418150103    P & A  Peripherals  Graphic Card   \n",
       "13  A0418150104    P & A  Peripherals  Graphic Card   \n",
       "14  A0418150105    P & A  Peripherals  Graphic Card   \n",
       "15  A0418150106    P & A  Peripherals  Graphic Card   \n",
       "16  A0418150107    P & A  Peripherals  Graphic Card   \n",
       "17  A0418150108    P & A  Peripherals  Graphic Card   \n",
       "18  A0519150201    P & A  Peripherals  Graphic Card   \n",
       "19  A0519150202    P & A  Peripherals  Graphic Card   \n",
       "\n",
       "                                                        product       variant  \n",
       "0   AQ Dracula HDD – 3.5 Inch SATA 6 Gb/s 5400 RPM 256 MB Cache      Standard  \n",
       "1   AQ Dracula HDD – 3.5 Inch SATA 6 Gb/s 5400 RPM 256 MB Cache          Plus  \n",
       "2   AQ Dracula HDD – 3.5 Inch SATA 6 Gb/s 5400 RPM 256 MB Cache       Premium  \n",
       "3   AQ Dracula HDD – 3.5 Inch SATA 6 Gb/s 5400 RPM 256 MB Cache  Premium Plus  \n",
       "4             AQ WereWolf NAS Internal Hard Drive HDD – 8.89 cm      Standard  \n",
       "5             AQ WereWolf NAS Internal Hard Drive HDD – 8.89 cm          Plus  \n",
       "6             AQ WereWolf NAS Internal Hard Drive HDD – 8.89 cm       Premium  \n",
       "7                                                  AQ Zion Saga      Standard  \n",
       "8                                                  AQ Zion Saga          Plus  \n",
       "9                                                  AQ Zion Saga       Premium  \n",
       "10                                              AQ Mforce Gen X    Standard 1  \n",
       "11                                              AQ Mforce Gen X    Standard 2  \n",
       "12                                              AQ Mforce Gen X    Standard 3  \n",
       "13                                              AQ Mforce Gen X        Plus 1  \n",
       "14                                              AQ Mforce Gen X        Plus 2  \n",
       "15                                              AQ Mforce Gen X        Plus 3  \n",
       "16                                              AQ Mforce Gen X     Premium 1  \n",
       "17                                              AQ Mforce Gen X     Premium 2  \n",
       "18                                              AQ Mforce Gen Y    Standard 1  \n",
       "19                                              AQ Mforce Gen Y    Standard 2  "
      ]
     },
     "execution_count": 59,
     "metadata": {},
     "output_type": "execute_result"
    }
   ],
   "source": [
    "query=\"\"\"Select * from \n",
    "dim_product\n",
    "\"\"\"\n",
    "product=pd.read_sql_query(query, con)\n",
    "product.head(20)"
   ]
  },
  {
   "cell_type": "code",
   "execution_count": 60,
   "id": "50838d7b",
   "metadata": {},
   "outputs": [
    {
     "data": {
      "text/html": [
       "<div>\n",
       "<style scoped>\n",
       "    .dataframe tbody tr th:only-of-type {\n",
       "        vertical-align: middle;\n",
       "    }\n",
       "\n",
       "    .dataframe tbody tr th {\n",
       "        vertical-align: top;\n",
       "    }\n",
       "\n",
       "    .dataframe thead th {\n",
       "        text-align: right;\n",
       "    }\n",
       "</style>\n",
       "<table border=\"1\" class=\"dataframe\">\n",
       "  <thead>\n",
       "    <tr style=\"text-align: right;\">\n",
       "      <th></th>\n",
       "      <th>customer_code</th>\n",
       "      <th>fiscal_year</th>\n",
       "      <th>pre_invoice_discount_pct</th>\n",
       "    </tr>\n",
       "  </thead>\n",
       "  <tbody>\n",
       "    <tr>\n",
       "      <th>0</th>\n",
       "      <td>70002017</td>\n",
       "      <td>2018</td>\n",
       "      <td>0.08</td>\n",
       "    </tr>\n",
       "    <tr>\n",
       "      <th>1</th>\n",
       "      <td>70002017</td>\n",
       "      <td>2019</td>\n",
       "      <td>0.08</td>\n",
       "    </tr>\n",
       "    <tr>\n",
       "      <th>2</th>\n",
       "      <td>70002017</td>\n",
       "      <td>2020</td>\n",
       "      <td>0.07</td>\n",
       "    </tr>\n",
       "    <tr>\n",
       "      <th>3</th>\n",
       "      <td>70002017</td>\n",
       "      <td>2021</td>\n",
       "      <td>0.07</td>\n",
       "    </tr>\n",
       "    <tr>\n",
       "      <th>4</th>\n",
       "      <td>70002017</td>\n",
       "      <td>2022</td>\n",
       "      <td>0.11</td>\n",
       "    </tr>\n",
       "    <tr>\n",
       "      <th>5</th>\n",
       "      <td>70002018</td>\n",
       "      <td>2018</td>\n",
       "      <td>0.30</td>\n",
       "    </tr>\n",
       "    <tr>\n",
       "      <th>6</th>\n",
       "      <td>70002018</td>\n",
       "      <td>2019</td>\n",
       "      <td>0.26</td>\n",
       "    </tr>\n",
       "    <tr>\n",
       "      <th>7</th>\n",
       "      <td>70002018</td>\n",
       "      <td>2020</td>\n",
       "      <td>0.23</td>\n",
       "    </tr>\n",
       "    <tr>\n",
       "      <th>8</th>\n",
       "      <td>70002018</td>\n",
       "      <td>2021</td>\n",
       "      <td>0.21</td>\n",
       "    </tr>\n",
       "    <tr>\n",
       "      <th>9</th>\n",
       "      <td>70002018</td>\n",
       "      <td>2022</td>\n",
       "      <td>0.29</td>\n",
       "    </tr>\n",
       "  </tbody>\n",
       "</table>\n",
       "</div>"
      ],
      "text/plain": [
       "   customer_code  fiscal_year  pre_invoice_discount_pct\n",
       "0       70002017         2018                      0.08\n",
       "1       70002017         2019                      0.08\n",
       "2       70002017         2020                      0.07\n",
       "3       70002017         2021                      0.07\n",
       "4       70002017         2022                      0.11\n",
       "5       70002018         2018                      0.30\n",
       "6       70002018         2019                      0.26\n",
       "7       70002018         2020                      0.23\n",
       "8       70002018         2021                      0.21\n",
       "9       70002018         2022                      0.29"
      ]
     },
     "execution_count": 60,
     "metadata": {},
     "output_type": "execute_result"
    }
   ],
   "source": [
    "query=\"\"\"Select * from \n",
    "fact_pre_discount\n",
    "\"\"\"\n",
    "discount=pd.read_sql_query(query, con)\n",
    "discount.head(10)"
   ]
  },
  {
   "cell_type": "code",
   "execution_count": 61,
   "id": "a1c585e4",
   "metadata": {},
   "outputs": [
    {
     "data": {
      "text/html": [
       "<div>\n",
       "<style scoped>\n",
       "    .dataframe tbody tr th:only-of-type {\n",
       "        vertical-align: middle;\n",
       "    }\n",
       "\n",
       "    .dataframe tbody tr th {\n",
       "        vertical-align: top;\n",
       "    }\n",
       "\n",
       "    .dataframe thead th {\n",
       "        text-align: right;\n",
       "    }\n",
       "</style>\n",
       "<table border=\"1\" class=\"dataframe\">\n",
       "  <thead>\n",
       "    <tr style=\"text-align: right;\">\n",
       "      <th></th>\n",
       "      <th>product_code</th>\n",
       "      <th>cost_year</th>\n",
       "      <th>manufacturing_cost</th>\n",
       "    </tr>\n",
       "  </thead>\n",
       "  <tbody>\n",
       "    <tr>\n",
       "      <th>0</th>\n",
       "      <td>A0118150101</td>\n",
       "      <td>2018</td>\n",
       "      <td>4.62</td>\n",
       "    </tr>\n",
       "    <tr>\n",
       "      <th>1</th>\n",
       "      <td>A0118150101</td>\n",
       "      <td>2019</td>\n",
       "      <td>4.20</td>\n",
       "    </tr>\n",
       "    <tr>\n",
       "      <th>2</th>\n",
       "      <td>A0118150101</td>\n",
       "      <td>2020</td>\n",
       "      <td>5.02</td>\n",
       "    </tr>\n",
       "    <tr>\n",
       "      <th>3</th>\n",
       "      <td>A0118150101</td>\n",
       "      <td>2021</td>\n",
       "      <td>5.52</td>\n",
       "    </tr>\n",
       "    <tr>\n",
       "      <th>4</th>\n",
       "      <td>A0118150102</td>\n",
       "      <td>2018</td>\n",
       "      <td>5.60</td>\n",
       "    </tr>\n",
       "    <tr>\n",
       "      <th>5</th>\n",
       "      <td>A0118150102</td>\n",
       "      <td>2019</td>\n",
       "      <td>5.32</td>\n",
       "    </tr>\n",
       "    <tr>\n",
       "      <th>6</th>\n",
       "      <td>A0118150102</td>\n",
       "      <td>2020</td>\n",
       "      <td>5.72</td>\n",
       "    </tr>\n",
       "    <tr>\n",
       "      <th>7</th>\n",
       "      <td>A0118150102</td>\n",
       "      <td>2021</td>\n",
       "      <td>6.28</td>\n",
       "    </tr>\n",
       "    <tr>\n",
       "      <th>8</th>\n",
       "      <td>A0118150103</td>\n",
       "      <td>2018</td>\n",
       "      <td>5.95</td>\n",
       "    </tr>\n",
       "    <tr>\n",
       "      <th>9</th>\n",
       "      <td>A0118150103</td>\n",
       "      <td>2019</td>\n",
       "      <td>5.53</td>\n",
       "    </tr>\n",
       "  </tbody>\n",
       "</table>\n",
       "</div>"
      ],
      "text/plain": [
       "  product_code  cost_year  manufacturing_cost\n",
       "0  A0118150101       2018                4.62\n",
       "1  A0118150101       2019                4.20\n",
       "2  A0118150101       2020                5.02\n",
       "3  A0118150101       2021                5.52\n",
       "4  A0118150102       2018                5.60\n",
       "5  A0118150102       2019                5.32\n",
       "6  A0118150102       2020                5.72\n",
       "7  A0118150102       2021                6.28\n",
       "8  A0118150103       2018                5.95\n",
       "9  A0118150103       2019                5.53"
      ]
     },
     "execution_count": 61,
     "metadata": {},
     "output_type": "execute_result"
    }
   ],
   "source": [
    "query=\"\"\"Select * from \n",
    "fact_manufacturing_cost\n",
    "\"\"\"\n",
    "cost=pd.read_sql_query(query, con)\n",
    "cost.head(10)"
   ]
  },
  {
   "cell_type": "code",
   "execution_count": 62,
   "id": "f62d976a",
   "metadata": {},
   "outputs": [
    {
     "data": {
      "text/html": [
       "<div>\n",
       "<style scoped>\n",
       "    .dataframe tbody tr th:only-of-type {\n",
       "        vertical-align: middle;\n",
       "    }\n",
       "\n",
       "    .dataframe tbody tr th {\n",
       "        vertical-align: top;\n",
       "    }\n",
       "\n",
       "    .dataframe thead th {\n",
       "        text-align: right;\n",
       "    }\n",
       "</style>\n",
       "<table border=\"1\" class=\"dataframe\">\n",
       "  <thead>\n",
       "    <tr style=\"text-align: right;\">\n",
       "      <th></th>\n",
       "      <th>product_code</th>\n",
       "      <th>fiscal_year</th>\n",
       "      <th>gross_price</th>\n",
       "    </tr>\n",
       "  </thead>\n",
       "  <tbody>\n",
       "    <tr>\n",
       "      <th>0</th>\n",
       "      <td>A0118150101</td>\n",
       "      <td>2018</td>\n",
       "      <td>15.40</td>\n",
       "    </tr>\n",
       "    <tr>\n",
       "      <th>1</th>\n",
       "      <td>A0118150101</td>\n",
       "      <td>2019</td>\n",
       "      <td>14.44</td>\n",
       "    </tr>\n",
       "    <tr>\n",
       "      <th>2</th>\n",
       "      <td>A0118150101</td>\n",
       "      <td>2020</td>\n",
       "      <td>16.23</td>\n",
       "    </tr>\n",
       "    <tr>\n",
       "      <th>3</th>\n",
       "      <td>A0118150101</td>\n",
       "      <td>2021</td>\n",
       "      <td>19.06</td>\n",
       "    </tr>\n",
       "    <tr>\n",
       "      <th>4</th>\n",
       "      <td>A0118150102</td>\n",
       "      <td>2018</td>\n",
       "      <td>19.59</td>\n",
       "    </tr>\n",
       "    <tr>\n",
       "      <th>5</th>\n",
       "      <td>A0118150102</td>\n",
       "      <td>2019</td>\n",
       "      <td>18.56</td>\n",
       "    </tr>\n",
       "    <tr>\n",
       "      <th>6</th>\n",
       "      <td>A0118150102</td>\n",
       "      <td>2020</td>\n",
       "      <td>19.86</td>\n",
       "    </tr>\n",
       "    <tr>\n",
       "      <th>7</th>\n",
       "      <td>A0118150102</td>\n",
       "      <td>2021</td>\n",
       "      <td>21.46</td>\n",
       "    </tr>\n",
       "    <tr>\n",
       "      <th>8</th>\n",
       "      <td>A0118150103</td>\n",
       "      <td>2018</td>\n",
       "      <td>19.36</td>\n",
       "    </tr>\n",
       "    <tr>\n",
       "      <th>9</th>\n",
       "      <td>A0118150103</td>\n",
       "      <td>2019</td>\n",
       "      <td>19.34</td>\n",
       "    </tr>\n",
       "  </tbody>\n",
       "</table>\n",
       "</div>"
      ],
      "text/plain": [
       "  product_code  fiscal_year  gross_price\n",
       "0  A0118150101         2018        15.40\n",
       "1  A0118150101         2019        14.44\n",
       "2  A0118150101         2020        16.23\n",
       "3  A0118150101         2021        19.06\n",
       "4  A0118150102         2018        19.59\n",
       "5  A0118150102         2019        18.56\n",
       "6  A0118150102         2020        19.86\n",
       "7  A0118150102         2021        21.46\n",
       "8  A0118150103         2018        19.36\n",
       "9  A0118150103         2019        19.34"
      ]
     },
     "execution_count": 62,
     "metadata": {},
     "output_type": "execute_result"
    }
   ],
   "source": [
    "query=\"\"\"Select * from \n",
    "fact_gross_price\n",
    "\"\"\"\n",
    "price=pd.read_sql_query(query, con)\n",
    "price.head(10)"
   ]
  },
  {
   "cell_type": "code",
   "execution_count": 63,
   "id": "d06a17f3",
   "metadata": {},
   "outputs": [
    {
     "data": {
      "text/html": [
       "<div>\n",
       "<style scoped>\n",
       "    .dataframe tbody tr th:only-of-type {\n",
       "        vertical-align: middle;\n",
       "    }\n",
       "\n",
       "    .dataframe tbody tr th {\n",
       "        vertical-align: top;\n",
       "    }\n",
       "\n",
       "    .dataframe thead th {\n",
       "        text-align: right;\n",
       "    }\n",
       "</style>\n",
       "<table border=\"1\" class=\"dataframe\">\n",
       "  <thead>\n",
       "    <tr style=\"text-align: right;\">\n",
       "      <th></th>\n",
       "      <th>date</th>\n",
       "      <th>product_code</th>\n",
       "      <th>customer_code</th>\n",
       "      <th>sold_quantity</th>\n",
       "      <th>fiscal_year</th>\n",
       "    </tr>\n",
       "  </thead>\n",
       "  <tbody>\n",
       "    <tr>\n",
       "      <th>0</th>\n",
       "      <td>2017-09-01</td>\n",
       "      <td>A0118150101</td>\n",
       "      <td>70002017.00</td>\n",
       "      <td>51.00</td>\n",
       "      <td>2018.00</td>\n",
       "    </tr>\n",
       "    <tr>\n",
       "      <th>1</th>\n",
       "      <td>2017-09-01</td>\n",
       "      <td>A0118150101</td>\n",
       "      <td>70002018.00</td>\n",
       "      <td>77.00</td>\n",
       "      <td>2018.00</td>\n",
       "    </tr>\n",
       "    <tr>\n",
       "      <th>2</th>\n",
       "      <td>2017-09-01</td>\n",
       "      <td>A0118150101</td>\n",
       "      <td>70003181.00</td>\n",
       "      <td>17.00</td>\n",
       "      <td>2018.00</td>\n",
       "    </tr>\n",
       "    <tr>\n",
       "      <th>3</th>\n",
       "      <td>2017-09-01</td>\n",
       "      <td>A0118150101</td>\n",
       "      <td>70003182.00</td>\n",
       "      <td>6.00</td>\n",
       "      <td>2018.00</td>\n",
       "    </tr>\n",
       "    <tr>\n",
       "      <th>4</th>\n",
       "      <td>2017-09-01</td>\n",
       "      <td>A0118150101</td>\n",
       "      <td>70006157.00</td>\n",
       "      <td>5.00</td>\n",
       "      <td>2018.00</td>\n",
       "    </tr>\n",
       "    <tr>\n",
       "      <th>5</th>\n",
       "      <td>2017-09-01</td>\n",
       "      <td>A0118150101</td>\n",
       "      <td>70006158.00</td>\n",
       "      <td>7.00</td>\n",
       "      <td>2018.00</td>\n",
       "    </tr>\n",
       "    <tr>\n",
       "      <th>6</th>\n",
       "      <td>2017-09-01</td>\n",
       "      <td>A0118150101</td>\n",
       "      <td>70007198.00</td>\n",
       "      <td>29.00</td>\n",
       "      <td>2018.00</td>\n",
       "    </tr>\n",
       "    <tr>\n",
       "      <th>7</th>\n",
       "      <td>2017-09-01</td>\n",
       "      <td>A0118150101</td>\n",
       "      <td>70007199.00</td>\n",
       "      <td>34.00</td>\n",
       "      <td>2018.00</td>\n",
       "    </tr>\n",
       "    <tr>\n",
       "      <th>8</th>\n",
       "      <td>2017-09-01</td>\n",
       "      <td>A0118150101</td>\n",
       "      <td>70008169.00</td>\n",
       "      <td>22.00</td>\n",
       "      <td>2018.00</td>\n",
       "    </tr>\n",
       "    <tr>\n",
       "      <th>9</th>\n",
       "      <td>2017-09-01</td>\n",
       "      <td>A0118150101</td>\n",
       "      <td>70008170.00</td>\n",
       "      <td>5.00</td>\n",
       "      <td>2018.00</td>\n",
       "    </tr>\n",
       "  </tbody>\n",
       "</table>\n",
       "</div>"
      ],
      "text/plain": [
       "         date product_code  customer_code  sold_quantity  fiscal_year\n",
       "0  2017-09-01  A0118150101    70002017.00          51.00      2018.00\n",
       "1  2017-09-01  A0118150101    70002018.00          77.00      2018.00\n",
       "2  2017-09-01  A0118150101    70003181.00          17.00      2018.00\n",
       "3  2017-09-01  A0118150101    70003182.00           6.00      2018.00\n",
       "4  2017-09-01  A0118150101    70006157.00           5.00      2018.00\n",
       "5  2017-09-01  A0118150101    70006158.00           7.00      2018.00\n",
       "6  2017-09-01  A0118150101    70007198.00          29.00      2018.00\n",
       "7  2017-09-01  A0118150101    70007199.00          34.00      2018.00\n",
       "8  2017-09-01  A0118150101    70008169.00          22.00      2018.00\n",
       "9  2017-09-01  A0118150101    70008170.00           5.00      2018.00"
      ]
     },
     "execution_count": 63,
     "metadata": {},
     "output_type": "execute_result"
    }
   ],
   "source": [
    "query=\"\"\"Select * from \n",
    "fact_sales_monthly\n",
    "\"\"\"\n",
    "sales=pd.read_sql_query(query, con)\n",
    "sales.head(10)"
   ]
  },
  {
   "cell_type": "markdown",
   "id": "f64ef79e",
   "metadata": {},
   "source": [
    "[('dim_customer',), ('dim_product',), ('fact_pre_discount',), ('fact_manufacturing_cost',), ('fact_gross_price',), ('fact_sales_monthly',)]"
   ]
  },
  {
   "cell_type": "markdown",
   "id": "ef142115",
   "metadata": {},
   "source": [
    "## Data Cleaning and Preparation:"
   ]
  },
  {
   "cell_type": "markdown",
   "id": "86ca7482",
   "metadata": {},
   "source": [
    "In the data cleaning stage we will examine each database for missing (null) values and duplicate rows.  We will also change number data to type integer and float."
   ]
  },
  {
   "cell_type": "code",
   "execution_count": 64,
   "id": "44fdbdaf",
   "metadata": {},
   "outputs": [
    {
     "name": "stdout",
     "output_type": "stream",
     "text": [
      "<class 'pandas.core.frame.DataFrame'>\n",
      "RangeIndex: 397 entries, 0 to 396\n",
      "Data columns (total 6 columns):\n",
      " #   Column        Non-Null Count  Dtype \n",
      "---  ------        --------------  ----- \n",
      " 0   product_code  397 non-null    object\n",
      " 1   division      397 non-null    object\n",
      " 2   segment       397 non-null    object\n",
      " 3   category      397 non-null    object\n",
      " 4   product       397 non-null    object\n",
      " 5   variant       397 non-null    object\n",
      "dtypes: object(6)\n",
      "memory usage: 18.7+ KB\n"
     ]
    }
   ],
   "source": [
    "product.info()"
   ]
  },
  {
   "cell_type": "code",
   "execution_count": 65,
   "id": "6399115f",
   "metadata": {},
   "outputs": [
    {
     "data": {
      "text/plain": [
       "product_code    0\n",
       "division        0\n",
       "segment         0\n",
       "category        0\n",
       "product         0\n",
       "variant         0\n",
       "dtype: int64"
      ]
     },
     "execution_count": 65,
     "metadata": {},
     "output_type": "execute_result"
    }
   ],
   "source": [
    "product.isnull().sum()"
   ]
  },
  {
   "cell_type": "code",
   "execution_count": 66,
   "id": "ccd966bc",
   "metadata": {},
   "outputs": [
    {
     "data": {
      "text/plain": [
       "0"
      ]
     },
     "execution_count": 66,
     "metadata": {},
     "output_type": "execute_result"
    }
   ],
   "source": [
    "product.duplicated().sum()"
   ]
  },
  {
   "cell_type": "markdown",
   "id": "35d73721",
   "metadata": {},
   "source": [
    "The products table contains no duplicates or null rows.  The product code contains letters and numbers so it can't be changed to an integer datatype."
   ]
  },
  {
   "cell_type": "code",
   "execution_count": 67,
   "id": "8b599aaa",
   "metadata": {},
   "outputs": [],
   "source": [
    "def EDA(df):\n",
    "    display(df.head(5))\n",
    "    print(df.info())\n",
    "    print()\n",
    "    print('null rows:')\n",
    "    print()\n",
    "    print(df.isnull().sum())\n",
    "    print()\n",
    "    print('duplicate rows:')\n",
    "    print()\n",
    "    print(df.duplicated().sum())"
   ]
  },
  {
   "cell_type": "code",
   "execution_count": 68,
   "id": "959832ad",
   "metadata": {},
   "outputs": [
    {
     "data": {
      "text/html": [
       "<div>\n",
       "<style scoped>\n",
       "    .dataframe tbody tr th:only-of-type {\n",
       "        vertical-align: middle;\n",
       "    }\n",
       "\n",
       "    .dataframe tbody tr th {\n",
       "        vertical-align: top;\n",
       "    }\n",
       "\n",
       "    .dataframe thead th {\n",
       "        text-align: right;\n",
       "    }\n",
       "</style>\n",
       "<table border=\"1\" class=\"dataframe\">\n",
       "  <thead>\n",
       "    <tr style=\"text-align: right;\">\n",
       "      <th></th>\n",
       "      <th>product_code</th>\n",
       "      <th>division</th>\n",
       "      <th>segment</th>\n",
       "      <th>category</th>\n",
       "      <th>product</th>\n",
       "      <th>variant</th>\n",
       "    </tr>\n",
       "  </thead>\n",
       "  <tbody>\n",
       "    <tr>\n",
       "      <th>0</th>\n",
       "      <td>A0118150101</td>\n",
       "      <td>P &amp; A</td>\n",
       "      <td>Peripherals</td>\n",
       "      <td>Internal HDD</td>\n",
       "      <td>AQ Dracula HDD – 3.5 Inch SATA 6 Gb/s 5400 RPM 256 MB Cache</td>\n",
       "      <td>Standard</td>\n",
       "    </tr>\n",
       "    <tr>\n",
       "      <th>1</th>\n",
       "      <td>A0118150102</td>\n",
       "      <td>P &amp; A</td>\n",
       "      <td>Peripherals</td>\n",
       "      <td>Internal HDD</td>\n",
       "      <td>AQ Dracula HDD – 3.5 Inch SATA 6 Gb/s 5400 RPM 256 MB Cache</td>\n",
       "      <td>Plus</td>\n",
       "    </tr>\n",
       "    <tr>\n",
       "      <th>2</th>\n",
       "      <td>A0118150103</td>\n",
       "      <td>P &amp; A</td>\n",
       "      <td>Peripherals</td>\n",
       "      <td>Internal HDD</td>\n",
       "      <td>AQ Dracula HDD – 3.5 Inch SATA 6 Gb/s 5400 RPM 256 MB Cache</td>\n",
       "      <td>Premium</td>\n",
       "    </tr>\n",
       "    <tr>\n",
       "      <th>3</th>\n",
       "      <td>A0118150104</td>\n",
       "      <td>P &amp; A</td>\n",
       "      <td>Peripherals</td>\n",
       "      <td>Internal HDD</td>\n",
       "      <td>AQ Dracula HDD – 3.5 Inch SATA 6 Gb/s 5400 RPM 256 MB Cache</td>\n",
       "      <td>Premium Plus</td>\n",
       "    </tr>\n",
       "    <tr>\n",
       "      <th>4</th>\n",
       "      <td>A0219150201</td>\n",
       "      <td>P &amp; A</td>\n",
       "      <td>Peripherals</td>\n",
       "      <td>Internal HDD</td>\n",
       "      <td>AQ WereWolf NAS Internal Hard Drive HDD – 8.89 cm</td>\n",
       "      <td>Standard</td>\n",
       "    </tr>\n",
       "  </tbody>\n",
       "</table>\n",
       "</div>"
      ],
      "text/plain": [
       "  product_code division      segment      category  \\\n",
       "0  A0118150101    P & A  Peripherals  Internal HDD   \n",
       "1  A0118150102    P & A  Peripherals  Internal HDD   \n",
       "2  A0118150103    P & A  Peripherals  Internal HDD   \n",
       "3  A0118150104    P & A  Peripherals  Internal HDD   \n",
       "4  A0219150201    P & A  Peripherals  Internal HDD   \n",
       "\n",
       "                                                       product       variant  \n",
       "0  AQ Dracula HDD – 3.5 Inch SATA 6 Gb/s 5400 RPM 256 MB Cache      Standard  \n",
       "1  AQ Dracula HDD – 3.5 Inch SATA 6 Gb/s 5400 RPM 256 MB Cache          Plus  \n",
       "2  AQ Dracula HDD – 3.5 Inch SATA 6 Gb/s 5400 RPM 256 MB Cache       Premium  \n",
       "3  AQ Dracula HDD – 3.5 Inch SATA 6 Gb/s 5400 RPM 256 MB Cache  Premium Plus  \n",
       "4            AQ WereWolf NAS Internal Hard Drive HDD – 8.89 cm      Standard  "
      ]
     },
     "metadata": {},
     "output_type": "display_data"
    },
    {
     "name": "stdout",
     "output_type": "stream",
     "text": [
      "<class 'pandas.core.frame.DataFrame'>\n",
      "RangeIndex: 397 entries, 0 to 396\n",
      "Data columns (total 6 columns):\n",
      " #   Column        Non-Null Count  Dtype \n",
      "---  ------        --------------  ----- \n",
      " 0   product_code  397 non-null    object\n",
      " 1   division      397 non-null    object\n",
      " 2   segment       397 non-null    object\n",
      " 3   category      397 non-null    object\n",
      " 4   product       397 non-null    object\n",
      " 5   variant       397 non-null    object\n",
      "dtypes: object(6)\n",
      "memory usage: 18.7+ KB\n",
      "None\n",
      "\n",
      "null rows:\n",
      "\n",
      "product_code    0\n",
      "division        0\n",
      "segment         0\n",
      "category        0\n",
      "product         0\n",
      "variant         0\n",
      "dtype: int64\n",
      "\n",
      "duplicate rows:\n",
      "\n",
      "0\n"
     ]
    }
   ],
   "source": [
    "EDA(product)"
   ]
  },
  {
   "cell_type": "code",
   "execution_count": 69,
   "id": "0a2778a4",
   "metadata": {},
   "outputs": [
    {
     "data": {
      "text/html": [
       "<div>\n",
       "<style scoped>\n",
       "    .dataframe tbody tr th:only-of-type {\n",
       "        vertical-align: middle;\n",
       "    }\n",
       "\n",
       "    .dataframe tbody tr th {\n",
       "        vertical-align: top;\n",
       "    }\n",
       "\n",
       "    .dataframe thead th {\n",
       "        text-align: right;\n",
       "    }\n",
       "</style>\n",
       "<table border=\"1\" class=\"dataframe\">\n",
       "  <thead>\n",
       "    <tr style=\"text-align: right;\">\n",
       "      <th></th>\n",
       "      <th>customer_code</th>\n",
       "      <th>fiscal_year</th>\n",
       "      <th>pre_invoice_discount_pct</th>\n",
       "    </tr>\n",
       "  </thead>\n",
       "  <tbody>\n",
       "    <tr>\n",
       "      <th>0</th>\n",
       "      <td>70002017</td>\n",
       "      <td>2018</td>\n",
       "      <td>0.08</td>\n",
       "    </tr>\n",
       "    <tr>\n",
       "      <th>1</th>\n",
       "      <td>70002017</td>\n",
       "      <td>2019</td>\n",
       "      <td>0.08</td>\n",
       "    </tr>\n",
       "    <tr>\n",
       "      <th>2</th>\n",
       "      <td>70002017</td>\n",
       "      <td>2020</td>\n",
       "      <td>0.07</td>\n",
       "    </tr>\n",
       "    <tr>\n",
       "      <th>3</th>\n",
       "      <td>70002017</td>\n",
       "      <td>2021</td>\n",
       "      <td>0.07</td>\n",
       "    </tr>\n",
       "    <tr>\n",
       "      <th>4</th>\n",
       "      <td>70002017</td>\n",
       "      <td>2022</td>\n",
       "      <td>0.11</td>\n",
       "    </tr>\n",
       "  </tbody>\n",
       "</table>\n",
       "</div>"
      ],
      "text/plain": [
       "   customer_code  fiscal_year  pre_invoice_discount_pct\n",
       "0       70002017         2018                      0.08\n",
       "1       70002017         2019                      0.08\n",
       "2       70002017         2020                      0.07\n",
       "3       70002017         2021                      0.07\n",
       "4       70002017         2022                      0.11"
      ]
     },
     "metadata": {},
     "output_type": "display_data"
    },
    {
     "name": "stdout",
     "output_type": "stream",
     "text": [
      "<class 'pandas.core.frame.DataFrame'>\n",
      "RangeIndex: 1045 entries, 0 to 1044\n",
      "Data columns (total 3 columns):\n",
      " #   Column                    Non-Null Count  Dtype  \n",
      "---  ------                    --------------  -----  \n",
      " 0   customer_code             1045 non-null   int64  \n",
      " 1   fiscal_year               1045 non-null   int64  \n",
      " 2   pre_invoice_discount_pct  1045 non-null   float64\n",
      "dtypes: float64(1), int64(2)\n",
      "memory usage: 24.6 KB\n",
      "None\n",
      "\n",
      "null rows:\n",
      "\n",
      "customer_code               0\n",
      "fiscal_year                 0\n",
      "pre_invoice_discount_pct    0\n",
      "dtype: int64\n",
      "\n",
      "duplicate rows:\n",
      "\n",
      "0\n"
     ]
    }
   ],
   "source": [
    "EDA(discount)"
   ]
  },
  {
   "cell_type": "markdown",
   "id": "6ad1c9dc",
   "metadata": {},
   "source": [
    "The 'fact_pre_discount' (discount) table has 1045 rows with no null or duplicate rows.  The data types are correct."
   ]
  },
  {
   "cell_type": "code",
   "execution_count": 70,
   "id": "12cb7ea0",
   "metadata": {},
   "outputs": [
    {
     "data": {
      "text/html": [
       "<div>\n",
       "<style scoped>\n",
       "    .dataframe tbody tr th:only-of-type {\n",
       "        vertical-align: middle;\n",
       "    }\n",
       "\n",
       "    .dataframe tbody tr th {\n",
       "        vertical-align: top;\n",
       "    }\n",
       "\n",
       "    .dataframe thead th {\n",
       "        text-align: right;\n",
       "    }\n",
       "</style>\n",
       "<table border=\"1\" class=\"dataframe\">\n",
       "  <thead>\n",
       "    <tr style=\"text-align: right;\">\n",
       "      <th></th>\n",
       "      <th>product_code</th>\n",
       "      <th>cost_year</th>\n",
       "      <th>manufacturing_cost</th>\n",
       "    </tr>\n",
       "  </thead>\n",
       "  <tbody>\n",
       "    <tr>\n",
       "      <th>0</th>\n",
       "      <td>A0118150101</td>\n",
       "      <td>2018</td>\n",
       "      <td>4.62</td>\n",
       "    </tr>\n",
       "    <tr>\n",
       "      <th>1</th>\n",
       "      <td>A0118150101</td>\n",
       "      <td>2019</td>\n",
       "      <td>4.20</td>\n",
       "    </tr>\n",
       "    <tr>\n",
       "      <th>2</th>\n",
       "      <td>A0118150101</td>\n",
       "      <td>2020</td>\n",
       "      <td>5.02</td>\n",
       "    </tr>\n",
       "    <tr>\n",
       "      <th>3</th>\n",
       "      <td>A0118150101</td>\n",
       "      <td>2021</td>\n",
       "      <td>5.52</td>\n",
       "    </tr>\n",
       "    <tr>\n",
       "      <th>4</th>\n",
       "      <td>A0118150102</td>\n",
       "      <td>2018</td>\n",
       "      <td>5.60</td>\n",
       "    </tr>\n",
       "  </tbody>\n",
       "</table>\n",
       "</div>"
      ],
      "text/plain": [
       "  product_code  cost_year  manufacturing_cost\n",
       "0  A0118150101       2018                4.62\n",
       "1  A0118150101       2019                4.20\n",
       "2  A0118150101       2020                5.02\n",
       "3  A0118150101       2021                5.52\n",
       "4  A0118150102       2018                5.60"
      ]
     },
     "metadata": {},
     "output_type": "display_data"
    },
    {
     "name": "stdout",
     "output_type": "stream",
     "text": [
      "<class 'pandas.core.frame.DataFrame'>\n",
      "RangeIndex: 1182 entries, 0 to 1181\n",
      "Data columns (total 3 columns):\n",
      " #   Column              Non-Null Count  Dtype  \n",
      "---  ------              --------------  -----  \n",
      " 0   product_code        1182 non-null   object \n",
      " 1   cost_year           1182 non-null   int64  \n",
      " 2   manufacturing_cost  1182 non-null   float64\n",
      "dtypes: float64(1), int64(1), object(1)\n",
      "memory usage: 27.8+ KB\n",
      "None\n",
      "\n",
      "null rows:\n",
      "\n",
      "product_code          0\n",
      "cost_year             0\n",
      "manufacturing_cost    0\n",
      "dtype: int64\n",
      "\n",
      "duplicate rows:\n",
      "\n",
      "0\n"
     ]
    }
   ],
   "source": [
    "EDA(cost)"
   ]
  },
  {
   "cell_type": "markdown",
   "id": "bb0685df",
   "metadata": {},
   "source": [
    "The 'fact_manufacturing_cost' (cost) table has 1182 rows with no null or duplicate rows.  The data types are correct."
   ]
  },
  {
   "cell_type": "code",
   "execution_count": 71,
   "id": "bb5fd46a",
   "metadata": {},
   "outputs": [
    {
     "data": {
      "text/html": [
       "<div>\n",
       "<style scoped>\n",
       "    .dataframe tbody tr th:only-of-type {\n",
       "        vertical-align: middle;\n",
       "    }\n",
       "\n",
       "    .dataframe tbody tr th {\n",
       "        vertical-align: top;\n",
       "    }\n",
       "\n",
       "    .dataframe thead th {\n",
       "        text-align: right;\n",
       "    }\n",
       "</style>\n",
       "<table border=\"1\" class=\"dataframe\">\n",
       "  <thead>\n",
       "    <tr style=\"text-align: right;\">\n",
       "      <th></th>\n",
       "      <th>product_code</th>\n",
       "      <th>fiscal_year</th>\n",
       "      <th>gross_price</th>\n",
       "    </tr>\n",
       "  </thead>\n",
       "  <tbody>\n",
       "    <tr>\n",
       "      <th>0</th>\n",
       "      <td>A0118150101</td>\n",
       "      <td>2018</td>\n",
       "      <td>15.40</td>\n",
       "    </tr>\n",
       "    <tr>\n",
       "      <th>1</th>\n",
       "      <td>A0118150101</td>\n",
       "      <td>2019</td>\n",
       "      <td>14.44</td>\n",
       "    </tr>\n",
       "    <tr>\n",
       "      <th>2</th>\n",
       "      <td>A0118150101</td>\n",
       "      <td>2020</td>\n",
       "      <td>16.23</td>\n",
       "    </tr>\n",
       "    <tr>\n",
       "      <th>3</th>\n",
       "      <td>A0118150101</td>\n",
       "      <td>2021</td>\n",
       "      <td>19.06</td>\n",
       "    </tr>\n",
       "    <tr>\n",
       "      <th>4</th>\n",
       "      <td>A0118150102</td>\n",
       "      <td>2018</td>\n",
       "      <td>19.59</td>\n",
       "    </tr>\n",
       "  </tbody>\n",
       "</table>\n",
       "</div>"
      ],
      "text/plain": [
       "  product_code  fiscal_year  gross_price\n",
       "0  A0118150101         2018        15.40\n",
       "1  A0118150101         2019        14.44\n",
       "2  A0118150101         2020        16.23\n",
       "3  A0118150101         2021        19.06\n",
       "4  A0118150102         2018        19.59"
      ]
     },
     "metadata": {},
     "output_type": "display_data"
    },
    {
     "name": "stdout",
     "output_type": "stream",
     "text": [
      "<class 'pandas.core.frame.DataFrame'>\n",
      "RangeIndex: 1182 entries, 0 to 1181\n",
      "Data columns (total 3 columns):\n",
      " #   Column        Non-Null Count  Dtype  \n",
      "---  ------        --------------  -----  \n",
      " 0   product_code  1182 non-null   object \n",
      " 1   fiscal_year   1182 non-null   int64  \n",
      " 2   gross_price   1182 non-null   float64\n",
      "dtypes: float64(1), int64(1), object(1)\n",
      "memory usage: 27.8+ KB\n",
      "None\n",
      "\n",
      "null rows:\n",
      "\n",
      "product_code    0\n",
      "fiscal_year     0\n",
      "gross_price     0\n",
      "dtype: int64\n",
      "\n",
      "duplicate rows:\n",
      "\n",
      "0\n"
     ]
    }
   ],
   "source": [
    "EDA(price)"
   ]
  },
  {
   "cell_type": "markdown",
   "id": "e77aa35d",
   "metadata": {},
   "source": [
    "The 'fact_gross_price' (price) table has 1182 rows with no null or duplicate rows.  The data types are correct."
   ]
  },
  {
   "cell_type": "code",
   "execution_count": 72,
   "id": "d0a55092",
   "metadata": {},
   "outputs": [
    {
     "data": {
      "text/html": [
       "<div>\n",
       "<style scoped>\n",
       "    .dataframe tbody tr th:only-of-type {\n",
       "        vertical-align: middle;\n",
       "    }\n",
       "\n",
       "    .dataframe tbody tr th {\n",
       "        vertical-align: top;\n",
       "    }\n",
       "\n",
       "    .dataframe thead th {\n",
       "        text-align: right;\n",
       "    }\n",
       "</style>\n",
       "<table border=\"1\" class=\"dataframe\">\n",
       "  <thead>\n",
       "    <tr style=\"text-align: right;\">\n",
       "      <th></th>\n",
       "      <th>date</th>\n",
       "      <th>product_code</th>\n",
       "      <th>customer_code</th>\n",
       "      <th>sold_quantity</th>\n",
       "      <th>fiscal_year</th>\n",
       "    </tr>\n",
       "  </thead>\n",
       "  <tbody>\n",
       "    <tr>\n",
       "      <th>0</th>\n",
       "      <td>2017-09-01</td>\n",
       "      <td>A0118150101</td>\n",
       "      <td>70002017.00</td>\n",
       "      <td>51.00</td>\n",
       "      <td>2018.00</td>\n",
       "    </tr>\n",
       "    <tr>\n",
       "      <th>1</th>\n",
       "      <td>2017-09-01</td>\n",
       "      <td>A0118150101</td>\n",
       "      <td>70002018.00</td>\n",
       "      <td>77.00</td>\n",
       "      <td>2018.00</td>\n",
       "    </tr>\n",
       "    <tr>\n",
       "      <th>2</th>\n",
       "      <td>2017-09-01</td>\n",
       "      <td>A0118150101</td>\n",
       "      <td>70003181.00</td>\n",
       "      <td>17.00</td>\n",
       "      <td>2018.00</td>\n",
       "    </tr>\n",
       "    <tr>\n",
       "      <th>3</th>\n",
       "      <td>2017-09-01</td>\n",
       "      <td>A0118150101</td>\n",
       "      <td>70003182.00</td>\n",
       "      <td>6.00</td>\n",
       "      <td>2018.00</td>\n",
       "    </tr>\n",
       "    <tr>\n",
       "      <th>4</th>\n",
       "      <td>2017-09-01</td>\n",
       "      <td>A0118150101</td>\n",
       "      <td>70006157.00</td>\n",
       "      <td>5.00</td>\n",
       "      <td>2018.00</td>\n",
       "    </tr>\n",
       "  </tbody>\n",
       "</table>\n",
       "</div>"
      ],
      "text/plain": [
       "         date product_code  customer_code  sold_quantity  fiscal_year\n",
       "0  2017-09-01  A0118150101    70002017.00          51.00      2018.00\n",
       "1  2017-09-01  A0118150101    70002018.00          77.00      2018.00\n",
       "2  2017-09-01  A0118150101    70003181.00          17.00      2018.00\n",
       "3  2017-09-01  A0118150101    70003182.00           6.00      2018.00\n",
       "4  2017-09-01  A0118150101    70006157.00           5.00      2018.00"
      ]
     },
     "metadata": {},
     "output_type": "display_data"
    },
    {
     "name": "stdout",
     "output_type": "stream",
     "text": [
      "<class 'pandas.core.frame.DataFrame'>\n",
      "RangeIndex: 67251 entries, 0 to 67250\n",
      "Data columns (total 5 columns):\n",
      " #   Column         Non-Null Count  Dtype  \n",
      "---  ------         --------------  -----  \n",
      " 0   date           67251 non-null  object \n",
      " 1   product_code   67251 non-null  object \n",
      " 2   customer_code  67250 non-null  float64\n",
      " 3   sold_quantity  67250 non-null  float64\n",
      " 4   fiscal_year    67250 non-null  float64\n",
      "dtypes: float64(3), object(2)\n",
      "memory usage: 2.6+ MB\n",
      "None\n",
      "\n",
      "null rows:\n",
      "\n",
      "date             0\n",
      "product_code     0\n",
      "customer_code    1\n",
      "sold_quantity    1\n",
      "fiscal_year      1\n",
      "dtype: int64\n",
      "\n",
      "duplicate rows:\n",
      "\n",
      "0\n"
     ]
    }
   ],
   "source": [
    "EDA(sales)"
   ]
  },
  {
   "cell_type": "markdown",
   "id": "9f785d92",
   "metadata": {},
   "source": [
    "The 'fact_sales_monthly' (discount) table has 67251 rows with duplicate rows.  However, there are 3 null vales, one in each of the columns for customer_code, sold_quantity and fiscal_year.  Additionally, the data types need to be corrected.  Date needs to be datetime and customer_code, sold_quantity and fiscal_year need to be changed to integers."
   ]
  },
  {
   "cell_type": "code",
   "execution_count": 73,
   "id": "3654f96e",
   "metadata": {},
   "outputs": [
    {
     "name": "stderr",
     "output_type": "stream",
     "text": [
      "/var/folders/fm/f46spdfj3pd95vp2q35zp1y40000gn/T/ipykernel_75872/1188026737.py:3: RuntimeWarning:\n",
      "\n",
      "invalid value encountered in cast\n",
      "\n",
      "/var/folders/fm/f46spdfj3pd95vp2q35zp1y40000gn/T/ipykernel_75872/1188026737.py:4: RuntimeWarning:\n",
      "\n",
      "invalid value encountered in cast\n",
      "\n",
      "/var/folders/fm/f46spdfj3pd95vp2q35zp1y40000gn/T/ipykernel_75872/1188026737.py:5: RuntimeWarning:\n",
      "\n",
      "invalid value encountered in cast\n",
      "\n"
     ]
    }
   ],
   "source": [
    "#correcting data types\n",
    "sales['date'] = sales['date'].values.astype('datetime64[D]')\n",
    "sales['customer_code'] = sales['customer_code'].values.astype('int')\n",
    "sales['sold_quantity'] = sales['sold_quantity'].values.astype('int')\n",
    "sales['fiscal_year'] = sales['fiscal_year'].values.astype('int')"
   ]
  },
  {
   "cell_type": "code",
   "execution_count": 74,
   "id": "3a6a68f6",
   "metadata": {},
   "outputs": [
    {
     "data": {
      "text/html": [
       "<div>\n",
       "<style scoped>\n",
       "    .dataframe tbody tr th:only-of-type {\n",
       "        vertical-align: middle;\n",
       "    }\n",
       "\n",
       "    .dataframe tbody tr th {\n",
       "        vertical-align: top;\n",
       "    }\n",
       "\n",
       "    .dataframe thead th {\n",
       "        text-align: right;\n",
       "    }\n",
       "</style>\n",
       "<table border=\"1\" class=\"dataframe\">\n",
       "  <thead>\n",
       "    <tr style=\"text-align: right;\">\n",
       "      <th></th>\n",
       "      <th>date</th>\n",
       "      <th>product_code</th>\n",
       "      <th>customer_code</th>\n",
       "      <th>sold_quantity</th>\n",
       "      <th>fiscal_year</th>\n",
       "    </tr>\n",
       "  </thead>\n",
       "  <tbody>\n",
       "    <tr>\n",
       "      <th>0</th>\n",
       "      <td>2017-09-01</td>\n",
       "      <td>A0118150101</td>\n",
       "      <td>70002017</td>\n",
       "      <td>51</td>\n",
       "      <td>2018</td>\n",
       "    </tr>\n",
       "    <tr>\n",
       "      <th>1</th>\n",
       "      <td>2017-09-01</td>\n",
       "      <td>A0118150101</td>\n",
       "      <td>70002018</td>\n",
       "      <td>77</td>\n",
       "      <td>2018</td>\n",
       "    </tr>\n",
       "    <tr>\n",
       "      <th>2</th>\n",
       "      <td>2017-09-01</td>\n",
       "      <td>A0118150101</td>\n",
       "      <td>70003181</td>\n",
       "      <td>17</td>\n",
       "      <td>2018</td>\n",
       "    </tr>\n",
       "    <tr>\n",
       "      <th>3</th>\n",
       "      <td>2017-09-01</td>\n",
       "      <td>A0118150101</td>\n",
       "      <td>70003182</td>\n",
       "      <td>6</td>\n",
       "      <td>2018</td>\n",
       "    </tr>\n",
       "    <tr>\n",
       "      <th>4</th>\n",
       "      <td>2017-09-01</td>\n",
       "      <td>A0118150101</td>\n",
       "      <td>70006157</td>\n",
       "      <td>5</td>\n",
       "      <td>2018</td>\n",
       "    </tr>\n",
       "  </tbody>\n",
       "</table>\n",
       "</div>"
      ],
      "text/plain": [
       "        date product_code  customer_code  sold_quantity  fiscal_year\n",
       "0 2017-09-01  A0118150101       70002017             51         2018\n",
       "1 2017-09-01  A0118150101       70002018             77         2018\n",
       "2 2017-09-01  A0118150101       70003181             17         2018\n",
       "3 2017-09-01  A0118150101       70003182              6         2018\n",
       "4 2017-09-01  A0118150101       70006157              5         2018"
      ]
     },
     "execution_count": 74,
     "metadata": {},
     "output_type": "execute_result"
    }
   ],
   "source": [
    "sales.head()"
   ]
  },
  {
   "cell_type": "markdown",
   "id": "d0c88710",
   "metadata": {},
   "source": [
    "In this section we will identify the top-selling products based on sales volume and revenue.  The data for sales volume is located in the fact_sales_monthly database ('sales') and is divided by customer code.  If we also want revenue we need to add the gross price for the product from the fact_gross_price database.  To get actual revenue we will factor in the discount price in another section of this report.\n",
    "\n",
    "\n",
    "\n",
    "\n",
    "(later: We can use this to calculate the total sales and the cost from the fact_manufacturing_cost table )"
   ]
  },
  {
   "cell_type": "code",
   "execution_count": 75,
   "id": "72561075",
   "metadata": {},
   "outputs": [
    {
     "data": {
      "text/html": [
       "<div>\n",
       "<style scoped>\n",
       "    .dataframe tbody tr th:only-of-type {\n",
       "        vertical-align: middle;\n",
       "    }\n",
       "\n",
       "    .dataframe tbody tr th {\n",
       "        vertical-align: top;\n",
       "    }\n",
       "\n",
       "    .dataframe thead th {\n",
       "        text-align: right;\n",
       "    }\n",
       "</style>\n",
       "<table border=\"1\" class=\"dataframe\">\n",
       "  <thead>\n",
       "    <tr style=\"text-align: right;\">\n",
       "      <th></th>\n",
       "      <th>product_code</th>\n",
       "      <th>fiscal_year</th>\n",
       "      <th>gross_price</th>\n",
       "    </tr>\n",
       "  </thead>\n",
       "  <tbody>\n",
       "    <tr>\n",
       "      <th>0</th>\n",
       "      <td>A0118150101</td>\n",
       "      <td>2018</td>\n",
       "      <td>15.40</td>\n",
       "    </tr>\n",
       "    <tr>\n",
       "      <th>1</th>\n",
       "      <td>A0118150101</td>\n",
       "      <td>2019</td>\n",
       "      <td>14.44</td>\n",
       "    </tr>\n",
       "    <tr>\n",
       "      <th>2</th>\n",
       "      <td>A0118150101</td>\n",
       "      <td>2020</td>\n",
       "      <td>16.23</td>\n",
       "    </tr>\n",
       "    <tr>\n",
       "      <th>3</th>\n",
       "      <td>A0118150101</td>\n",
       "      <td>2021</td>\n",
       "      <td>19.06</td>\n",
       "    </tr>\n",
       "    <tr>\n",
       "      <th>4</th>\n",
       "      <td>A0118150102</td>\n",
       "      <td>2018</td>\n",
       "      <td>19.59</td>\n",
       "    </tr>\n",
       "  </tbody>\n",
       "</table>\n",
       "</div>"
      ],
      "text/plain": [
       "  product_code  fiscal_year  gross_price\n",
       "0  A0118150101         2018        15.40\n",
       "1  A0118150101         2019        14.44\n",
       "2  A0118150101         2020        16.23\n",
       "3  A0118150101         2021        19.06\n",
       "4  A0118150102         2018        19.59"
      ]
     },
     "execution_count": 75,
     "metadata": {},
     "output_type": "execute_result"
    }
   ],
   "source": [
    "price.head()"
   ]
  },
  {
   "cell_type": "markdown",
   "id": "efba1073",
   "metadata": {},
   "source": [
    "## Top product sold by quantity and revenue by year"
   ]
  },
  {
   "cell_type": "code",
   "execution_count": 76,
   "id": "b91c4631",
   "metadata": {},
   "outputs": [
    {
     "data": {
      "text/html": [
       "<div>\n",
       "<style scoped>\n",
       "    .dataframe tbody tr th:only-of-type {\n",
       "        vertical-align: middle;\n",
       "    }\n",
       "\n",
       "    .dataframe tbody tr th {\n",
       "        vertical-align: top;\n",
       "    }\n",
       "\n",
       "    .dataframe thead th {\n",
       "        text-align: right;\n",
       "    }\n",
       "</style>\n",
       "<table border=\"1\" class=\"dataframe\">\n",
       "  <thead>\n",
       "    <tr style=\"text-align: right;\">\n",
       "      <th></th>\n",
       "      <th>product_code</th>\n",
       "      <th>product</th>\n",
       "      <th>variant</th>\n",
       "      <th>fiscal_year</th>\n",
       "      <th>quantity_sold</th>\n",
       "      <th>total_revenue</th>\n",
       "    </tr>\n",
       "  </thead>\n",
       "  <tbody>\n",
       "    <tr>\n",
       "      <th>0</th>\n",
       "      <td>A0</td>\n",
       "      <td>None</td>\n",
       "      <td>None</td>\n",
       "      <td>NaN</td>\n",
       "      <td>NaN</td>\n",
       "      <td>NaN</td>\n",
       "    </tr>\n",
       "    <tr>\n",
       "      <th>1</th>\n",
       "      <td>A0118150101</td>\n",
       "      <td>AQ Dracula HDD – 3.5 Inch SATA 6 Gb/s 5400 RPM 256 MB Cache</td>\n",
       "      <td>Standard</td>\n",
       "      <td>2018.00</td>\n",
       "      <td>18664.00</td>\n",
       "      <td>287336.01</td>\n",
       "    </tr>\n",
       "    <tr>\n",
       "      <th>2</th>\n",
       "      <td>A0118150101</td>\n",
       "      <td>AQ Dracula HDD – 3.5 Inch SATA 6 Gb/s 5400 RPM 256 MB Cache</td>\n",
       "      <td>Standard</td>\n",
       "      <td>2019.00</td>\n",
       "      <td>41608.00</td>\n",
       "      <td>600786.23</td>\n",
       "    </tr>\n",
       "    <tr>\n",
       "      <th>3</th>\n",
       "      <td>A0118150101</td>\n",
       "      <td>AQ Dracula HDD – 3.5 Inch SATA 6 Gb/s 5400 RPM 256 MB Cache</td>\n",
       "      <td>Standard</td>\n",
       "      <td>2020.00</td>\n",
       "      <td>62631.00</td>\n",
       "      <td>1016645.18</td>\n",
       "    </tr>\n",
       "    <tr>\n",
       "      <th>4</th>\n",
       "      <td>A0118150101</td>\n",
       "      <td>AQ Dracula HDD – 3.5 Inch SATA 6 Gb/s 5400 RPM 256 MB Cache</td>\n",
       "      <td>Standard</td>\n",
       "      <td>2021.00</td>\n",
       "      <td>100039.00</td>\n",
       "      <td>1906473.23</td>\n",
       "    </tr>\n",
       "    <tr>\n",
       "      <th>5</th>\n",
       "      <td>A0118150102</td>\n",
       "      <td>AQ Dracula HDD – 3.5 Inch SATA 6 Gb/s 5400 RPM 256 MB Cache</td>\n",
       "      <td>Plus</td>\n",
       "      <td>2018.00</td>\n",
       "      <td>17953.00</td>\n",
       "      <td>351654.39</td>\n",
       "    </tr>\n",
       "    <tr>\n",
       "      <th>6</th>\n",
       "      <td>A0118150102</td>\n",
       "      <td>AQ Dracula HDD – 3.5 Inch SATA 6 Gb/s 5400 RPM 256 MB Cache</td>\n",
       "      <td>Plus</td>\n",
       "      <td>2019.00</td>\n",
       "      <td>41945.00</td>\n",
       "      <td>778478.23</td>\n",
       "    </tr>\n",
       "    <tr>\n",
       "      <th>7</th>\n",
       "      <td>A0118150102</td>\n",
       "      <td>AQ Dracula HDD – 3.5 Inch SATA 6 Gb/s 5400 RPM 256 MB Cache</td>\n",
       "      <td>Plus</td>\n",
       "      <td>2020.00</td>\n",
       "      <td>63902.00</td>\n",
       "      <td>1268946.75</td>\n",
       "    </tr>\n",
       "    <tr>\n",
       "      <th>8</th>\n",
       "      <td>A0118150102</td>\n",
       "      <td>AQ Dracula HDD – 3.5 Inch SATA 6 Gb/s 5400 RPM 256 MB Cache</td>\n",
       "      <td>Plus</td>\n",
       "      <td>2021.00</td>\n",
       "      <td>98124.00</td>\n",
       "      <td>2105397.61</td>\n",
       "    </tr>\n",
       "    <tr>\n",
       "      <th>9</th>\n",
       "      <td>A0118150103</td>\n",
       "      <td>AQ Dracula HDD – 3.5 Inch SATA 6 Gb/s 5400 RPM 256 MB Cache</td>\n",
       "      <td>Premium</td>\n",
       "      <td>2018.00</td>\n",
       "      <td>18754.00</td>\n",
       "      <td>363133.70</td>\n",
       "    </tr>\n",
       "  </tbody>\n",
       "</table>\n",
       "</div>"
      ],
      "text/plain": [
       "  product_code                                                      product  \\\n",
       "0           A0                                                         None   \n",
       "1  A0118150101  AQ Dracula HDD – 3.5 Inch SATA 6 Gb/s 5400 RPM 256 MB Cache   \n",
       "2  A0118150101  AQ Dracula HDD – 3.5 Inch SATA 6 Gb/s 5400 RPM 256 MB Cache   \n",
       "3  A0118150101  AQ Dracula HDD – 3.5 Inch SATA 6 Gb/s 5400 RPM 256 MB Cache   \n",
       "4  A0118150101  AQ Dracula HDD – 3.5 Inch SATA 6 Gb/s 5400 RPM 256 MB Cache   \n",
       "5  A0118150102  AQ Dracula HDD – 3.5 Inch SATA 6 Gb/s 5400 RPM 256 MB Cache   \n",
       "6  A0118150102  AQ Dracula HDD – 3.5 Inch SATA 6 Gb/s 5400 RPM 256 MB Cache   \n",
       "7  A0118150102  AQ Dracula HDD – 3.5 Inch SATA 6 Gb/s 5400 RPM 256 MB Cache   \n",
       "8  A0118150102  AQ Dracula HDD – 3.5 Inch SATA 6 Gb/s 5400 RPM 256 MB Cache   \n",
       "9  A0118150103  AQ Dracula HDD – 3.5 Inch SATA 6 Gb/s 5400 RPM 256 MB Cache   \n",
       "\n",
       "    variant  fiscal_year  quantity_sold  total_revenue  \n",
       "0      None          NaN            NaN            NaN  \n",
       "1  Standard      2018.00       18664.00      287336.01  \n",
       "2  Standard      2019.00       41608.00      600786.23  \n",
       "3  Standard      2020.00       62631.00     1016645.18  \n",
       "4  Standard      2021.00      100039.00     1906473.23  \n",
       "5      Plus      2018.00       17953.00      351654.39  \n",
       "6      Plus      2019.00       41945.00      778478.23  \n",
       "7      Plus      2020.00       63902.00     1268946.75  \n",
       "8      Plus      2021.00       98124.00     2105397.61  \n",
       "9   Premium      2018.00       18754.00      363133.70  "
      ]
     },
     "execution_count": 76,
     "metadata": {},
     "output_type": "execute_result"
    }
   ],
   "source": [
    "#join gross price to get sales volume and revenue for each product in the fact_sales_monthly table\n",
    "query=\"\"\"Select fact_sales_monthly.product_code, product, variant, fact_sales_monthly.fiscal_year, SUM(sold_quantity) AS quantity_sold, SUM(sold_quantity*gross_price) AS total_revenue \n",
    "from \n",
    "fact_sales_monthly\n",
    "LEFT JOIN fact_gross_price ON fact_gross_price.product_code = fact_sales_monthly.product_code AND fact_gross_price.fiscal_year = fact_sales_monthly.fiscal_year\n",
    "LEFT JOIN dim_product ON dim_product.product_code = fact_sales_monthly.product_code\n",
    "GROUP BY\n",
    "    fact_sales_monthly.product_code,\n",
    "    fact_sales_monthly.fiscal_year\n",
    "    \"\"\"\n",
    "amt_sold=pd.read_sql_query(query, con)\n",
    "#reformatting pandas so the numbers are shown without scientific notation\n",
    "pd.options.display.float_format = '{:.2f}'.format\n",
    "amt_sold.head(10)"
   ]
  },
  {
   "cell_type": "markdown",
   "id": "91d401bf",
   "metadata": {},
   "source": [
    "Now we have the total amount of each product sold in each fiscal year, as well as how much revenue they brought in.\n",
    "\n",
    "First, lets view this information in a pivot table and heat map so we can see the general breakdown of data and observe trends."
   ]
  },
  {
   "cell_type": "code",
   "execution_count": 77,
   "id": "286a0d3e",
   "metadata": {},
   "outputs": [
    {
     "data": {
      "text/html": [
       "<div>\n",
       "<style scoped>\n",
       "    .dataframe tbody tr th:only-of-type {\n",
       "        vertical-align: middle;\n",
       "    }\n",
       "\n",
       "    .dataframe tbody tr th {\n",
       "        vertical-align: top;\n",
       "    }\n",
       "\n",
       "    .dataframe thead th {\n",
       "        text-align: right;\n",
       "    }\n",
       "</style>\n",
       "<table border=\"1\" class=\"dataframe\">\n",
       "  <thead>\n",
       "    <tr style=\"text-align: right;\">\n",
       "      <th>fiscal_year</th>\n",
       "      <th>2018.0</th>\n",
       "      <th>2019.0</th>\n",
       "      <th>2020.0</th>\n",
       "      <th>2021.0</th>\n",
       "      <th>2022.0</th>\n",
       "      <th>All</th>\n",
       "    </tr>\n",
       "    <tr>\n",
       "      <th>product_code</th>\n",
       "      <th></th>\n",
       "      <th></th>\n",
       "      <th></th>\n",
       "      <th></th>\n",
       "      <th></th>\n",
       "      <th></th>\n",
       "    </tr>\n",
       "  </thead>\n",
       "  <tbody>\n",
       "    <tr>\n",
       "      <th>A0118150101</th>\n",
       "      <td>18664.00</td>\n",
       "      <td>41608.00</td>\n",
       "      <td>62631.00</td>\n",
       "      <td>100039.00</td>\n",
       "      <td></td>\n",
       "      <td>222942.00</td>\n",
       "    </tr>\n",
       "    <tr>\n",
       "      <th>A0118150102</th>\n",
       "      <td>17953.00</td>\n",
       "      <td>41945.00</td>\n",
       "      <td>63902.00</td>\n",
       "      <td>98124.00</td>\n",
       "      <td></td>\n",
       "      <td>221924.00</td>\n",
       "    </tr>\n",
       "    <tr>\n",
       "      <th>A0118150103</th>\n",
       "      <td>18754.00</td>\n",
       "      <td>42191.00</td>\n",
       "      <td>61748.00</td>\n",
       "      <td>94481.00</td>\n",
       "      <td>162972.00</td>\n",
       "      <td>380146.00</td>\n",
       "    </tr>\n",
       "    <tr>\n",
       "      <th>A0118150104</th>\n",
       "      <td>18534.00</td>\n",
       "      <td>42408.00</td>\n",
       "      <td>60961.00</td>\n",
       "      <td>97931.00</td>\n",
       "      <td>166735.00</td>\n",
       "      <td>386569.00</td>\n",
       "    </tr>\n",
       "    <tr>\n",
       "      <th>A0219150201</th>\n",
       "      <td></td>\n",
       "      <td>42932.00</td>\n",
       "      <td>62464.00</td>\n",
       "      <td>100799.00</td>\n",
       "      <td>172000.00</td>\n",
       "      <td>378195.00</td>\n",
       "    </tr>\n",
       "    <tr>\n",
       "      <th>A0219150202</th>\n",
       "      <td></td>\n",
       "      <td>41074.00</td>\n",
       "      <td>62827.00</td>\n",
       "      <td>97091.00</td>\n",
       "      <td>169156.00</td>\n",
       "      <td>370148.00</td>\n",
       "    </tr>\n",
       "    <tr>\n",
       "      <th>A0220150203</th>\n",
       "      <td></td>\n",
       "      <td></td>\n",
       "      <td>63680.00</td>\n",
       "      <td>97815.00</td>\n",
       "      <td>165516.00</td>\n",
       "      <td>327011.00</td>\n",
       "    </tr>\n",
       "    <tr>\n",
       "      <th>A0320150301</th>\n",
       "      <td></td>\n",
       "      <td></td>\n",
       "      <td>64502.00</td>\n",
       "      <td>97160.00</td>\n",
       "      <td>157906.00</td>\n",
       "      <td>319568.00</td>\n",
       "    </tr>\n",
       "    <tr>\n",
       "      <th>A0321150302</th>\n",
       "      <td></td>\n",
       "      <td></td>\n",
       "      <td></td>\n",
       "      <td>99955.00</td>\n",
       "      <td>168127.00</td>\n",
       "      <td>268082.00</td>\n",
       "    </tr>\n",
       "    <tr>\n",
       "      <th>A0321150303</th>\n",
       "      <td></td>\n",
       "      <td></td>\n",
       "      <td></td>\n",
       "      <td>96691.00</td>\n",
       "      <td>159123.00</td>\n",
       "      <td>255814.00</td>\n",
       "    </tr>\n",
       "    <tr>\n",
       "      <th>A0418150101</th>\n",
       "      <td>21842.00</td>\n",
       "      <td>32453.00</td>\n",
       "      <td>45758.00</td>\n",
       "      <td></td>\n",
       "      <td></td>\n",
       "      <td>100053.00</td>\n",
       "    </tr>\n",
       "    <tr>\n",
       "      <th>A0418150102</th>\n",
       "      <td>22315.00</td>\n",
       "      <td>32880.00</td>\n",
       "      <td>46530.00</td>\n",
       "      <td></td>\n",
       "      <td></td>\n",
       "      <td>101725.00</td>\n",
       "    </tr>\n",
       "    <tr>\n",
       "      <th>A0418150103</th>\n",
       "      <td>23667.00</td>\n",
       "      <td>34563.00</td>\n",
       "      <td>45581.00</td>\n",
       "      <td>77857.00</td>\n",
       "      <td>218083.00</td>\n",
       "      <td>399751.00</td>\n",
       "    </tr>\n",
       "    <tr>\n",
       "      <th>A0418150104</th>\n",
       "      <td>23542.00</td>\n",
       "      <td>27465.00</td>\n",
       "      <td></td>\n",
       "      <td></td>\n",
       "      <td></td>\n",
       "      <td>51007.00</td>\n",
       "    </tr>\n",
       "    <tr>\n",
       "      <th>All</th>\n",
       "      <td>165271.00</td>\n",
       "      <td>379519.00</td>\n",
       "      <td>640584.00</td>\n",
       "      <td>1057943.00</td>\n",
       "      <td>1539618.00</td>\n",
       "      <td>3782935.00</td>\n",
       "    </tr>\n",
       "  </tbody>\n",
       "</table>\n",
       "</div>"
      ],
      "text/plain": [
       "fiscal_year     2018.0    2019.0    2020.0     2021.0     2022.0        All\n",
       "product_code                                                               \n",
       "A0118150101   18664.00  41608.00  62631.00  100039.00             222942.00\n",
       "A0118150102   17953.00  41945.00  63902.00   98124.00             221924.00\n",
       "A0118150103   18754.00  42191.00  61748.00   94481.00  162972.00  380146.00\n",
       "A0118150104   18534.00  42408.00  60961.00   97931.00  166735.00  386569.00\n",
       "A0219150201             42932.00  62464.00  100799.00  172000.00  378195.00\n",
       "A0219150202             41074.00  62827.00   97091.00  169156.00  370148.00\n",
       "A0220150203                       63680.00   97815.00  165516.00  327011.00\n",
       "A0320150301                       64502.00   97160.00  157906.00  319568.00\n",
       "A0321150302                                  99955.00  168127.00  268082.00\n",
       "A0321150303                                  96691.00  159123.00  255814.00\n",
       "A0418150101   21842.00  32453.00  45758.00                        100053.00\n",
       "A0418150102   22315.00  32880.00  46530.00                        101725.00\n",
       "A0418150103   23667.00  34563.00  45581.00   77857.00  218083.00  399751.00\n",
       "A0418150104   23542.00  27465.00                                   51007.00\n",
       "All          165271.00 379519.00 640584.00 1057943.00 1539618.00 3782935.00"
      ]
     },
     "execution_count": 77,
     "metadata": {},
     "output_type": "execute_result"
    }
   ],
   "source": [
    "amt_sold_pivot = amt_sold.pivot_table(\n",
    "index = 'product_code',\n",
    "columns = 'fiscal_year',\n",
    "values = 'quantity_sold',\n",
    "aggfunc= 'sum',\n",
    "margins=True)\n",
    "amt_sold_pivot.fillna('')"
   ]
  },
  {
   "cell_type": "code",
   "execution_count": 78,
   "id": "7e0cc58e",
   "metadata": {
    "scrolled": true
   },
   "outputs": [
    {
     "data": {
      "image/png": "[encoded data removed]",
      "text/plain": [
       "<Figure size 936x648 with 2 Axes>"
      ]
     },
     "metadata": {},
     "output_type": "display_data"
    }
   ],
   "source": [
    "plt.figure(figsize=(13,9))\n",
    "sns.heatmap(amt_sold_pivot, annot=True, fmt='.0f', cmap='YlGnBu', center=150000, linewidths=1, linecolor='grey',  vmax=400000, cbar_kws= {'orientation': 'horizontal'} \n",
    "            ).set(title = 'Quantity Sold')\n",
    "plt.show()"
   ]
  },
  {
   "cell_type": "markdown",
   "id": "2781e86c",
   "metadata": {},
   "source": [
    "Next, we will write group the data to find the top selling products as well as the top three products for each year."
   ]
  },
  {
   "cell_type": "code",
   "execution_count": 79,
   "id": "fa4f7306",
   "metadata": {},
   "outputs": [
    {
     "data": {
      "text/html": [
       "<div>\n",
       "<style scoped>\n",
       "    .dataframe tbody tr th:only-of-type {\n",
       "        vertical-align: middle;\n",
       "    }\n",
       "\n",
       "    .dataframe tbody tr th {\n",
       "        vertical-align: top;\n",
       "    }\n",
       "\n",
       "    .dataframe thead th {\n",
       "        text-align: right;\n",
       "    }\n",
       "</style>\n",
       "<table border=\"1\" class=\"dataframe\">\n",
       "  <thead>\n",
       "    <tr style=\"text-align: right;\">\n",
       "      <th></th>\n",
       "      <th>product_code</th>\n",
       "      <th>product</th>\n",
       "      <th>variant</th>\n",
       "      <th>quantity_sold</th>\n",
       "    </tr>\n",
       "  </thead>\n",
       "  <tbody>\n",
       "    <tr>\n",
       "      <th>1</th>\n",
       "      <td>A0418150103</td>\n",
       "      <td>AQ Mforce Gen X</td>\n",
       "      <td>Standard 3</td>\n",
       "      <td>399751.00</td>\n",
       "    </tr>\n",
       "    <tr>\n",
       "      <th>2</th>\n",
       "      <td>A0118150104</td>\n",
       "      <td>AQ Dracula HDD – 3.5 Inch SATA 6 Gb/s 5400 RPM 256 MB Cache</td>\n",
       "      <td>Premium Plus</td>\n",
       "      <td>386569.00</td>\n",
       "    </tr>\n",
       "    <tr>\n",
       "      <th>3</th>\n",
       "      <td>A0118150103</td>\n",
       "      <td>AQ Dracula HDD – 3.5 Inch SATA 6 Gb/s 5400 RPM 256 MB Cache</td>\n",
       "      <td>Premium</td>\n",
       "      <td>380146.00</td>\n",
       "    </tr>\n",
       "  </tbody>\n",
       "</table>\n",
       "</div>"
      ],
      "text/plain": [
       "  product_code                                                      product  \\\n",
       "1  A0418150103                                              AQ Mforce Gen X   \n",
       "2  A0118150104  AQ Dracula HDD – 3.5 Inch SATA 6 Gb/s 5400 RPM 256 MB Cache   \n",
       "3  A0118150103  AQ Dracula HDD – 3.5 Inch SATA 6 Gb/s 5400 RPM 256 MB Cache   \n",
       "\n",
       "        variant  quantity_sold  \n",
       "1    Standard 3      399751.00  \n",
       "2  Premium Plus      386569.00  \n",
       "3       Premium      380146.00  "
      ]
     },
     "execution_count": 79,
     "metadata": {},
     "output_type": "execute_result"
    }
   ],
   "source": [
    "#top selling products over time\n",
    "total_sold = amt_sold.groupby(['product_code', 'product', 'variant']).agg({'quantity_sold':sum}).sort_values('quantity_sold', ascending=False).reset_index()\n",
    "total_sold.index += 1\n",
    "total_sold.head(3)"
   ]
  },
  {
   "cell_type": "markdown",
   "id": "e69699d7",
   "metadata": {},
   "source": [
    "Over the course of five years from 2018-2022, the top three products sold were\n",
    "\n",
    "1. AQ Mforce Gen X: Standard 3 (product_code=A0418150103, 399751 pieces)\n",
    "\n",
    "2. AQ Dracula HDD – 3.5 Inch SATA 6 Gb/s 5400 RPM 256 MB Cache: Premium Plus(product_code=A0118150104, 386569 pieces) \n",
    "\n",
    "3. AQ Dracula HDD – 3.5 Inch SATA 6 Gb/s 5400 RPM 256 MB Cache: Premium (product_code=A0118150103, 380146 pieces)  \n",
    "\n",
    "These three products were sold in every year leading to their high sales volume.  Furthermore, these products had sales increasing every year.\n",
    "\n",
    "Interestingly, the top selling product, the AQ Mforce Gen X: Standard 3 was a high selling in 2018 and 2022 but one of the low sellers in the other years.\n",
    "Every year, the total amount of products almost doubled except in 2022 where the total number of sales only increased by 50%.  However, the most products were sold during 2022 and two products that were sold in previous years were not sold.  If these two products (the AQ Dracula HDD Standard and Plus models) were continued, the total sales would have continued this trend.\n",
    "\n",
    "The large sale volume of the AQ Mforce Gen X could also be because of a sales promotion.  Let's see what the revenue was of it as well."
   ]
  },
  {
   "cell_type": "code",
   "execution_count": 80,
   "id": "71a95581",
   "metadata": {
    "scrolled": true
   },
   "outputs": [
    {
     "data": {
      "text/html": [
       "<div>\n",
       "<style scoped>\n",
       "    .dataframe tbody tr th:only-of-type {\n",
       "        vertical-align: middle;\n",
       "    }\n",
       "\n",
       "    .dataframe tbody tr th {\n",
       "        vertical-align: top;\n",
       "    }\n",
       "\n",
       "    .dataframe thead th {\n",
       "        text-align: right;\n",
       "    }\n",
       "</style>\n",
       "<table border=\"1\" class=\"dataframe\">\n",
       "  <thead>\n",
       "    <tr style=\"text-align: right;\">\n",
       "      <th></th>\n",
       "      <th></th>\n",
       "      <th></th>\n",
       "      <th></th>\n",
       "      <th>quantity_sold</th>\n",
       "    </tr>\n",
       "    <tr>\n",
       "      <th>fiscal_year</th>\n",
       "      <th>product_code</th>\n",
       "      <th>product</th>\n",
       "      <th>variant</th>\n",
       "      <th></th>\n",
       "    </tr>\n",
       "  </thead>\n",
       "  <tbody>\n",
       "    <tr>\n",
       "      <th rowspan=\"9\" valign=\"top\">2022.00</th>\n",
       "      <th>A0418150103</th>\n",
       "      <th>AQ Mforce Gen X</th>\n",
       "      <th>Standard 3</th>\n",
       "      <td>218083.00</td>\n",
       "    </tr>\n",
       "    <tr>\n",
       "      <th>A0219150201</th>\n",
       "      <th>AQ WereWolf NAS Internal Hard Drive HDD – 8.89 cm</th>\n",
       "      <th>Standard</th>\n",
       "      <td>172000.00</td>\n",
       "    </tr>\n",
       "    <tr>\n",
       "      <th>A0219150202</th>\n",
       "      <th>AQ WereWolf NAS Internal Hard Drive HDD – 8.89 cm</th>\n",
       "      <th>Plus</th>\n",
       "      <td>169156.00</td>\n",
       "    </tr>\n",
       "    <tr>\n",
       "      <th>A0321150302</th>\n",
       "      <th>AQ Zion Saga</th>\n",
       "      <th>Plus</th>\n",
       "      <td>168127.00</td>\n",
       "    </tr>\n",
       "    <tr>\n",
       "      <th>A0118150104</th>\n",
       "      <th>AQ Dracula HDD – 3.5 Inch SATA 6 Gb/s 5400 RPM 256 MB Cache</th>\n",
       "      <th>Premium Plus</th>\n",
       "      <td>166735.00</td>\n",
       "    </tr>\n",
       "    <tr>\n",
       "      <th>A0220150203</th>\n",
       "      <th>AQ WereWolf NAS Internal Hard Drive HDD – 8.89 cm</th>\n",
       "      <th>Premium</th>\n",
       "      <td>165516.00</td>\n",
       "    </tr>\n",
       "    <tr>\n",
       "      <th>A0118150103</th>\n",
       "      <th>AQ Dracula HDD – 3.5 Inch SATA 6 Gb/s 5400 RPM 256 MB Cache</th>\n",
       "      <th>Premium</th>\n",
       "      <td>162972.00</td>\n",
       "    </tr>\n",
       "    <tr>\n",
       "      <th>A0321150303</th>\n",
       "      <th>AQ Zion Saga</th>\n",
       "      <th>Premium</th>\n",
       "      <td>159123.00</td>\n",
       "    </tr>\n",
       "    <tr>\n",
       "      <th>A0320150301</th>\n",
       "      <th>AQ Zion Saga</th>\n",
       "      <th>Standard</th>\n",
       "      <td>157906.00</td>\n",
       "    </tr>\n",
       "    <tr>\n",
       "      <th rowspan=\"11\" valign=\"top\">2021.00</th>\n",
       "      <th>A0219150201</th>\n",
       "      <th>AQ WereWolf NAS Internal Hard Drive HDD – 8.89 cm</th>\n",
       "      <th>Standard</th>\n",
       "      <td>100799.00</td>\n",
       "    </tr>\n",
       "    <tr>\n",
       "      <th>A0118150101</th>\n",
       "      <th>AQ Dracula HDD – 3.5 Inch SATA 6 Gb/s 5400 RPM 256 MB Cache</th>\n",
       "      <th>Standard</th>\n",
       "      <td>100039.00</td>\n",
       "    </tr>\n",
       "    <tr>\n",
       "      <th>A0321150302</th>\n",
       "      <th>AQ Zion Saga</th>\n",
       "      <th>Plus</th>\n",
       "      <td>99955.00</td>\n",
       "    </tr>\n",
       "    <tr>\n",
       "      <th>A0118150102</th>\n",
       "      <th>AQ Dracula HDD – 3.5 Inch SATA 6 Gb/s 5400 RPM 256 MB Cache</th>\n",
       "      <th>Plus</th>\n",
       "      <td>98124.00</td>\n",
       "    </tr>\n",
       "    <tr>\n",
       "      <th>A0118150104</th>\n",
       "      <th>AQ Dracula HDD – 3.5 Inch SATA 6 Gb/s 5400 RPM 256 MB Cache</th>\n",
       "      <th>Premium Plus</th>\n",
       "      <td>97931.00</td>\n",
       "    </tr>\n",
       "    <tr>\n",
       "      <th>A0220150203</th>\n",
       "      <th>AQ WereWolf NAS Internal Hard Drive HDD – 8.89 cm</th>\n",
       "      <th>Premium</th>\n",
       "      <td>97815.00</td>\n",
       "    </tr>\n",
       "    <tr>\n",
       "      <th>A0320150301</th>\n",
       "      <th>AQ Zion Saga</th>\n",
       "      <th>Standard</th>\n",
       "      <td>97160.00</td>\n",
       "    </tr>\n",
       "    <tr>\n",
       "      <th>A0219150202</th>\n",
       "      <th>AQ WereWolf NAS Internal Hard Drive HDD – 8.89 cm</th>\n",
       "      <th>Plus</th>\n",
       "      <td>97091.00</td>\n",
       "    </tr>\n",
       "    <tr>\n",
       "      <th>A0321150303</th>\n",
       "      <th>AQ Zion Saga</th>\n",
       "      <th>Premium</th>\n",
       "      <td>96691.00</td>\n",
       "    </tr>\n",
       "    <tr>\n",
       "      <th>A0118150103</th>\n",
       "      <th>AQ Dracula HDD – 3.5 Inch SATA 6 Gb/s 5400 RPM 256 MB Cache</th>\n",
       "      <th>Premium</th>\n",
       "      <td>94481.00</td>\n",
       "    </tr>\n",
       "    <tr>\n",
       "      <th>A0418150103</th>\n",
       "      <th>AQ Mforce Gen X</th>\n",
       "      <th>Standard 3</th>\n",
       "      <td>77857.00</td>\n",
       "    </tr>\n",
       "    <tr>\n",
       "      <th rowspan=\"11\" valign=\"top\">2020.00</th>\n",
       "      <th>A0320150301</th>\n",
       "      <th>AQ Zion Saga</th>\n",
       "      <th>Standard</th>\n",
       "      <td>64502.00</td>\n",
       "    </tr>\n",
       "    <tr>\n",
       "      <th>A0118150102</th>\n",
       "      <th>AQ Dracula HDD – 3.5 Inch SATA 6 Gb/s 5400 RPM 256 MB Cache</th>\n",
       "      <th>Plus</th>\n",
       "      <td>63902.00</td>\n",
       "    </tr>\n",
       "    <tr>\n",
       "      <th>A0220150203</th>\n",
       "      <th>AQ WereWolf NAS Internal Hard Drive HDD – 8.89 cm</th>\n",
       "      <th>Premium</th>\n",
       "      <td>63680.00</td>\n",
       "    </tr>\n",
       "    <tr>\n",
       "      <th>A0219150202</th>\n",
       "      <th>AQ WereWolf NAS Internal Hard Drive HDD – 8.89 cm</th>\n",
       "      <th>Plus</th>\n",
       "      <td>62827.00</td>\n",
       "    </tr>\n",
       "    <tr>\n",
       "      <th>A0118150101</th>\n",
       "      <th>AQ Dracula HDD – 3.5 Inch SATA 6 Gb/s 5400 RPM 256 MB Cache</th>\n",
       "      <th>Standard</th>\n",
       "      <td>62631.00</td>\n",
       "    </tr>\n",
       "    <tr>\n",
       "      <th>A0219150201</th>\n",
       "      <th>AQ WereWolf NAS Internal Hard Drive HDD – 8.89 cm</th>\n",
       "      <th>Standard</th>\n",
       "      <td>62464.00</td>\n",
       "    </tr>\n",
       "    <tr>\n",
       "      <th>A0118150103</th>\n",
       "      <th>AQ Dracula HDD – 3.5 Inch SATA 6 Gb/s 5400 RPM 256 MB Cache</th>\n",
       "      <th>Premium</th>\n",
       "      <td>61748.00</td>\n",
       "    </tr>\n",
       "    <tr>\n",
       "      <th>A0118150104</th>\n",
       "      <th>AQ Dracula HDD – 3.5 Inch SATA 6 Gb/s 5400 RPM 256 MB Cache</th>\n",
       "      <th>Premium Plus</th>\n",
       "      <td>60961.00</td>\n",
       "    </tr>\n",
       "    <tr>\n",
       "      <th>A0418150102</th>\n",
       "      <th>AQ Mforce Gen X</th>\n",
       "      <th>Standard 2</th>\n",
       "      <td>46530.00</td>\n",
       "    </tr>\n",
       "    <tr>\n",
       "      <th>A0418150101</th>\n",
       "      <th>AQ Mforce Gen X</th>\n",
       "      <th>Standard 1</th>\n",
       "      <td>45758.00</td>\n",
       "    </tr>\n",
       "    <tr>\n",
       "      <th>A0418150103</th>\n",
       "      <th>AQ Mforce Gen X</th>\n",
       "      <th>Standard 3</th>\n",
       "      <td>45581.00</td>\n",
       "    </tr>\n",
       "    <tr>\n",
       "      <th rowspan=\"10\" valign=\"top\">2019.00</th>\n",
       "      <th>A0219150201</th>\n",
       "      <th>AQ WereWolf NAS Internal Hard Drive HDD – 8.89 cm</th>\n",
       "      <th>Standard</th>\n",
       "      <td>42932.00</td>\n",
       "    </tr>\n",
       "    <tr>\n",
       "      <th>A0118150104</th>\n",
       "      <th>AQ Dracula HDD – 3.5 Inch SATA 6 Gb/s 5400 RPM 256 MB Cache</th>\n",
       "      <th>Premium Plus</th>\n",
       "      <td>42408.00</td>\n",
       "    </tr>\n",
       "    <tr>\n",
       "      <th>A0118150103</th>\n",
       "      <th>AQ Dracula HDD – 3.5 Inch SATA 6 Gb/s 5400 RPM 256 MB Cache</th>\n",
       "      <th>Premium</th>\n",
       "      <td>42191.00</td>\n",
       "    </tr>\n",
       "    <tr>\n",
       "      <th>A0118150102</th>\n",
       "      <th>AQ Dracula HDD – 3.5 Inch SATA 6 Gb/s 5400 RPM 256 MB Cache</th>\n",
       "      <th>Plus</th>\n",
       "      <td>41945.00</td>\n",
       "    </tr>\n",
       "    <tr>\n",
       "      <th>A0118150101</th>\n",
       "      <th>AQ Dracula HDD – 3.5 Inch SATA 6 Gb/s 5400 RPM 256 MB Cache</th>\n",
       "      <th>Standard</th>\n",
       "      <td>41608.00</td>\n",
       "    </tr>\n",
       "    <tr>\n",
       "      <th>A0219150202</th>\n",
       "      <th>AQ WereWolf NAS Internal Hard Drive HDD – 8.89 cm</th>\n",
       "      <th>Plus</th>\n",
       "      <td>41074.00</td>\n",
       "    </tr>\n",
       "    <tr>\n",
       "      <th>A0418150103</th>\n",
       "      <th>AQ Mforce Gen X</th>\n",
       "      <th>Standard 3</th>\n",
       "      <td>34563.00</td>\n",
       "    </tr>\n",
       "    <tr>\n",
       "      <th>A0418150102</th>\n",
       "      <th>AQ Mforce Gen X</th>\n",
       "      <th>Standard 2</th>\n",
       "      <td>32880.00</td>\n",
       "    </tr>\n",
       "    <tr>\n",
       "      <th>A0418150101</th>\n",
       "      <th>AQ Mforce Gen X</th>\n",
       "      <th>Standard 1</th>\n",
       "      <td>32453.00</td>\n",
       "    </tr>\n",
       "    <tr>\n",
       "      <th>A0418150104</th>\n",
       "      <th>AQ Mforce Gen X</th>\n",
       "      <th>Plus 1</th>\n",
       "      <td>27465.00</td>\n",
       "    </tr>\n",
       "    <tr>\n",
       "      <th rowspan=\"8\" valign=\"top\">2018.00</th>\n",
       "      <th>A0418150103</th>\n",
       "      <th>AQ Mforce Gen X</th>\n",
       "      <th>Standard 3</th>\n",
       "      <td>23667.00</td>\n",
       "    </tr>\n",
       "    <tr>\n",
       "      <th>A0418150104</th>\n",
       "      <th>AQ Mforce Gen X</th>\n",
       "      <th>Plus 1</th>\n",
       "      <td>23542.00</td>\n",
       "    </tr>\n",
       "    <tr>\n",
       "      <th>A0418150102</th>\n",
       "      <th>AQ Mforce Gen X</th>\n",
       "      <th>Standard 2</th>\n",
       "      <td>22315.00</td>\n",
       "    </tr>\n",
       "    <tr>\n",
       "      <th>A0418150101</th>\n",
       "      <th>AQ Mforce Gen X</th>\n",
       "      <th>Standard 1</th>\n",
       "      <td>21842.00</td>\n",
       "    </tr>\n",
       "    <tr>\n",
       "      <th>A0118150103</th>\n",
       "      <th>AQ Dracula HDD – 3.5 Inch SATA 6 Gb/s 5400 RPM 256 MB Cache</th>\n",
       "      <th>Premium</th>\n",
       "      <td>18754.00</td>\n",
       "    </tr>\n",
       "    <tr>\n",
       "      <th>A0118150101</th>\n",
       "      <th>AQ Dracula HDD – 3.5 Inch SATA 6 Gb/s 5400 RPM 256 MB Cache</th>\n",
       "      <th>Standard</th>\n",
       "      <td>18664.00</td>\n",
       "    </tr>\n",
       "    <tr>\n",
       "      <th>A0118150104</th>\n",
       "      <th>AQ Dracula HDD – 3.5 Inch SATA 6 Gb/s 5400 RPM 256 MB Cache</th>\n",
       "      <th>Premium Plus</th>\n",
       "      <td>18534.00</td>\n",
       "    </tr>\n",
       "    <tr>\n",
       "      <th>A0118150102</th>\n",
       "      <th>AQ Dracula HDD – 3.5 Inch SATA 6 Gb/s 5400 RPM 256 MB Cache</th>\n",
       "      <th>Plus</th>\n",
       "      <td>17953.00</td>\n",
       "    </tr>\n",
       "  </tbody>\n",
       "</table>\n",
       "</div>"
      ],
      "text/plain": [
       "                                                                                                   quantity_sold\n",
       "fiscal_year product_code product                                                     variant                    \n",
       "2022.00     A0418150103  AQ Mforce Gen X                                             Standard 3        218083.00\n",
       "            A0219150201  AQ WereWolf NAS Internal Hard Drive HDD – 8.89 cm           Standard          172000.00\n",
       "            A0219150202  AQ WereWolf NAS Internal Hard Drive HDD – 8.89 cm           Plus              169156.00\n",
       "            A0321150302  AQ Zion Saga                                                Plus              168127.00\n",
       "            A0118150104  AQ Dracula HDD – 3.5 Inch SATA 6 Gb/s 5400 RPM 256 MB Cache Premium Plus      166735.00\n",
       "            A0220150203  AQ WereWolf NAS Internal Hard Drive HDD – 8.89 cm           Premium           165516.00\n",
       "            A0118150103  AQ Dracula HDD – 3.5 Inch SATA 6 Gb/s 5400 RPM 256 MB Cache Premium           162972.00\n",
       "            A0321150303  AQ Zion Saga                                                Premium           159123.00\n",
       "            A0320150301  AQ Zion Saga                                                Standard          157906.00\n",
       "2021.00     A0219150201  AQ WereWolf NAS Internal Hard Drive HDD – 8.89 cm           Standard          100799.00\n",
       "            A0118150101  AQ Dracula HDD – 3.5 Inch SATA 6 Gb/s 5400 RPM 256 MB Cache Standard          100039.00\n",
       "            A0321150302  AQ Zion Saga                                                Plus               99955.00\n",
       "            A0118150102  AQ Dracula HDD – 3.5 Inch SATA 6 Gb/s 5400 RPM 256 MB Cache Plus               98124.00\n",
       "            A0118150104  AQ Dracula HDD – 3.5 Inch SATA 6 Gb/s 5400 RPM 256 MB Cache Premium Plus       97931.00\n",
       "            A0220150203  AQ WereWolf NAS Internal Hard Drive HDD – 8.89 cm           Premium            97815.00\n",
       "            A0320150301  AQ Zion Saga                                                Standard           97160.00\n",
       "            A0219150202  AQ WereWolf NAS Internal Hard Drive HDD – 8.89 cm           Plus               97091.00\n",
       "            A0321150303  AQ Zion Saga                                                Premium            96691.00\n",
       "            A0118150103  AQ Dracula HDD – 3.5 Inch SATA 6 Gb/s 5400 RPM 256 MB Cache Premium            94481.00\n",
       "            A0418150103  AQ Mforce Gen X                                             Standard 3         77857.00\n",
       "2020.00     A0320150301  AQ Zion Saga                                                Standard           64502.00\n",
       "            A0118150102  AQ Dracula HDD – 3.5 Inch SATA 6 Gb/s 5400 RPM 256 MB Cache Plus               63902.00\n",
       "            A0220150203  AQ WereWolf NAS Internal Hard Drive HDD – 8.89 cm           Premium            63680.00\n",
       "            A0219150202  AQ WereWolf NAS Internal Hard Drive HDD – 8.89 cm           Plus               62827.00\n",
       "            A0118150101  AQ Dracula HDD – 3.5 Inch SATA 6 Gb/s 5400 RPM 256 MB Cache Standard           62631.00\n",
       "            A0219150201  AQ WereWolf NAS Internal Hard Drive HDD – 8.89 cm           Standard           62464.00\n",
       "            A0118150103  AQ Dracula HDD – 3.5 Inch SATA 6 Gb/s 5400 RPM 256 MB Cache Premium            61748.00\n",
       "            A0118150104  AQ Dracula HDD – 3.5 Inch SATA 6 Gb/s 5400 RPM 256 MB Cache Premium Plus       60961.00\n",
       "            A0418150102  AQ Mforce Gen X                                             Standard 2         46530.00\n",
       "            A0418150101  AQ Mforce Gen X                                             Standard 1         45758.00\n",
       "            A0418150103  AQ Mforce Gen X                                             Standard 3         45581.00\n",
       "2019.00     A0219150201  AQ WereWolf NAS Internal Hard Drive HDD – 8.89 cm           Standard           42932.00\n",
       "            A0118150104  AQ Dracula HDD – 3.5 Inch SATA 6 Gb/s 5400 RPM 256 MB Cache Premium Plus       42408.00\n",
       "            A0118150103  AQ Dracula HDD – 3.5 Inch SATA 6 Gb/s 5400 RPM 256 MB Cache Premium            42191.00\n",
       "            A0118150102  AQ Dracula HDD – 3.5 Inch SATA 6 Gb/s 5400 RPM 256 MB Cache Plus               41945.00\n",
       "            A0118150101  AQ Dracula HDD – 3.5 Inch SATA 6 Gb/s 5400 RPM 256 MB Cache Standard           41608.00\n",
       "            A0219150202  AQ WereWolf NAS Internal Hard Drive HDD – 8.89 cm           Plus               41074.00\n",
       "            A0418150103  AQ Mforce Gen X                                             Standard 3         34563.00\n",
       "            A0418150102  AQ Mforce Gen X                                             Standard 2         32880.00\n",
       "            A0418150101  AQ Mforce Gen X                                             Standard 1         32453.00\n",
       "            A0418150104  AQ Mforce Gen X                                             Plus 1             27465.00\n",
       "2018.00     A0418150103  AQ Mforce Gen X                                             Standard 3         23667.00\n",
       "            A0418150104  AQ Mforce Gen X                                             Plus 1             23542.00\n",
       "            A0418150102  AQ Mforce Gen X                                             Standard 2         22315.00\n",
       "            A0418150101  AQ Mforce Gen X                                             Standard 1         21842.00\n",
       "            A0118150103  AQ Dracula HDD – 3.5 Inch SATA 6 Gb/s 5400 RPM 256 MB Cache Premium            18754.00\n",
       "            A0118150101  AQ Dracula HDD – 3.5 Inch SATA 6 Gb/s 5400 RPM 256 MB Cache Standard           18664.00\n",
       "            A0118150104  AQ Dracula HDD – 3.5 Inch SATA 6 Gb/s 5400 RPM 256 MB Cache Premium Plus       18534.00\n",
       "            A0118150102  AQ Dracula HDD – 3.5 Inch SATA 6 Gb/s 5400 RPM 256 MB Cache Plus               17953.00"
      ]
     },
     "execution_count": 80,
     "metadata": {},
     "output_type": "execute_result"
    }
   ],
   "source": [
    "df_agg = amt_sold.groupby(['fiscal_year','product_code', 'product', 'variant']).agg({'quantity_sold':sum}).sort_values('quantity_sold', ascending=False)\n",
    "df_agg"
   ]
  },
  {
   "cell_type": "code",
   "execution_count": 81,
   "id": "8298ce6e",
   "metadata": {},
   "outputs": [],
   "source": [
    "#save to csv for dashboard\n",
    "df_agg.to_csv('quantity_by_year.csv')"
   ]
  },
  {
   "cell_type": "code",
   "execution_count": 82,
   "id": "21f99f42",
   "metadata": {
    "scrolled": true
   },
   "outputs": [
    {
     "name": "stdout",
     "output_type": "stream",
     "text": [
      "Top Three Products for: 2018.0\n"
     ]
    },
    {
     "data": {
      "text/html": [
       "<div>\n",
       "<style scoped>\n",
       "    .dataframe tbody tr th:only-of-type {\n",
       "        vertical-align: middle;\n",
       "    }\n",
       "\n",
       "    .dataframe tbody tr th {\n",
       "        vertical-align: top;\n",
       "    }\n",
       "\n",
       "    .dataframe thead th {\n",
       "        text-align: right;\n",
       "    }\n",
       "</style>\n",
       "<table border=\"1\" class=\"dataframe\">\n",
       "  <thead>\n",
       "    <tr style=\"text-align: right;\">\n",
       "      <th></th>\n",
       "      <th></th>\n",
       "      <th></th>\n",
       "      <th></th>\n",
       "      <th>quantity_sold</th>\n",
       "    </tr>\n",
       "    <tr>\n",
       "      <th>fiscal_year</th>\n",
       "      <th>product_code</th>\n",
       "      <th>product</th>\n",
       "      <th>variant</th>\n",
       "      <th></th>\n",
       "    </tr>\n",
       "  </thead>\n",
       "  <tbody>\n",
       "    <tr>\n",
       "      <th rowspan=\"3\" valign=\"top\">2018.00</th>\n",
       "      <th>A0418150103</th>\n",
       "      <th>AQ Mforce Gen X</th>\n",
       "      <th>Standard 3</th>\n",
       "      <td>23667.00</td>\n",
       "    </tr>\n",
       "    <tr>\n",
       "      <th>A0418150104</th>\n",
       "      <th>AQ Mforce Gen X</th>\n",
       "      <th>Plus 1</th>\n",
       "      <td>23542.00</td>\n",
       "    </tr>\n",
       "    <tr>\n",
       "      <th>A0418150102</th>\n",
       "      <th>AQ Mforce Gen X</th>\n",
       "      <th>Standard 2</th>\n",
       "      <td>22315.00</td>\n",
       "    </tr>\n",
       "  </tbody>\n",
       "</table>\n",
       "</div>"
      ],
      "text/plain": [
       "                                                     quantity_sold\n",
       "fiscal_year product_code product         variant                  \n",
       "2018.00     A0418150103  AQ Mforce Gen X Standard 3       23667.00\n",
       "            A0418150104  AQ Mforce Gen X Plus 1           23542.00\n",
       "            A0418150102  AQ Mforce Gen X Standard 2       22315.00"
      ]
     },
     "metadata": {},
     "output_type": "display_data"
    },
    {
     "name": "stdout",
     "output_type": "stream",
     "text": [
      "\n",
      "Top Three Products for: 2019.0\n"
     ]
    },
    {
     "data": {
      "text/html": [
       "<div>\n",
       "<style scoped>\n",
       "    .dataframe tbody tr th:only-of-type {\n",
       "        vertical-align: middle;\n",
       "    }\n",
       "\n",
       "    .dataframe tbody tr th {\n",
       "        vertical-align: top;\n",
       "    }\n",
       "\n",
       "    .dataframe thead th {\n",
       "        text-align: right;\n",
       "    }\n",
       "</style>\n",
       "<table border=\"1\" class=\"dataframe\">\n",
       "  <thead>\n",
       "    <tr style=\"text-align: right;\">\n",
       "      <th></th>\n",
       "      <th></th>\n",
       "      <th></th>\n",
       "      <th></th>\n",
       "      <th>quantity_sold</th>\n",
       "    </tr>\n",
       "    <tr>\n",
       "      <th>fiscal_year</th>\n",
       "      <th>product_code</th>\n",
       "      <th>product</th>\n",
       "      <th>variant</th>\n",
       "      <th></th>\n",
       "    </tr>\n",
       "  </thead>\n",
       "  <tbody>\n",
       "    <tr>\n",
       "      <th rowspan=\"3\" valign=\"top\">2019.00</th>\n",
       "      <th>A0219150201</th>\n",
       "      <th>AQ WereWolf NAS Internal Hard Drive HDD – 8.89 cm</th>\n",
       "      <th>Standard</th>\n",
       "      <td>42932.00</td>\n",
       "    </tr>\n",
       "    <tr>\n",
       "      <th>A0118150104</th>\n",
       "      <th>AQ Dracula HDD – 3.5 Inch SATA 6 Gb/s 5400 RPM 256 MB Cache</th>\n",
       "      <th>Premium Plus</th>\n",
       "      <td>42408.00</td>\n",
       "    </tr>\n",
       "    <tr>\n",
       "      <th>A0118150103</th>\n",
       "      <th>AQ Dracula HDD – 3.5 Inch SATA 6 Gb/s 5400 RPM 256 MB Cache</th>\n",
       "      <th>Premium</th>\n",
       "      <td>42191.00</td>\n",
       "    </tr>\n",
       "  </tbody>\n",
       "</table>\n",
       "</div>"
      ],
      "text/plain": [
       "                                                                                                   quantity_sold\n",
       "fiscal_year product_code product                                                     variant                    \n",
       "2019.00     A0219150201  AQ WereWolf NAS Internal Hard Drive HDD – 8.89 cm           Standard           42932.00\n",
       "            A0118150104  AQ Dracula HDD – 3.5 Inch SATA 6 Gb/s 5400 RPM 256 MB Cache Premium Plus       42408.00\n",
       "            A0118150103  AQ Dracula HDD – 3.5 Inch SATA 6 Gb/s 5400 RPM 256 MB Cache Premium            42191.00"
      ]
     },
     "metadata": {},
     "output_type": "display_data"
    },
    {
     "name": "stdout",
     "output_type": "stream",
     "text": [
      "\n",
      "Top Three Products for: 2020.0\n"
     ]
    },
    {
     "data": {
      "text/html": [
       "<div>\n",
       "<style scoped>\n",
       "    .dataframe tbody tr th:only-of-type {\n",
       "        vertical-align: middle;\n",
       "    }\n",
       "\n",
       "    .dataframe tbody tr th {\n",
       "        vertical-align: top;\n",
       "    }\n",
       "\n",
       "    .dataframe thead th {\n",
       "        text-align: right;\n",
       "    }\n",
       "</style>\n",
       "<table border=\"1\" class=\"dataframe\">\n",
       "  <thead>\n",
       "    <tr style=\"text-align: right;\">\n",
       "      <th></th>\n",
       "      <th></th>\n",
       "      <th></th>\n",
       "      <th></th>\n",
       "      <th>quantity_sold</th>\n",
       "    </tr>\n",
       "    <tr>\n",
       "      <th>fiscal_year</th>\n",
       "      <th>product_code</th>\n",
       "      <th>product</th>\n",
       "      <th>variant</th>\n",
       "      <th></th>\n",
       "    </tr>\n",
       "  </thead>\n",
       "  <tbody>\n",
       "    <tr>\n",
       "      <th rowspan=\"3\" valign=\"top\">2020.00</th>\n",
       "      <th>A0320150301</th>\n",
       "      <th>AQ Zion Saga</th>\n",
       "      <th>Standard</th>\n",
       "      <td>64502.00</td>\n",
       "    </tr>\n",
       "    <tr>\n",
       "      <th>A0118150102</th>\n",
       "      <th>AQ Dracula HDD – 3.5 Inch SATA 6 Gb/s 5400 RPM 256 MB Cache</th>\n",
       "      <th>Plus</th>\n",
       "      <td>63902.00</td>\n",
       "    </tr>\n",
       "    <tr>\n",
       "      <th>A0220150203</th>\n",
       "      <th>AQ WereWolf NAS Internal Hard Drive HDD – 8.89 cm</th>\n",
       "      <th>Premium</th>\n",
       "      <td>63680.00</td>\n",
       "    </tr>\n",
       "  </tbody>\n",
       "</table>\n",
       "</div>"
      ],
      "text/plain": [
       "                                                                                               quantity_sold\n",
       "fiscal_year product_code product                                                     variant                \n",
       "2020.00     A0320150301  AQ Zion Saga                                                Standard       64502.00\n",
       "            A0118150102  AQ Dracula HDD – 3.5 Inch SATA 6 Gb/s 5400 RPM 256 MB Cache Plus           63902.00\n",
       "            A0220150203  AQ WereWolf NAS Internal Hard Drive HDD – 8.89 cm           Premium        63680.00"
      ]
     },
     "metadata": {},
     "output_type": "display_data"
    },
    {
     "name": "stdout",
     "output_type": "stream",
     "text": [
      "\n",
      "Top Three Products for: 2021.0\n"
     ]
    },
    {
     "data": {
      "text/html": [
       "<div>\n",
       "<style scoped>\n",
       "    .dataframe tbody tr th:only-of-type {\n",
       "        vertical-align: middle;\n",
       "    }\n",
       "\n",
       "    .dataframe tbody tr th {\n",
       "        vertical-align: top;\n",
       "    }\n",
       "\n",
       "    .dataframe thead th {\n",
       "        text-align: right;\n",
       "    }\n",
       "</style>\n",
       "<table border=\"1\" class=\"dataframe\">\n",
       "  <thead>\n",
       "    <tr style=\"text-align: right;\">\n",
       "      <th></th>\n",
       "      <th></th>\n",
       "      <th></th>\n",
       "      <th></th>\n",
       "      <th>quantity_sold</th>\n",
       "    </tr>\n",
       "    <tr>\n",
       "      <th>fiscal_year</th>\n",
       "      <th>product_code</th>\n",
       "      <th>product</th>\n",
       "      <th>variant</th>\n",
       "      <th></th>\n",
       "    </tr>\n",
       "  </thead>\n",
       "  <tbody>\n",
       "    <tr>\n",
       "      <th rowspan=\"3\" valign=\"top\">2021.00</th>\n",
       "      <th>A0219150201</th>\n",
       "      <th>AQ WereWolf NAS Internal Hard Drive HDD – 8.89 cm</th>\n",
       "      <th>Standard</th>\n",
       "      <td>100799.00</td>\n",
       "    </tr>\n",
       "    <tr>\n",
       "      <th>A0118150101</th>\n",
       "      <th>AQ Dracula HDD – 3.5 Inch SATA 6 Gb/s 5400 RPM 256 MB Cache</th>\n",
       "      <th>Standard</th>\n",
       "      <td>100039.00</td>\n",
       "    </tr>\n",
       "    <tr>\n",
       "      <th>A0321150302</th>\n",
       "      <th>AQ Zion Saga</th>\n",
       "      <th>Plus</th>\n",
       "      <td>99955.00</td>\n",
       "    </tr>\n",
       "  </tbody>\n",
       "</table>\n",
       "</div>"
      ],
      "text/plain": [
       "                                                                                               quantity_sold\n",
       "fiscal_year product_code product                                                     variant                \n",
       "2021.00     A0219150201  AQ WereWolf NAS Internal Hard Drive HDD – 8.89 cm           Standard      100799.00\n",
       "            A0118150101  AQ Dracula HDD – 3.5 Inch SATA 6 Gb/s 5400 RPM 256 MB Cache Standard      100039.00\n",
       "            A0321150302  AQ Zion Saga                                                Plus           99955.00"
      ]
     },
     "metadata": {},
     "output_type": "display_data"
    },
    {
     "name": "stdout",
     "output_type": "stream",
     "text": [
      "\n",
      "Top Three Products for: 2018.0\n"
     ]
    },
    {
     "data": {
      "text/html": [
       "<div>\n",
       "<style scoped>\n",
       "    .dataframe tbody tr th:only-of-type {\n",
       "        vertical-align: middle;\n",
       "    }\n",
       "\n",
       "    .dataframe tbody tr th {\n",
       "        vertical-align: top;\n",
       "    }\n",
       "\n",
       "    .dataframe thead th {\n",
       "        text-align: right;\n",
       "    }\n",
       "</style>\n",
       "<table border=\"1\" class=\"dataframe\">\n",
       "  <thead>\n",
       "    <tr style=\"text-align: right;\">\n",
       "      <th></th>\n",
       "      <th></th>\n",
       "      <th></th>\n",
       "      <th></th>\n",
       "      <th>quantity_sold</th>\n",
       "    </tr>\n",
       "    <tr>\n",
       "      <th>fiscal_year</th>\n",
       "      <th>product_code</th>\n",
       "      <th>product</th>\n",
       "      <th>variant</th>\n",
       "      <th></th>\n",
       "    </tr>\n",
       "  </thead>\n",
       "  <tbody>\n",
       "    <tr>\n",
       "      <th rowspan=\"3\" valign=\"top\">2018.00</th>\n",
       "      <th>A0418150103</th>\n",
       "      <th>AQ Mforce Gen X</th>\n",
       "      <th>Standard 3</th>\n",
       "      <td>23667.00</td>\n",
       "    </tr>\n",
       "    <tr>\n",
       "      <th>A0418150104</th>\n",
       "      <th>AQ Mforce Gen X</th>\n",
       "      <th>Plus 1</th>\n",
       "      <td>23542.00</td>\n",
       "    </tr>\n",
       "    <tr>\n",
       "      <th>A0418150102</th>\n",
       "      <th>AQ Mforce Gen X</th>\n",
       "      <th>Standard 2</th>\n",
       "      <td>22315.00</td>\n",
       "    </tr>\n",
       "  </tbody>\n",
       "</table>\n",
       "</div>"
      ],
      "text/plain": [
       "                                                     quantity_sold\n",
       "fiscal_year product_code product         variant                  \n",
       "2018.00     A0418150103  AQ Mforce Gen X Standard 3       23667.00\n",
       "            A0418150104  AQ Mforce Gen X Plus 1           23542.00\n",
       "            A0418150102  AQ Mforce Gen X Standard 2       22315.00"
      ]
     },
     "metadata": {},
     "output_type": "display_data"
    },
    {
     "name": "stdout",
     "output_type": "stream",
     "text": [
      "\n"
     ]
    }
   ],
   "source": [
    "def top_3(year):\n",
    "    df_agg_year = df_agg[df_agg.index.get_level_values('fiscal_year') == year]\n",
    "    display(df_agg_year.sort_values('quantity_sold', ascending=False).head(3))\n",
    "    \n",
    "for year in amt_sold['fiscal_year'][1:6]:\n",
    "    print('Top Three Products for:', year)\n",
    "    top_3(year)\n",
    "    print()"
   ]
  },
  {
   "cell_type": "markdown",
   "id": "ae5ce0eb",
   "metadata": {},
   "source": [
    "## Top Grossing Products Analysis"
   ]
  },
  {
   "cell_type": "markdown",
   "id": "b1f67f34",
   "metadata": {},
   "source": [
    "First let's look at the revenue for our products in general."
   ]
  },
  {
   "cell_type": "code",
   "execution_count": 83,
   "id": "602a9742",
   "metadata": {},
   "outputs": [
    {
     "data": {
      "text/html": [
       "<div>\n",
       "<style scoped>\n",
       "    .dataframe tbody tr th:only-of-type {\n",
       "        vertical-align: middle;\n",
       "    }\n",
       "\n",
       "    .dataframe tbody tr th {\n",
       "        vertical-align: top;\n",
       "    }\n",
       "\n",
       "    .dataframe thead th {\n",
       "        text-align: right;\n",
       "    }\n",
       "</style>\n",
       "<table border=\"1\" class=\"dataframe\">\n",
       "  <thead>\n",
       "    <tr style=\"text-align: right;\">\n",
       "      <th>fiscal_year</th>\n",
       "      <th>2018.0</th>\n",
       "      <th>2019.0</th>\n",
       "      <th>2020.0</th>\n",
       "      <th>2021.0</th>\n",
       "      <th>2022.0</th>\n",
       "      <th>All</th>\n",
       "    </tr>\n",
       "    <tr>\n",
       "      <th>product_code</th>\n",
       "      <th></th>\n",
       "      <th></th>\n",
       "      <th></th>\n",
       "      <th></th>\n",
       "      <th></th>\n",
       "      <th></th>\n",
       "    </tr>\n",
       "  </thead>\n",
       "  <tbody>\n",
       "    <tr>\n",
       "      <th>A0118150101</th>\n",
       "      <td>287336.01</td>\n",
       "      <td>600786.23</td>\n",
       "      <td>1016645.18</td>\n",
       "      <td>1906473.23</td>\n",
       "      <td></td>\n",
       "      <td>3811240.66</td>\n",
       "    </tr>\n",
       "    <tr>\n",
       "      <th>A0118150102</th>\n",
       "      <td>351654.39</td>\n",
       "      <td>778478.23</td>\n",
       "      <td>1268946.75</td>\n",
       "      <td>2105397.61</td>\n",
       "      <td></td>\n",
       "      <td>4504476.97</td>\n",
       "    </tr>\n",
       "    <tr>\n",
       "      <th>A0118150103</th>\n",
       "      <td>363133.70</td>\n",
       "      <td>816151.14</td>\n",
       "      <td>1366588.21</td>\n",
       "      <td>2057748.94</td>\n",
       "      <td>3910024.22</td>\n",
       "      <td>8513646.22</td>\n",
       "    </tr>\n",
       "    <tr>\n",
       "      <th>A0118150104</th>\n",
       "      <td>362790.08</td>\n",
       "      <td>784853.34</td>\n",
       "      <td>1266367.24</td>\n",
       "      <td>2249759.07</td>\n",
       "      <td>3939914.70</td>\n",
       "      <td>8603684.42</td>\n",
       "    </tr>\n",
       "    <tr>\n",
       "      <th>A0219150201</th>\n",
       "      <td></td>\n",
       "      <td>792795.19</td>\n",
       "      <td>1388562.23</td>\n",
       "      <td>2388805.26</td>\n",
       "      <td>4304919.20</td>\n",
       "      <td>8875081.88</td>\n",
       "    </tr>\n",
       "    <tr>\n",
       "      <th>A0219150202</th>\n",
       "      <td></td>\n",
       "      <td>855255.15</td>\n",
       "      <td>1517661.58</td>\n",
       "      <td>2401176.94</td>\n",
       "      <td>4254560.97</td>\n",
       "      <td>9028654.63</td>\n",
       "    </tr>\n",
       "    <tr>\n",
       "      <th>A0220150203</th>\n",
       "      <td></td>\n",
       "      <td></td>\n",
       "      <td>1523181.02</td>\n",
       "      <td>2309940.35</td>\n",
       "      <td>4267101.79</td>\n",
       "      <td>8100223.16</td>\n",
       "    </tr>\n",
       "    <tr>\n",
       "      <th>A0320150301</th>\n",
       "      <td></td>\n",
       "      <td></td>\n",
       "      <td>1437465.77</td>\n",
       "      <td>2304858.67</td>\n",
       "      <td>4076643.41</td>\n",
       "      <td>7818967.85</td>\n",
       "    </tr>\n",
       "    <tr>\n",
       "      <th>A0321150302</th>\n",
       "      <td></td>\n",
       "      <td></td>\n",
       "      <td></td>\n",
       "      <td>2709050.38</td>\n",
       "      <td>4961007.45</td>\n",
       "      <td>7670057.83</td>\n",
       "    </tr>\n",
       "    <tr>\n",
       "      <th>A0321150303</th>\n",
       "      <td></td>\n",
       "      <td></td>\n",
       "      <td></td>\n",
       "      <td>2707918.48</td>\n",
       "      <td>4822381.64</td>\n",
       "      <td>7530300.11</td>\n",
       "    </tr>\n",
       "    <tr>\n",
       "      <th>A0418150101</th>\n",
       "      <td>346748.30</td>\n",
       "      <td>456143.14</td>\n",
       "      <td>799428.87</td>\n",
       "      <td></td>\n",
       "      <td></td>\n",
       "      <td>1602320.31</td>\n",
       "    </tr>\n",
       "    <tr>\n",
       "      <th>A0418150102</th>\n",
       "      <td>371056.05</td>\n",
       "      <td>525685.44</td>\n",
       "      <td>792973.57</td>\n",
       "      <td></td>\n",
       "      <td></td>\n",
       "      <td>1689715.06</td>\n",
       "    </tr>\n",
       "    <tr>\n",
       "      <th>A0418150103</th>\n",
       "      <td>422335.25</td>\n",
       "      <td>550744.12</td>\n",
       "      <td>795096.73</td>\n",
       "      <td>1520041.14</td>\n",
       "      <td>4599653.98</td>\n",
       "      <td>7887871.22</td>\n",
       "    </tr>\n",
       "    <tr>\n",
       "      <th>A0418150104</th>\n",
       "      <td>438957.07</td>\n",
       "      <td>480711.66</td>\n",
       "      <td></td>\n",
       "      <td></td>\n",
       "      <td></td>\n",
       "      <td>919668.72</td>\n",
       "    </tr>\n",
       "    <tr>\n",
       "      <th>All</th>\n",
       "      <td>2944010.85</td>\n",
       "      <td>6641603.64</td>\n",
       "      <td>13172917.14</td>\n",
       "      <td>24661170.06</td>\n",
       "      <td>39136207.36</td>\n",
       "      <td>86555909.06</td>\n",
       "    </tr>\n",
       "  </tbody>\n",
       "</table>\n",
       "</div>"
      ],
      "text/plain": [
       "fiscal_year      2018.0     2019.0      2020.0      2021.0      2022.0  \\\n",
       "product_code                                                             \n",
       "A0118150101   287336.01  600786.23  1016645.18  1906473.23               \n",
       "A0118150102   351654.39  778478.23  1268946.75  2105397.61               \n",
       "A0118150103   363133.70  816151.14  1366588.21  2057748.94  3910024.22   \n",
       "A0118150104   362790.08  784853.34  1266367.24  2249759.07  3939914.70   \n",
       "A0219150201              792795.19  1388562.23  2388805.26  4304919.20   \n",
       "A0219150202              855255.15  1517661.58  2401176.94  4254560.97   \n",
       "A0220150203                         1523181.02  2309940.35  4267101.79   \n",
       "A0320150301                         1437465.77  2304858.67  4076643.41   \n",
       "A0321150302                                     2709050.38  4961007.45   \n",
       "A0321150303                                     2707918.48  4822381.64   \n",
       "A0418150101   346748.30  456143.14   799428.87                           \n",
       "A0418150102   371056.05  525685.44   792973.57                           \n",
       "A0418150103   422335.25  550744.12   795096.73  1520041.14  4599653.98   \n",
       "A0418150104   438957.07  480711.66                                       \n",
       "All          2944010.85 6641603.64 13172917.14 24661170.06 39136207.36   \n",
       "\n",
       "fiscal_year          All  \n",
       "product_code              \n",
       "A0118150101   3811240.66  \n",
       "A0118150102   4504476.97  \n",
       "A0118150103   8513646.22  \n",
       "A0118150104   8603684.42  \n",
       "A0219150201   8875081.88  \n",
       "A0219150202   9028654.63  \n",
       "A0220150203   8100223.16  \n",
       "A0320150301   7818967.85  \n",
       "A0321150302   7670057.83  \n",
       "A0321150303   7530300.11  \n",
       "A0418150101   1602320.31  \n",
       "A0418150102   1689715.06  \n",
       "A0418150103   7887871.22  \n",
       "A0418150104    919668.72  \n",
       "All          86555909.06  "
      ]
     },
     "execution_count": 83,
     "metadata": {},
     "output_type": "execute_result"
    }
   ],
   "source": [
    "amt_rev_pivot = amt_sold.pivot_table(\n",
    "index = 'product_code',\n",
    "columns = 'fiscal_year',\n",
    "values = 'total_revenue',\n",
    "aggfunc= 'sum',\n",
    "margins=True)\n",
    "amt_rev_pivot.fillna('')"
   ]
  },
  {
   "cell_type": "code",
   "execution_count": 84,
   "id": "b427501f",
   "metadata": {
    "scrolled": true
   },
   "outputs": [
    {
     "data": {
      "image/png": "[encoded data removed]",
      "text/plain": [
       "<Figure size 936x648 with 2 Axes>"
      ]
     },
     "metadata": {},
     "output_type": "display_data"
    }
   ],
   "source": [
    "plt.figure(figsize=(13,9))\n",
    "sns.heatmap(amt_rev_pivot, annot=True, fmt='.2f', cmap='YlGnBu', center=5000000, linewidths=1, linecolor='grey',  vmax=10000000, cbar_kws= {'orientation': 'horizontal'} \n",
    "            ).set(title = 'Total Revenue Sold')\n",
    "plt.show()"
   ]
  },
  {
   "cell_type": "code",
   "execution_count": 85,
   "id": "35d0a22e",
   "metadata": {
    "scrolled": true
   },
   "outputs": [
    {
     "data": {
      "image/png": "[encoded data removed]",
      "text/plain": [
       "<Figure size 1296x360 with 1 Axes>"
      ]
     },
     "metadata": {},
     "output_type": "display_data"
    }
   ],
   "source": [
    "sns.set(style='whitegrid')\n",
    "\n",
    "# Scatter plot with color-coded fiscal years\n",
    "plt.figure(figsize=(18, 5))\n",
    "sns.lineplot(data=amt_sold, x='fiscal_year', y='total_revenue', hue='product_code', palette='Set1')\n",
    "\n",
    "# Adding plot details\n",
    "plt.title(\"Scatter Plot of Total Revenue per Fiscal Year\")\n",
    "plt.xlabel(\"Fiscal Year\")\n",
    "plt.ylabel(\"Total Revenue\")\n",
    "\n",
    "plt.legend(title='Product Code')\n",
    "\n",
    "# Display the plot\n",
    "plt.show()"
   ]
  },
  {
   "cell_type": "markdown",
   "id": "ccf2ad65",
   "metadata": {},
   "source": [
    "Sales went up in every year for every product!\n",
    "\n",
    "The graph tells us also when certain products were introduced and discountinued.  For example when the AQ Zion Saga Plus (A0321150302) and Premium (A0321150303) started sales in 2021, they had a higher revenue than all the other products including money made in previous years.\n",
    "\n",
    "Also we can see the sharp increase in the orange AQ Mforce Gen X (A041815103) from 2021-2022 as a shift from a bottom seller to the top third in revenue.  It is useful to note that during 2021, two other products were discontinued: AQ Mforce Gen X Standard 1 & 2\t(A0418150101 and A0418150102).  A year ealier the AQ Mforce Gen X -Plus 1 (A0418150104) was dicontinued.  The remaining AQ Mforce Gen X product, the Standard 3 (A041815103) probably received some of the sales from customers happy with the standard 1 and two and as a result had a sudden increase in sales."
   ]
  },
  {
   "cell_type": "code",
   "execution_count": 86,
   "id": "c8c83235",
   "metadata": {},
   "outputs": [
    {
     "data": {
      "text/html": [
       "<div>\n",
       "<style scoped>\n",
       "    .dataframe tbody tr th:only-of-type {\n",
       "        vertical-align: middle;\n",
       "    }\n",
       "\n",
       "    .dataframe tbody tr th {\n",
       "        vertical-align: top;\n",
       "    }\n",
       "\n",
       "    .dataframe thead th {\n",
       "        text-align: right;\n",
       "    }\n",
       "</style>\n",
       "<table border=\"1\" class=\"dataframe\">\n",
       "  <thead>\n",
       "    <tr style=\"text-align: right;\">\n",
       "      <th></th>\n",
       "      <th></th>\n",
       "      <th></th>\n",
       "      <th>total_revenue</th>\n",
       "    </tr>\n",
       "    <tr>\n",
       "      <th>product_code</th>\n",
       "      <th>product</th>\n",
       "      <th>variant</th>\n",
       "      <th></th>\n",
       "    </tr>\n",
       "  </thead>\n",
       "  <tbody>\n",
       "    <tr>\n",
       "      <th>A0219150202</th>\n",
       "      <th>AQ WereWolf NAS Internal Hard Drive HDD – 8.89 cm</th>\n",
       "      <th>Plus</th>\n",
       "      <td>9028654.63</td>\n",
       "    </tr>\n",
       "    <tr>\n",
       "      <th>A0219150201</th>\n",
       "      <th>AQ WereWolf NAS Internal Hard Drive HDD – 8.89 cm</th>\n",
       "      <th>Standard</th>\n",
       "      <td>8875081.88</td>\n",
       "    </tr>\n",
       "    <tr>\n",
       "      <th>A0118150104</th>\n",
       "      <th>AQ Dracula HDD – 3.5 Inch SATA 6 Gb/s 5400 RPM 256 MB Cache</th>\n",
       "      <th>Premium Plus</th>\n",
       "      <td>8603684.42</td>\n",
       "    </tr>\n",
       "    <tr>\n",
       "      <th>A0118150103</th>\n",
       "      <th>AQ Dracula HDD – 3.5 Inch SATA 6 Gb/s 5400 RPM 256 MB Cache</th>\n",
       "      <th>Premium</th>\n",
       "      <td>8513646.22</td>\n",
       "    </tr>\n",
       "    <tr>\n",
       "      <th>A0220150203</th>\n",
       "      <th>AQ WereWolf NAS Internal Hard Drive HDD – 8.89 cm</th>\n",
       "      <th>Premium</th>\n",
       "      <td>8100223.16</td>\n",
       "    </tr>\n",
       "    <tr>\n",
       "      <th>A0418150103</th>\n",
       "      <th>AQ Mforce Gen X</th>\n",
       "      <th>Standard 3</th>\n",
       "      <td>7887871.22</td>\n",
       "    </tr>\n",
       "    <tr>\n",
       "      <th>A0320150301</th>\n",
       "      <th>AQ Zion Saga</th>\n",
       "      <th>Standard</th>\n",
       "      <td>7818967.85</td>\n",
       "    </tr>\n",
       "    <tr>\n",
       "      <th>A0321150302</th>\n",
       "      <th>AQ Zion Saga</th>\n",
       "      <th>Plus</th>\n",
       "      <td>7670057.83</td>\n",
       "    </tr>\n",
       "    <tr>\n",
       "      <th>A0321150303</th>\n",
       "      <th>AQ Zion Saga</th>\n",
       "      <th>Premium</th>\n",
       "      <td>7530300.11</td>\n",
       "    </tr>\n",
       "    <tr>\n",
       "      <th>A0118150102</th>\n",
       "      <th>AQ Dracula HDD – 3.5 Inch SATA 6 Gb/s 5400 RPM 256 MB Cache</th>\n",
       "      <th>Plus</th>\n",
       "      <td>4504476.97</td>\n",
       "    </tr>\n",
       "    <tr>\n",
       "      <th>A0118150101</th>\n",
       "      <th>AQ Dracula HDD – 3.5 Inch SATA 6 Gb/s 5400 RPM 256 MB Cache</th>\n",
       "      <th>Standard</th>\n",
       "      <td>3811240.66</td>\n",
       "    </tr>\n",
       "    <tr>\n",
       "      <th>A0418150102</th>\n",
       "      <th>AQ Mforce Gen X</th>\n",
       "      <th>Standard 2</th>\n",
       "      <td>1689715.06</td>\n",
       "    </tr>\n",
       "    <tr>\n",
       "      <th>A0418150101</th>\n",
       "      <th>AQ Mforce Gen X</th>\n",
       "      <th>Standard 1</th>\n",
       "      <td>1602320.31</td>\n",
       "    </tr>\n",
       "    <tr>\n",
       "      <th>A0418150104</th>\n",
       "      <th>AQ Mforce Gen X</th>\n",
       "      <th>Plus 1</th>\n",
       "      <td>919668.72</td>\n",
       "    </tr>\n",
       "  </tbody>\n",
       "</table>\n",
       "</div>"
      ],
      "text/plain": [
       "                                                                                       total_revenue\n",
       "product_code product                                                     variant                    \n",
       "A0219150202  AQ WereWolf NAS Internal Hard Drive HDD – 8.89 cm           Plus             9028654.63\n",
       "A0219150201  AQ WereWolf NAS Internal Hard Drive HDD – 8.89 cm           Standard         8875081.88\n",
       "A0118150104  AQ Dracula HDD – 3.5 Inch SATA 6 Gb/s 5400 RPM 256 MB Cache Premium Plus     8603684.42\n",
       "A0118150103  AQ Dracula HDD – 3.5 Inch SATA 6 Gb/s 5400 RPM 256 MB Cache Premium          8513646.22\n",
       "A0220150203  AQ WereWolf NAS Internal Hard Drive HDD – 8.89 cm           Premium          8100223.16\n",
       "A0418150103  AQ Mforce Gen X                                             Standard 3       7887871.22\n",
       "A0320150301  AQ Zion Saga                                                Standard         7818967.85\n",
       "A0321150302  AQ Zion Saga                                                Plus             7670057.83\n",
       "A0321150303  AQ Zion Saga                                                Premium          7530300.11\n",
       "A0118150102  AQ Dracula HDD – 3.5 Inch SATA 6 Gb/s 5400 RPM 256 MB Cache Plus             4504476.97\n",
       "A0118150101  AQ Dracula HDD – 3.5 Inch SATA 6 Gb/s 5400 RPM 256 MB Cache Standard         3811240.66\n",
       "A0418150102  AQ Mforce Gen X                                             Standard 2       1689715.06\n",
       "A0418150101  AQ Mforce Gen X                                             Standard 1       1602320.31\n",
       "A0418150104  AQ Mforce Gen X                                             Plus 1            919668.72"
      ]
     },
     "execution_count": 86,
     "metadata": {},
     "output_type": "execute_result"
    }
   ],
   "source": [
    "#top selling products over time with names\n",
    "total_rev = amt_sold.groupby(['product_code', 'product', 'variant']).agg({'total_revenue':sum}).sort_values('total_revenue', ascending=False)\n",
    "total_rev"
   ]
  },
  {
   "cell_type": "markdown",
   "id": "2a984ce1",
   "metadata": {},
   "source": [
    "The top three grossing products were:\n",
    "\n",
    "9028654.63 A0219150202\tAQ WereWolf NAS Internal Hard Drive HDD – 8.89 cm\tPlus\n",
    "\n",
    "8875081.88 A0219150201\tAQ WereWolf NAS Internal Hard Drive HDD – 8.89 cm\tStandard\n",
    "\n",
    "8603684.42 A0118150104\tAQ Dracula HDD – 3.5 Inch SATA 6 Gb/s 5400 RPM 256 MB Cache\tPremium Plus\t\n",
    "\n"
   ]
  },
  {
   "cell_type": "code",
   "execution_count": 87,
   "id": "e8cdbed1",
   "metadata": {
    "scrolled": true
   },
   "outputs": [],
   "source": [
    "total_rev_year = amt_sold.groupby(['fiscal_year','product_code', 'product', 'variant']).agg({'total_revenue':sum}).sort_values(['fiscal_year', 'total_revenue'], ascending=False)\n",
    "#total_rev_year"
   ]
  },
  {
   "cell_type": "markdown",
   "id": "98e0e465",
   "metadata": {},
   "source": [
    "The below code allows use to see the top three products for each year.\n",
    "\n",
    "### Best sellers for each year:\n",
    "\n",
    "2018: AQ Mforce Gen X - Plus 1\n",
    "\n",
    "2019: AQ WereWolf NAS Internal Hard Drive HDD – 8.89 cm\tPlus\n",
    "\n",
    "2020: AQ WereWolf NAS Internal Hard Drive HDD – 8.89 cm\tPremium (with the Plus variation close behind)\n",
    "\n",
    "2021: AQ Zion Saga\tPlus (with the Premium variation almost tied)\n",
    "\n",
    "2022: AQ Zion Saga\tPlus (again with the Premium variation in a close second)"
   ]
  },
  {
   "cell_type": "code",
   "execution_count": 88,
   "id": "6384fbc1",
   "metadata": {
    "scrolled": true
   },
   "outputs": [
    {
     "name": "stdout",
     "output_type": "stream",
     "text": [
      "Top Three Grossing Products for: 2018.0\n"
     ]
    },
    {
     "data": {
      "text/html": [
       "<div>\n",
       "<style scoped>\n",
       "    .dataframe tbody tr th:only-of-type {\n",
       "        vertical-align: middle;\n",
       "    }\n",
       "\n",
       "    .dataframe tbody tr th {\n",
       "        vertical-align: top;\n",
       "    }\n",
       "\n",
       "    .dataframe thead th {\n",
       "        text-align: right;\n",
       "    }\n",
       "</style>\n",
       "<table border=\"1\" class=\"dataframe\">\n",
       "  <thead>\n",
       "    <tr style=\"text-align: right;\">\n",
       "      <th></th>\n",
       "      <th></th>\n",
       "      <th></th>\n",
       "      <th></th>\n",
       "      <th>total_revenue</th>\n",
       "    </tr>\n",
       "    <tr>\n",
       "      <th>fiscal_year</th>\n",
       "      <th>product_code</th>\n",
       "      <th>product</th>\n",
       "      <th>variant</th>\n",
       "      <th></th>\n",
       "    </tr>\n",
       "  </thead>\n",
       "  <tbody>\n",
       "    <tr>\n",
       "      <th rowspan=\"3\" valign=\"top\">2018.00</th>\n",
       "      <th>A0418150104</th>\n",
       "      <th>AQ Mforce Gen X</th>\n",
       "      <th>Plus 1</th>\n",
       "      <td>438957.07</td>\n",
       "    </tr>\n",
       "    <tr>\n",
       "      <th>A0418150103</th>\n",
       "      <th>AQ Mforce Gen X</th>\n",
       "      <th>Standard 3</th>\n",
       "      <td>422335.25</td>\n",
       "    </tr>\n",
       "    <tr>\n",
       "      <th>A0418150102</th>\n",
       "      <th>AQ Mforce Gen X</th>\n",
       "      <th>Standard 2</th>\n",
       "      <td>371056.05</td>\n",
       "    </tr>\n",
       "  </tbody>\n",
       "</table>\n",
       "</div>"
      ],
      "text/plain": [
       "                                                     total_revenue\n",
       "fiscal_year product_code product         variant                  \n",
       "2018.00     A0418150104  AQ Mforce Gen X Plus 1          438957.07\n",
       "            A0418150103  AQ Mforce Gen X Standard 3      422335.25\n",
       "            A0418150102  AQ Mforce Gen X Standard 2      371056.05"
      ]
     },
     "metadata": {},
     "output_type": "display_data"
    },
    {
     "name": "stdout",
     "output_type": "stream",
     "text": [
      "\n",
      "Top Three Grossing Products for: 2019.0\n"
     ]
    },
    {
     "data": {
      "text/html": [
       "<div>\n",
       "<style scoped>\n",
       "    .dataframe tbody tr th:only-of-type {\n",
       "        vertical-align: middle;\n",
       "    }\n",
       "\n",
       "    .dataframe tbody tr th {\n",
       "        vertical-align: top;\n",
       "    }\n",
       "\n",
       "    .dataframe thead th {\n",
       "        text-align: right;\n",
       "    }\n",
       "</style>\n",
       "<table border=\"1\" class=\"dataframe\">\n",
       "  <thead>\n",
       "    <tr style=\"text-align: right;\">\n",
       "      <th></th>\n",
       "      <th></th>\n",
       "      <th></th>\n",
       "      <th></th>\n",
       "      <th>total_revenue</th>\n",
       "    </tr>\n",
       "    <tr>\n",
       "      <th>fiscal_year</th>\n",
       "      <th>product_code</th>\n",
       "      <th>product</th>\n",
       "      <th>variant</th>\n",
       "      <th></th>\n",
       "    </tr>\n",
       "  </thead>\n",
       "  <tbody>\n",
       "    <tr>\n",
       "      <th rowspan=\"3\" valign=\"top\">2019.00</th>\n",
       "      <th>A0219150202</th>\n",
       "      <th>AQ WereWolf NAS Internal Hard Drive HDD – 8.89 cm</th>\n",
       "      <th>Plus</th>\n",
       "      <td>855255.15</td>\n",
       "    </tr>\n",
       "    <tr>\n",
       "      <th>A0118150103</th>\n",
       "      <th>AQ Dracula HDD – 3.5 Inch SATA 6 Gb/s 5400 RPM 256 MB Cache</th>\n",
       "      <th>Premium</th>\n",
       "      <td>816151.14</td>\n",
       "    </tr>\n",
       "    <tr>\n",
       "      <th>A0219150201</th>\n",
       "      <th>AQ WereWolf NAS Internal Hard Drive HDD – 8.89 cm</th>\n",
       "      <th>Standard</th>\n",
       "      <td>792795.19</td>\n",
       "    </tr>\n",
       "  </tbody>\n",
       "</table>\n",
       "</div>"
      ],
      "text/plain": [
       "                                                                                               total_revenue\n",
       "fiscal_year product_code product                                                     variant                \n",
       "2019.00     A0219150202  AQ WereWolf NAS Internal Hard Drive HDD – 8.89 cm           Plus          855255.15\n",
       "            A0118150103  AQ Dracula HDD – 3.5 Inch SATA 6 Gb/s 5400 RPM 256 MB Cache Premium       816151.14\n",
       "            A0219150201  AQ WereWolf NAS Internal Hard Drive HDD – 8.89 cm           Standard      792795.19"
      ]
     },
     "metadata": {},
     "output_type": "display_data"
    },
    {
     "name": "stdout",
     "output_type": "stream",
     "text": [
      "\n",
      "Top Three Grossing Products for: 2020.0\n"
     ]
    },
    {
     "data": {
      "text/html": [
       "<div>\n",
       "<style scoped>\n",
       "    .dataframe tbody tr th:only-of-type {\n",
       "        vertical-align: middle;\n",
       "    }\n",
       "\n",
       "    .dataframe tbody tr th {\n",
       "        vertical-align: top;\n",
       "    }\n",
       "\n",
       "    .dataframe thead th {\n",
       "        text-align: right;\n",
       "    }\n",
       "</style>\n",
       "<table border=\"1\" class=\"dataframe\">\n",
       "  <thead>\n",
       "    <tr style=\"text-align: right;\">\n",
       "      <th></th>\n",
       "      <th></th>\n",
       "      <th></th>\n",
       "      <th></th>\n",
       "      <th>total_revenue</th>\n",
       "    </tr>\n",
       "    <tr>\n",
       "      <th>fiscal_year</th>\n",
       "      <th>product_code</th>\n",
       "      <th>product</th>\n",
       "      <th>variant</th>\n",
       "      <th></th>\n",
       "    </tr>\n",
       "  </thead>\n",
       "  <tbody>\n",
       "    <tr>\n",
       "      <th rowspan=\"3\" valign=\"top\">2020.00</th>\n",
       "      <th>A0220150203</th>\n",
       "      <th>AQ WereWolf NAS Internal Hard Drive HDD – 8.89 cm</th>\n",
       "      <th>Premium</th>\n",
       "      <td>1523181.02</td>\n",
       "    </tr>\n",
       "    <tr>\n",
       "      <th>A0219150202</th>\n",
       "      <th>AQ WereWolf NAS Internal Hard Drive HDD – 8.89 cm</th>\n",
       "      <th>Plus</th>\n",
       "      <td>1517661.58</td>\n",
       "    </tr>\n",
       "    <tr>\n",
       "      <th>A0320150301</th>\n",
       "      <th>AQ Zion Saga</th>\n",
       "      <th>Standard</th>\n",
       "      <td>1437465.77</td>\n",
       "    </tr>\n",
       "  </tbody>\n",
       "</table>\n",
       "</div>"
      ],
      "text/plain": [
       "                                                                                     total_revenue\n",
       "fiscal_year product_code product                                           variant                \n",
       "2020.00     A0220150203  AQ WereWolf NAS Internal Hard Drive HDD – 8.89 cm Premium      1523181.02\n",
       "            A0219150202  AQ WereWolf NAS Internal Hard Drive HDD – 8.89 cm Plus         1517661.58\n",
       "            A0320150301  AQ Zion Saga                                      Standard     1437465.77"
      ]
     },
     "metadata": {},
     "output_type": "display_data"
    },
    {
     "name": "stdout",
     "output_type": "stream",
     "text": [
      "\n",
      "Top Three Grossing Products for: 2021.0\n"
     ]
    },
    {
     "data": {
      "text/html": [
       "<div>\n",
       "<style scoped>\n",
       "    .dataframe tbody tr th:only-of-type {\n",
       "        vertical-align: middle;\n",
       "    }\n",
       "\n",
       "    .dataframe tbody tr th {\n",
       "        vertical-align: top;\n",
       "    }\n",
       "\n",
       "    .dataframe thead th {\n",
       "        text-align: right;\n",
       "    }\n",
       "</style>\n",
       "<table border=\"1\" class=\"dataframe\">\n",
       "  <thead>\n",
       "    <tr style=\"text-align: right;\">\n",
       "      <th></th>\n",
       "      <th></th>\n",
       "      <th></th>\n",
       "      <th></th>\n",
       "      <th>total_revenue</th>\n",
       "    </tr>\n",
       "    <tr>\n",
       "      <th>fiscal_year</th>\n",
       "      <th>product_code</th>\n",
       "      <th>product</th>\n",
       "      <th>variant</th>\n",
       "      <th></th>\n",
       "    </tr>\n",
       "  </thead>\n",
       "  <tbody>\n",
       "    <tr>\n",
       "      <th rowspan=\"3\" valign=\"top\">2021.00</th>\n",
       "      <th>A0321150302</th>\n",
       "      <th>AQ Zion Saga</th>\n",
       "      <th>Plus</th>\n",
       "      <td>2709050.38</td>\n",
       "    </tr>\n",
       "    <tr>\n",
       "      <th>A0321150303</th>\n",
       "      <th>AQ Zion Saga</th>\n",
       "      <th>Premium</th>\n",
       "      <td>2707918.48</td>\n",
       "    </tr>\n",
       "    <tr>\n",
       "      <th>A0219150202</th>\n",
       "      <th>AQ WereWolf NAS Internal Hard Drive HDD – 8.89 cm</th>\n",
       "      <th>Plus</th>\n",
       "      <td>2401176.94</td>\n",
       "    </tr>\n",
       "  </tbody>\n",
       "</table>\n",
       "</div>"
      ],
      "text/plain": [
       "                                                                                    total_revenue\n",
       "fiscal_year product_code product                                           variant               \n",
       "2021.00     A0321150302  AQ Zion Saga                                      Plus        2709050.38\n",
       "            A0321150303  AQ Zion Saga                                      Premium     2707918.48\n",
       "            A0219150202  AQ WereWolf NAS Internal Hard Drive HDD – 8.89 cm Plus        2401176.94"
      ]
     },
     "metadata": {},
     "output_type": "display_data"
    },
    {
     "name": "stdout",
     "output_type": "stream",
     "text": [
      "\n",
      "Top Three Grossing Products for: 2022.0\n"
     ]
    },
    {
     "data": {
      "text/html": [
       "<div>\n",
       "<style scoped>\n",
       "    .dataframe tbody tr th:only-of-type {\n",
       "        vertical-align: middle;\n",
       "    }\n",
       "\n",
       "    .dataframe tbody tr th {\n",
       "        vertical-align: top;\n",
       "    }\n",
       "\n",
       "    .dataframe thead th {\n",
       "        text-align: right;\n",
       "    }\n",
       "</style>\n",
       "<table border=\"1\" class=\"dataframe\">\n",
       "  <thead>\n",
       "    <tr style=\"text-align: right;\">\n",
       "      <th></th>\n",
       "      <th></th>\n",
       "      <th></th>\n",
       "      <th></th>\n",
       "      <th>total_revenue</th>\n",
       "    </tr>\n",
       "    <tr>\n",
       "      <th>fiscal_year</th>\n",
       "      <th>product_code</th>\n",
       "      <th>product</th>\n",
       "      <th>variant</th>\n",
       "      <th></th>\n",
       "    </tr>\n",
       "  </thead>\n",
       "  <tbody>\n",
       "    <tr>\n",
       "      <th rowspan=\"3\" valign=\"top\">2022.00</th>\n",
       "      <th>A0321150302</th>\n",
       "      <th>AQ Zion Saga</th>\n",
       "      <th>Plus</th>\n",
       "      <td>4961007.45</td>\n",
       "    </tr>\n",
       "    <tr>\n",
       "      <th>A0321150303</th>\n",
       "      <th>AQ Zion Saga</th>\n",
       "      <th>Premium</th>\n",
       "      <td>4822381.64</td>\n",
       "    </tr>\n",
       "    <tr>\n",
       "      <th>A0418150103</th>\n",
       "      <th>AQ Mforce Gen X</th>\n",
       "      <th>Standard 3</th>\n",
       "      <td>4599653.98</td>\n",
       "    </tr>\n",
       "  </tbody>\n",
       "</table>\n",
       "</div>"
      ],
      "text/plain": [
       "                                                     total_revenue\n",
       "fiscal_year product_code product         variant                  \n",
       "2022.00     A0321150302  AQ Zion Saga    Plus           4961007.45\n",
       "            A0321150303  AQ Zion Saga    Premium        4822381.64\n",
       "            A0418150103  AQ Mforce Gen X Standard 3     4599653.98"
      ]
     },
     "metadata": {},
     "output_type": "display_data"
    },
    {
     "name": "stdout",
     "output_type": "stream",
     "text": [
      "\n"
     ]
    }
   ],
   "source": [
    "def top_3_rev(year):\n",
    "    top_rev_year = total_rev_year[total_rev_year.index.get_level_values('fiscal_year') == year]\n",
    "    display(top_rev_year.sort_values('total_revenue', ascending=False).head(3))\n",
    "    \n",
    "    #amt_sold['fiscal_year'][0:5]\n",
    "    \n",
    "for yr in [2018.0, 2019.0, 2020.0, 2021.0, 2022.0]:\n",
    "    print('Top Three Grossing Products for:', yr)\n",
    "    top_3_rev(yr)\n",
    "    print()"
   ]
  },
  {
   "cell_type": "markdown",
   "id": "9bb0cb26",
   "metadata": {},
   "source": [
    "If the graphs for revenue and sales volume follow the same trend then we can see a positive correlation as expected.  However, if they are different it could points to a certain sales promotion that helped a top selling product to be a low grosser."
   ]
  },
  {
   "cell_type": "code",
   "execution_count": 89,
   "id": "216d2a22",
   "metadata": {},
   "outputs": [
    {
     "data": {
      "application/vnd.plotly.v1+json": {
       "config": {
        "plotlyServerURL": "https://plot.ly"
       },
       "data": [
        {
         "name": "quantity_sold",
         "type": "bar",
         "x": [
          "A0",
          "A0118150101",
          "A0118150101",
          "A0118150101",
          "A0118150101",
          "A0118150102",
          "A0118150102",
          "A0118150102",
          "A0118150102",
          "A0118150103",
          "A0118150103",
          "A0118150103",
          "A0118150103",
          "A0118150103",
          "A0118150104",
          "A0118150104",
          "A0118150104",
          "A0118150104",
          "A0118150104",
          "A0219150201",
          "A0219150201",
          "A0219150201",
          "A0219150201",
          "A0219150202",
          "A0219150202",
          "A0219150202",
          "A0219150202",
          "A0220150203",
          "A0220150203",
          "A0220150203",
          "A0320150301",
          "A0320150301",
          "A0320150301",
          "A0321150302",
          "A0321150302",
          "A0321150303",
          "A0321150303",
          "A0418150101",
          "A0418150101",
          "A0418150101",
          "A0418150102",
          "A0418150102",
          "A0418150102",
          "A0418150103",
          "A0418150103",
          "A0418150103",
          "A0418150103",
          "A0418150103",
          "A0418150104",
          "A0418150104"
         ],
         "xaxis": "x",
         "y": [
          null,
          18664,
          41608,
          62631,
          100039,
          17953,
          41945,
          63902,
          98124,
          18754,
          42191,
          61748,
          94481,
          162972,
          18534,
          42408,
          60961,
          97931,
          166735,
          42932,
          62464,
          100799,
          172000,
          41074,
          62827,
          97091,
          169156,
          63680,
          97815,
          165516,
          64502,
          97160,
          157906,
          99955,
          168127,
          96691,
          159123,
          21842,
          32453,
          45758,
          22315,
          32880,
          46530,
          23667,
          34563,
          45581,
          77857,
          218083,
          23542,
          27465
         ],
         "yaxis": "y"
        },
        {
         "name": "total_revenue",
         "type": "bar",
         "x": [
          "A0",
          "A0118150101",
          "A0118150101",
          "A0118150101",
          "A0118150101",
          "A0118150102",
          "A0118150102",
          "A0118150102",
          "A0118150102",
          "A0118150103",
          "A0118150103",
          "A0118150103",
          "A0118150103",
          "A0118150103",
          "A0118150104",
          "A0118150104",
          "A0118150104",
          "A0118150104",
          "A0118150104",
          "A0219150201",
          "A0219150201",
          "A0219150201",
          "A0219150201",
          "A0219150202",
          "A0219150202",
          "A0219150202",
          "A0219150202",
          "A0220150203",
          "A0220150203",
          "A0220150203",
          "A0320150301",
          "A0320150301",
          "A0320150301",
          "A0321150302",
          "A0321150302",
          "A0321150303",
          "A0321150303",
          "A0418150101",
          "A0418150101",
          "A0418150101",
          "A0418150102",
          "A0418150102",
          "A0418150102",
          "A0418150103",
          "A0418150103",
          "A0418150103",
          "A0418150103",
          "A0418150103",
          "A0418150104",
          "A0418150104"
         ],
         "xaxis": "x2",
         "y": [
          null,
          287336.01279999956,
          600786.2336,
          1016645.1812999973,
          1906473.2346999918,
          351654.3875000009,
          778478.2274999975,
          1268946.745400004,
          2105397.6059999913,
          363133.70200000115,
          816151.1421999997,
          1366588.211600006,
          2057748.9394999922,
          3910024.2240000027,
          362790.07619999873,
          784853.3375999928,
          1266367.237399994,
          2249759.0699000023,
          3939914.7029999993,
          792795.1915999843,
          1388562.2271999945,
          2388805.2612999943,
          4304919.200000003,
          855255.1501999946,
          1517661.5774000091,
          2401176.9392000083,
          4254560.965199998,
          1523181.023999995,
          2309940.3510000226,
          4267101.7896,
          1437465.7711999936,
          2304858.6680000094,
          4076643.411399996,
          2709050.378499989,
          4961007.452500006,
          2707918.476899994,
          4822381.638000001,
          346748.3026000023,
          456143.1415000002,
          799428.8664000073,
          371056.0514999997,
          525685.4400000025,
          792973.5660000053,
          422335.24829999986,
          550744.1234999985,
          795096.7315999902,
          1520041.1394999968,
          4599653.977899996,
          438957.0693999987,
          480711.65550000255
         ],
         "yaxis": "y2"
        }
       ],
       "layout": {
        "annotations": [
         {
          "font": {
           "size": 16
          },
          "showarrow": false,
          "text": "Quantity Sold",
          "x": 0.225,
          "xanchor": "center",
          "xref": "paper",
          "y": 1,
          "yanchor": "bottom",
          "yref": "paper"
         },
         {
          "font": {
           "size": 16
          },
          "showarrow": false,
          "text": "Total Revenue",
          "x": 0.775,
          "xanchor": "center",
          "xref": "paper",
          "y": 1,
          "yanchor": "bottom",
          "yref": "paper"
         }
        ],
        "template": {
         "data": {
          "bar": [
           {
            "error_x": {
             "color": "#2a3f5f"
            },
            "error_y": {
             "color": "#2a3f5f"
            },
            "marker": {
             "line": {
              "color": "#E5ECF6",
              "width": 0.5
             },
             "pattern": {
              "fillmode": "overlay",
              "size": 10,
              "solidity": 0.2
             }
            },
            "type": "bar"
           }
          ],
          "barpolar": [
           {
            "marker": {
             "line": {
              "color": "#E5ECF6",
              "width": 0.5
             },
             "pattern": {
              "fillmode": "overlay",
              "size": 10,
              "solidity": 0.2
             }
            },
            "type": "barpolar"
           }
          ],
          "carpet": [
           {
            "aaxis": {
             "endlinecolor": "#2a3f5f",
             "gridcolor": "white",
             "linecolor": "white",
             "minorgridcolor": "white",
             "startlinecolor": "#2a3f5f"
            },
            "baxis": {
             "endlinecolor": "#2a3f5f",
             "gridcolor": "white",
             "linecolor": "white",
             "minorgridcolor": "white",
             "startlinecolor": "#2a3f5f"
            },
            "type": "carpet"
           }
          ],
          "choropleth": [
           {
            "colorbar": {
             "outlinewidth": 0,
             "ticks": ""
            },
            "type": "choropleth"
           }
          ],
          "contour": [
           {
            "colorbar": {
             "outlinewidth": 0,
             "ticks": ""
            },
            "colorscale": [
             [
              0,
              "#0d0887"
             ],
             [
              0.1111111111111111,
              "#46039f"
             ],
             [
              0.2222222222222222,
              "#7201a8"
             ],
             [
              0.3333333333333333,
              "#9c179e"
             ],
             [
              0.4444444444444444,
              "#bd3786"
             ],
             [
              0.5555555555555556,
              "#d8576b"
             ],
             [
              0.6666666666666666,
              "#ed7953"
             ],
             [
              0.7777777777777778,
              "#fb9f3a"
             ],
             [
              0.8888888888888888,
              "#fdca26"
             ],
             [
              1,
              "#f0f921"
             ]
            ],
            "type": "contour"
           }
          ],
          "contourcarpet": [
           {
            "colorbar": {
             "outlinewidth": 0,
             "ticks": ""
            },
            "type": "contourcarpet"
           }
          ],
          "heatmap": [
           {
            "colorbar": {
             "outlinewidth": 0,
             "ticks": ""
            },
            "colorscale": [
             [
              0,
              "#0d0887"
             ],
             [
              0.1111111111111111,
              "#46039f"
             ],
             [
              0.2222222222222222,
              "#7201a8"
             ],
             [
              0.3333333333333333,
              "#9c179e"
             ],
             [
              0.4444444444444444,
              "#bd3786"
             ],
             [
              0.5555555555555556,
              "#d8576b"
             ],
             [
              0.6666666666666666,
              "#ed7953"
             ],
             [
              0.7777777777777778,
              "#fb9f3a"
             ],
             [
              0.8888888888888888,
              "#fdca26"
             ],
             [
              1,
              "#f0f921"
             ]
            ],
            "type": "heatmap"
           }
          ],
          "heatmapgl": [
           {
            "colorbar": {
             "outlinewidth": 0,
             "ticks": ""
            },
            "colorscale": [
             [
              0,
              "#0d0887"
             ],
             [
              0.1111111111111111,
              "#46039f"
             ],
             [
              0.2222222222222222,
              "#7201a8"
             ],
             [
              0.3333333333333333,
              "#9c179e"
             ],
             [
              0.4444444444444444,
              "#bd3786"
             ],
             [
              0.5555555555555556,
              "#d8576b"
             ],
             [
              0.6666666666666666,
              "#ed7953"
             ],
             [
              0.7777777777777778,
              "#fb9f3a"
             ],
             [
              0.8888888888888888,
              "#fdca26"
             ],
             [
              1,
              "#f0f921"
             ]
            ],
            "type": "heatmapgl"
           }
          ],
          "histogram": [
           {
            "marker": {
             "pattern": {
              "fillmode": "overlay",
              "size": 10,
              "solidity": 0.2
             }
            },
            "type": "histogram"
           }
          ],
          "histogram2d": [
           {
            "colorbar": {
             "outlinewidth": 0,
             "ticks": ""
            },
            "colorscale": [
             [
              0,
              "#0d0887"
             ],
             [
              0.1111111111111111,
              "#46039f"
             ],
             [
              0.2222222222222222,
              "#7201a8"
             ],
             [
              0.3333333333333333,
              "#9c179e"
             ],
             [
              0.4444444444444444,
              "#bd3786"
             ],
             [
              0.5555555555555556,
              "#d8576b"
             ],
             [
              0.6666666666666666,
              "#ed7953"
             ],
             [
              0.7777777777777778,
              "#fb9f3a"
             ],
             [
              0.8888888888888888,
              "#fdca26"
             ],
             [
              1,
              "#f0f921"
             ]
            ],
            "type": "histogram2d"
           }
          ],
          "histogram2dcontour": [
           {
            "colorbar": {
             "outlinewidth": 0,
             "ticks": ""
            },
            "colorscale": [
             [
              0,
              "#0d0887"
             ],
             [
              0.1111111111111111,
              "#46039f"
             ],
             [
              0.2222222222222222,
              "#7201a8"
             ],
             [
              0.3333333333333333,
              "#9c179e"
             ],
             [
              0.4444444444444444,
              "#bd3786"
             ],
             [
              0.5555555555555556,
              "#d8576b"
             ],
             [
              0.6666666666666666,
              "#ed7953"
             ],
             [
              0.7777777777777778,
              "#fb9f3a"
             ],
             [
              0.8888888888888888,
              "#fdca26"
             ],
             [
              1,
              "#f0f921"
             ]
            ],
            "type": "histogram2dcontour"
           }
          ],
          "mesh3d": [
           {
            "colorbar": {
             "outlinewidth": 0,
             "ticks": ""
            },
            "type": "mesh3d"
           }
          ],
          "parcoords": [
           {
            "line": {
             "colorbar": {
              "outlinewidth": 0,
              "ticks": ""
             }
            },
            "type": "parcoords"
           }
          ],
          "pie": [
           {
            "automargin": true,
            "type": "pie"
           }
          ],
          "scatter": [
           {
            "marker": {
             "colorbar": {
              "outlinewidth": 0,
              "ticks": ""
             }
            },
            "type": "scatter"
           }
          ],
          "scatter3d": [
           {
            "line": {
             "colorbar": {
              "outlinewidth": 0,
              "ticks": ""
             }
            },
            "marker": {
             "colorbar": {
              "outlinewidth": 0,
              "ticks": ""
             }
            },
            "type": "scatter3d"
           }
          ],
          "scattercarpet": [
           {
            "marker": {
             "colorbar": {
              "outlinewidth": 0,
              "ticks": ""
             }
            },
            "type": "scattercarpet"
           }
          ],
          "scattergeo": [
           {
            "marker": {
             "colorbar": {
              "outlinewidth": 0,
              "ticks": ""
             }
            },
            "type": "scattergeo"
           }
          ],
          "scattergl": [
           {
            "marker": {
             "colorbar": {
              "outlinewidth": 0,
              "ticks": ""
             }
            },
            "type": "scattergl"
           }
          ],
          "scattermapbox": [
           {
            "marker": {
             "colorbar": {
              "outlinewidth": 0,
              "ticks": ""
             }
            },
            "type": "scattermapbox"
           }
          ],
          "scatterpolar": [
           {
            "marker": {
             "colorbar": {
              "outlinewidth": 0,
              "ticks": ""
             }
            },
            "type": "scatterpolar"
           }
          ],
          "scatterpolargl": [
           {
            "marker": {
             "colorbar": {
              "outlinewidth": 0,
              "ticks": ""
             }
            },
            "type": "scatterpolargl"
           }
          ],
          "scatterternary": [
           {
            "marker": {
             "colorbar": {
              "outlinewidth": 0,
              "ticks": ""
             }
            },
            "type": "scatterternary"
           }
          ],
          "surface": [
           {
            "colorbar": {
             "outlinewidth": 0,
             "ticks": ""
            },
            "colorscale": [
             [
              0,
              "#0d0887"
             ],
             [
              0.1111111111111111,
              "#46039f"
             ],
             [
              0.2222222222222222,
              "#7201a8"
             ],
             [
              0.3333333333333333,
              "#9c179e"
             ],
             [
              0.4444444444444444,
              "#bd3786"
             ],
             [
              0.5555555555555556,
              "#d8576b"
             ],
             [
              0.6666666666666666,
              "#ed7953"
             ],
             [
              0.7777777777777778,
              "#fb9f3a"
             ],
             [
              0.8888888888888888,
              "#fdca26"
             ],
             [
              1,
              "#f0f921"
             ]
            ],
            "type": "surface"
           }
          ],
          "table": [
           {
            "cells": {
             "fill": {
              "color": "#EBF0F8"
             },
             "line": {
              "color": "white"
             }
            },
            "header": {
             "fill": {
              "color": "#C8D4E3"
             },
             "line": {
              "color": "white"
             }
            },
            "type": "table"
           }
          ]
         },
         "layout": {
          "annotationdefaults": {
           "arrowcolor": "#2a3f5f",
           "arrowhead": 0,
           "arrowwidth": 1
          },
          "autotypenumbers": "strict",
          "coloraxis": {
           "colorbar": {
            "outlinewidth": 0,
            "ticks": ""
           }
          },
          "colorscale": {
           "diverging": [
            [
             0,
             "#8e0152"
            ],
            [
             0.1,
             "#c51b7d"
            ],
            [
             0.2,
             "#de77ae"
            ],
            [
             0.3,
             "#f1b6da"
            ],
            [
             0.4,
             "#fde0ef"
            ],
            [
             0.5,
             "#f7f7f7"
            ],
            [
             0.6,
             "#e6f5d0"
            ],
            [
             0.7,
             "#b8e186"
            ],
            [
             0.8,
             "#7fbc41"
            ],
            [
             0.9,
             "#4d9221"
            ],
            [
             1,
             "#276419"
            ]
           ],
           "sequential": [
            [
             0,
             "#0d0887"
            ],
            [
             0.1111111111111111,
             "#46039f"
            ],
            [
             0.2222222222222222,
             "#7201a8"
            ],
            [
             0.3333333333333333,
             "#9c179e"
            ],
            [
             0.4444444444444444,
             "#bd3786"
            ],
            [
             0.5555555555555556,
             "#d8576b"
            ],
            [
             0.6666666666666666,
             "#ed7953"
            ],
            [
             0.7777777777777778,
             "#fb9f3a"
            ],
            [
             0.8888888888888888,
             "#fdca26"
            ],
            [
             1,
             "#f0f921"
            ]
           ],
           "sequentialminus": [
            [
             0,
             "#0d0887"
            ],
            [
             0.1111111111111111,
             "#46039f"
            ],
            [
             0.2222222222222222,
             "#7201a8"
            ],
            [
             0.3333333333333333,
             "#9c179e"
            ],
            [
             0.4444444444444444,
             "#bd3786"
            ],
            [
             0.5555555555555556,
             "#d8576b"
            ],
            [
             0.6666666666666666,
             "#ed7953"
            ],
            [
             0.7777777777777778,
             "#fb9f3a"
            ],
            [
             0.8888888888888888,
             "#fdca26"
            ],
            [
             1,
             "#f0f921"
            ]
           ]
          },
          "colorway": [
           "#636efa",
           "#EF553B",
           "#00cc96",
           "#ab63fa",
           "#FFA15A",
           "#19d3f3",
           "#FF6692",
           "#B6E880",
           "#FF97FF",
           "#FECB52"
          ],
          "font": {
           "color": "#2a3f5f"
          },
          "geo": {
           "bgcolor": "white",
           "lakecolor": "white",
           "landcolor": "#E5ECF6",
           "showlakes": true,
           "showland": true,
           "subunitcolor": "white"
          },
          "hoverlabel": {
           "align": "left"
          },
          "hovermode": "closest",
          "mapbox": {
           "style": "light"
          },
          "paper_bgcolor": "white",
          "plot_bgcolor": "#E5ECF6",
          "polar": {
           "angularaxis": {
            "gridcolor": "white",
            "linecolor": "white",
            "ticks": ""
           },
           "bgcolor": "#E5ECF6",
           "radialaxis": {
            "gridcolor": "white",
            "linecolor": "white",
            "ticks": ""
           }
          },
          "scene": {
           "xaxis": {
            "backgroundcolor": "#E5ECF6",
            "gridcolor": "white",
            "gridwidth": 2,
            "linecolor": "white",
            "showbackground": true,
            "ticks": "",
            "zerolinecolor": "white"
           },
           "yaxis": {
            "backgroundcolor": "#E5ECF6",
            "gridcolor": "white",
            "gridwidth": 2,
            "linecolor": "white",
            "showbackground": true,
            "ticks": "",
            "zerolinecolor": "white"
           },
           "zaxis": {
            "backgroundcolor": "#E5ECF6",
            "gridcolor": "white",
            "gridwidth": 2,
            "linecolor": "white",
            "showbackground": true,
            "ticks": "",
            "zerolinecolor": "white"
           }
          },
          "shapedefaults": {
           "line": {
            "color": "#2a3f5f"
           }
          },
          "ternary": {
           "aaxis": {
            "gridcolor": "white",
            "linecolor": "white",
            "ticks": ""
           },
           "baxis": {
            "gridcolor": "white",
            "linecolor": "white",
            "ticks": ""
           },
           "bgcolor": "#E5ECF6",
           "caxis": {
            "gridcolor": "white",
            "linecolor": "white",
            "ticks": ""
           }
          },
          "title": {
           "x": 0.05
          },
          "xaxis": {
           "automargin": true,
           "gridcolor": "white",
           "linecolor": "white",
           "ticks": "",
           "title": {
            "standoff": 15
           },
           "zerolinecolor": "white",
           "zerolinewidth": 2
          },
          "yaxis": {
           "automargin": true,
           "gridcolor": "white",
           "linecolor": "white",
           "ticks": "",
           "title": {
            "standoff": 15
           },
           "zerolinecolor": "white",
           "zerolinewidth": 2
          }
         }
        },
        "title": {
         "text": "Quantity and Revenue for each Product"
        },
        "xaxis": {
         "anchor": "y",
         "domain": [
          0,
          0.45
         ],
         "title": {
          "text": "Product ID"
         }
        },
        "xaxis2": {
         "anchor": "y2",
         "domain": [
          0.55,
          1
         ],
         "title": {
          "text": "Product ID"
         }
        },
        "yaxis": {
         "anchor": "x",
         "domain": [
          0,
          1
         ],
         "title": {
          "text": "Quantity"
         }
        },
        "yaxis2": {
         "anchor": "x2",
         "domain": [
          0,
          1
         ],
         "title": {
          "text": "Revenue"
         }
        }
       }
      },
      "text/html": [
       "<div>                            <div id=\"25c83fc9-7e76-482e-ba5a-ae779aff7b68\" class=\"plotly-graph-div\" style=\"height:525px; width:100%;\"></div>            <script type=\"text/javascript\">                require([\"plotly\"], function(Plotly) {                    window.PLOTLYENV=window.PLOTLYENV || {};                                    if (document.getElementById(\"25c83fc9-7e76-482e-ba5a-ae779aff7b68\")) {                    Plotly.newPlot(                        \"25c83fc9-7e76-482e-ba5a-ae779aff7b68\",                        [{\"name\":\"quantity_sold\",\"x\":[\"A0\",\"A0118150101\",\"A0118150101\",\"A0118150101\",\"A0118150101\",\"A0118150102\",\"A0118150102\",\"A0118150102\",\"A0118150102\",\"A0118150103\",\"A0118150103\",\"A0118150103\",\"A0118150103\",\"A0118150103\",\"A0118150104\",\"A0118150104\",\"A0118150104\",\"A0118150104\",\"A0118150104\",\"A0219150201\",\"A0219150201\",\"A0219150201\",\"A0219150201\",\"A0219150202\",\"A0219150202\",\"A0219150202\",\"A0219150202\",\"A0220150203\",\"A0220150203\",\"A0220150203\",\"A0320150301\",\"A0320150301\",\"A0320150301\",\"A0321150302\",\"A0321150302\",\"A0321150303\",\"A0321150303\",\"A0418150101\",\"A0418150101\",\"A0418150101\",\"A0418150102\",\"A0418150102\",\"A0418150102\",\"A0418150103\",\"A0418150103\",\"A0418150103\",\"A0418150103\",\"A0418150103\",\"A0418150104\",\"A0418150104\"],\"y\":[null,18664.0,41608.0,62631.0,100039.0,17953.0,41945.0,63902.0,98124.0,18754.0,42191.0,61748.0,94481.0,162972.0,18534.0,42408.0,60961.0,97931.0,166735.0,42932.0,62464.0,100799.0,172000.0,41074.0,62827.0,97091.0,169156.0,63680.0,97815.0,165516.0,64502.0,97160.0,157906.0,99955.0,168127.0,96691.0,159123.0,21842.0,32453.0,45758.0,22315.0,32880.0,46530.0,23667.0,34563.0,45581.0,77857.0,218083.0,23542.0,27465.0],\"type\":\"bar\",\"xaxis\":\"x\",\"yaxis\":\"y\"},{\"name\":\"total_revenue\",\"x\":[\"A0\",\"A0118150101\",\"A0118150101\",\"A0118150101\",\"A0118150101\",\"A0118150102\",\"A0118150102\",\"A0118150102\",\"A0118150102\",\"A0118150103\",\"A0118150103\",\"A0118150103\",\"A0118150103\",\"A0118150103\",\"A0118150104\",\"A0118150104\",\"A0118150104\",\"A0118150104\",\"A0118150104\",\"A0219150201\",\"A0219150201\",\"A0219150201\",\"A0219150201\",\"A0219150202\",\"A0219150202\",\"A0219150202\",\"A0219150202\",\"A0220150203\",\"A0220150203\",\"A0220150203\",\"A0320150301\",\"A0320150301\",\"A0320150301\",\"A0321150302\",\"A0321150302\",\"A0321150303\",\"A0321150303\",\"A0418150101\",\"A0418150101\",\"A0418150101\",\"A0418150102\",\"A0418150102\",\"A0418150102\",\"A0418150103\",\"A0418150103\",\"A0418150103\",\"A0418150103\",\"A0418150103\",\"A0418150104\",\"A0418150104\"],\"y\":[null,287336.01279999956,600786.2336,1016645.1812999973,1906473.2346999918,351654.3875000009,778478.2274999975,1268946.745400004,2105397.6059999913,363133.70200000115,816151.1421999997,1366588.211600006,2057748.9394999922,3910024.2240000027,362790.07619999873,784853.3375999928,1266367.237399994,2249759.0699000023,3939914.7029999993,792795.1915999843,1388562.2271999945,2388805.2612999943,4304919.200000003,855255.1501999946,1517661.5774000091,2401176.9392000083,4254560.965199998,1523181.023999995,2309940.3510000226,4267101.7896,1437465.7711999936,2304858.6680000094,4076643.411399996,2709050.378499989,4961007.452500006,2707918.476899994,4822381.638000001,346748.3026000023,456143.1415000002,799428.8664000073,371056.0514999997,525685.4400000025,792973.5660000053,422335.24829999986,550744.1234999985,795096.7315999902,1520041.1394999968,4599653.977899996,438957.0693999987,480711.65550000255],\"type\":\"bar\",\"xaxis\":\"x2\",\"yaxis\":\"y2\"}],                        {\"template\":{\"data\":{\"bar\":[{\"error_x\":{\"color\":\"#2a3f5f\"},\"error_y\":{\"color\":\"#2a3f5f\"},\"marker\":{\"line\":{\"color\":\"#E5ECF6\",\"width\":0.5},\"pattern\":{\"fillmode\":\"overlay\",\"size\":10,\"solidity\":0.2}},\"type\":\"bar\"}],\"barpolar\":[{\"marker\":{\"line\":{\"color\":\"#E5ECF6\",\"width\":0.5},\"pattern\":{\"fillmode\":\"overlay\",\"size\":10,\"solidity\":0.2}},\"type\":\"barpolar\"}],\"carpet\":[{\"aaxis\":{\"endlinecolor\":\"#2a3f5f\",\"gridcolor\":\"white\",\"linecolor\":\"white\",\"minorgridcolor\":\"white\",\"startlinecolor\":\"#2a3f5f\"},\"baxis\":{\"endlinecolor\":\"#2a3f5f\",\"gridcolor\":\"white\",\"linecolor\":\"white\",\"minorgridcolor\":\"white\",\"startlinecolor\":\"#2a3f5f\"},\"type\":\"carpet\"}],\"choropleth\":[{\"colorbar\":{\"outlinewidth\":0,\"ticks\":\"\"},\"type\":\"choropleth\"}],\"contour\":[{\"colorbar\":{\"outlinewidth\":0,\"ticks\":\"\"},\"colorscale\":[[0.0,\"#0d0887\"],[0.1111111111111111,\"#46039f\"],[0.2222222222222222,\"#7201a8\"],[0.3333333333333333,\"#9c179e\"],[0.4444444444444444,\"#bd3786\"],[0.5555555555555556,\"#d8576b\"],[0.6666666666666666,\"#ed7953\"],[0.7777777777777778,\"#fb9f3a\"],[0.8888888888888888,\"#fdca26\"],[1.0,\"#f0f921\"]],\"type\":\"contour\"}],\"contourcarpet\":[{\"colorbar\":{\"outlinewidth\":0,\"ticks\":\"\"},\"type\":\"contourcarpet\"}],\"heatmap\":[{\"colorbar\":{\"outlinewidth\":0,\"ticks\":\"\"},\"colorscale\":[[0.0,\"#0d0887\"],[0.1111111111111111,\"#46039f\"],[0.2222222222222222,\"#7201a8\"],[0.3333333333333333,\"#9c179e\"],[0.4444444444444444,\"#bd3786\"],[0.5555555555555556,\"#d8576b\"],[0.6666666666666666,\"#ed7953\"],[0.7777777777777778,\"#fb9f3a\"],[0.8888888888888888,\"#fdca26\"],[1.0,\"#f0f921\"]],\"type\":\"heatmap\"}],\"heatmapgl\":[{\"colorbar\":{\"outlinewidth\":0,\"ticks\":\"\"},\"colorscale\":[[0.0,\"#0d0887\"],[0.1111111111111111,\"#46039f\"],[0.2222222222222222,\"#7201a8\"],[0.3333333333333333,\"#9c179e\"],[0.4444444444444444,\"#bd3786\"],[0.5555555555555556,\"#d8576b\"],[0.6666666666666666,\"#ed7953\"],[0.7777777777777778,\"#fb9f3a\"],[0.8888888888888888,\"#fdca26\"],[1.0,\"#f0f921\"]],\"type\":\"heatmapgl\"}],\"histogram\":[{\"marker\":{\"pattern\":{\"fillmode\":\"overlay\",\"size\":10,\"solidity\":0.2}},\"type\":\"histogram\"}],\"histogram2d\":[{\"colorbar\":{\"outlinewidth\":0,\"ticks\":\"\"},\"colorscale\":[[0.0,\"#0d0887\"],[0.1111111111111111,\"#46039f\"],[0.2222222222222222,\"#7201a8\"],[0.3333333333333333,\"#9c179e\"],[0.4444444444444444,\"#bd3786\"],[0.5555555555555556,\"#d8576b\"],[0.6666666666666666,\"#ed7953\"],[0.7777777777777778,\"#fb9f3a\"],[0.8888888888888888,\"#fdca26\"],[1.0,\"#f0f921\"]],\"type\":\"histogram2d\"}],\"histogram2dcontour\":[{\"colorbar\":{\"outlinewidth\":0,\"ticks\":\"\"},\"colorscale\":[[0.0,\"#0d0887\"],[0.1111111111111111,\"#46039f\"],[0.2222222222222222,\"#7201a8\"],[0.3333333333333333,\"#9c179e\"],[0.4444444444444444,\"#bd3786\"],[0.5555555555555556,\"#d8576b\"],[0.6666666666666666,\"#ed7953\"],[0.7777777777777778,\"#fb9f3a\"],[0.8888888888888888,\"#fdca26\"],[1.0,\"#f0f921\"]],\"type\":\"histogram2dcontour\"}],\"mesh3d\":[{\"colorbar\":{\"outlinewidth\":0,\"ticks\":\"\"},\"type\":\"mesh3d\"}],\"parcoords\":[{\"line\":{\"colorbar\":{\"outlinewidth\":0,\"ticks\":\"\"}},\"type\":\"parcoords\"}],\"pie\":[{\"automargin\":true,\"type\":\"pie\"}],\"scatter\":[{\"marker\":{\"colorbar\":{\"outlinewidth\":0,\"ticks\":\"\"}},\"type\":\"scatter\"}],\"scatter3d\":[{\"line\":{\"colorbar\":{\"outlinewidth\":0,\"ticks\":\"\"}},\"marker\":{\"colorbar\":{\"outlinewidth\":0,\"ticks\":\"\"}},\"type\":\"scatter3d\"}],\"scattercarpet\":[{\"marker\":{\"colorbar\":{\"outlinewidth\":0,\"ticks\":\"\"}},\"type\":\"scattercarpet\"}],\"scattergeo\":[{\"marker\":{\"colorbar\":{\"outlinewidth\":0,\"ticks\":\"\"}},\"type\":\"scattergeo\"}],\"scattergl\":[{\"marker\":{\"colorbar\":{\"outlinewidth\":0,\"ticks\":\"\"}},\"type\":\"scattergl\"}],\"scattermapbox\":[{\"marker\":{\"colorbar\":{\"outlinewidth\":0,\"ticks\":\"\"}},\"type\":\"scattermapbox\"}],\"scatterpolar\":[{\"marker\":{\"colorbar\":{\"outlinewidth\":0,\"ticks\":\"\"}},\"type\":\"scatterpolar\"}],\"scatterpolargl\":[{\"marker\":{\"colorbar\":{\"outlinewidth\":0,\"ticks\":\"\"}},\"type\":\"scatterpolargl\"}],\"scatterternary\":[{\"marker\":{\"colorbar\":{\"outlinewidth\":0,\"ticks\":\"\"}},\"type\":\"scatterternary\"}],\"surface\":[{\"colorbar\":{\"outlinewidth\":0,\"ticks\":\"\"},\"colorscale\":[[0.0,\"#0d0887\"],[0.1111111111111111,\"#46039f\"],[0.2222222222222222,\"#7201a8\"],[0.3333333333333333,\"#9c179e\"],[0.4444444444444444,\"#bd3786\"],[0.5555555555555556,\"#d8576b\"],[0.6666666666666666,\"#ed7953\"],[0.7777777777777778,\"#fb9f3a\"],[0.8888888888888888,\"#fdca26\"],[1.0,\"#f0f921\"]],\"type\":\"surface\"}],\"table\":[{\"cells\":{\"fill\":{\"color\":\"#EBF0F8\"},\"line\":{\"color\":\"white\"}},\"header\":{\"fill\":{\"color\":\"#C8D4E3\"},\"line\":{\"color\":\"white\"}},\"type\":\"table\"}]},\"layout\":{\"annotationdefaults\":{\"arrowcolor\":\"#2a3f5f\",\"arrowhead\":0,\"arrowwidth\":1},\"autotypenumbers\":\"strict\",\"coloraxis\":{\"colorbar\":{\"outlinewidth\":0,\"ticks\":\"\"}},\"colorscale\":{\"diverging\":[[0,\"#8e0152\"],[0.1,\"#c51b7d\"],[0.2,\"#de77ae\"],[0.3,\"#f1b6da\"],[0.4,\"#fde0ef\"],[0.5,\"#f7f7f7\"],[0.6,\"#e6f5d0\"],[0.7,\"#b8e186\"],[0.8,\"#7fbc41\"],[0.9,\"#4d9221\"],[1,\"#276419\"]],\"sequential\":[[0.0,\"#0d0887\"],[0.1111111111111111,\"#46039f\"],[0.2222222222222222,\"#7201a8\"],[0.3333333333333333,\"#9c179e\"],[0.4444444444444444,\"#bd3786\"],[0.5555555555555556,\"#d8576b\"],[0.6666666666666666,\"#ed7953\"],[0.7777777777777778,\"#fb9f3a\"],[0.8888888888888888,\"#fdca26\"],[1.0,\"#f0f921\"]],\"sequentialminus\":[[0.0,\"#0d0887\"],[0.1111111111111111,\"#46039f\"],[0.2222222222222222,\"#7201a8\"],[0.3333333333333333,\"#9c179e\"],[0.4444444444444444,\"#bd3786\"],[0.5555555555555556,\"#d8576b\"],[0.6666666666666666,\"#ed7953\"],[0.7777777777777778,\"#fb9f3a\"],[0.8888888888888888,\"#fdca26\"],[1.0,\"#f0f921\"]]},\"colorway\":[\"#636efa\",\"#EF553B\",\"#00cc96\",\"#ab63fa\",\"#FFA15A\",\"#19d3f3\",\"#FF6692\",\"#B6E880\",\"#FF97FF\",\"#FECB52\"],\"font\":{\"color\":\"#2a3f5f\"},\"geo\":{\"bgcolor\":\"white\",\"lakecolor\":\"white\",\"landcolor\":\"#E5ECF6\",\"showlakes\":true,\"showland\":true,\"subunitcolor\":\"white\"},\"hoverlabel\":{\"align\":\"left\"},\"hovermode\":\"closest\",\"mapbox\":{\"style\":\"light\"},\"paper_bgcolor\":\"white\",\"plot_bgcolor\":\"#E5ECF6\",\"polar\":{\"angularaxis\":{\"gridcolor\":\"white\",\"linecolor\":\"white\",\"ticks\":\"\"},\"bgcolor\":\"#E5ECF6\",\"radialaxis\":{\"gridcolor\":\"white\",\"linecolor\":\"white\",\"ticks\":\"\"}},\"scene\":{\"xaxis\":{\"backgroundcolor\":\"#E5ECF6\",\"gridcolor\":\"white\",\"gridwidth\":2,\"linecolor\":\"white\",\"showbackground\":true,\"ticks\":\"\",\"zerolinecolor\":\"white\"},\"yaxis\":{\"backgroundcolor\":\"#E5ECF6\",\"gridcolor\":\"white\",\"gridwidth\":2,\"linecolor\":\"white\",\"showbackground\":true,\"ticks\":\"\",\"zerolinecolor\":\"white\"},\"zaxis\":{\"backgroundcolor\":\"#E5ECF6\",\"gridcolor\":\"white\",\"gridwidth\":2,\"linecolor\":\"white\",\"showbackground\":true,\"ticks\":\"\",\"zerolinecolor\":\"white\"}},\"shapedefaults\":{\"line\":{\"color\":\"#2a3f5f\"}},\"ternary\":{\"aaxis\":{\"gridcolor\":\"white\",\"linecolor\":\"white\",\"ticks\":\"\"},\"baxis\":{\"gridcolor\":\"white\",\"linecolor\":\"white\",\"ticks\":\"\"},\"bgcolor\":\"#E5ECF6\",\"caxis\":{\"gridcolor\":\"white\",\"linecolor\":\"white\",\"ticks\":\"\"}},\"title\":{\"x\":0.05},\"xaxis\":{\"automargin\":true,\"gridcolor\":\"white\",\"linecolor\":\"white\",\"ticks\":\"\",\"title\":{\"standoff\":15},\"zerolinecolor\":\"white\",\"zerolinewidth\":2},\"yaxis\":{\"automargin\":true,\"gridcolor\":\"white\",\"linecolor\":\"white\",\"ticks\":\"\",\"title\":{\"standoff\":15},\"zerolinecolor\":\"white\",\"zerolinewidth\":2}}},\"xaxis\":{\"anchor\":\"y\",\"domain\":[0.0,0.45],\"title\":{\"text\":\"Product ID\"}},\"yaxis\":{\"anchor\":\"x\",\"domain\":[0.0,1.0],\"title\":{\"text\":\"Quantity\"}},\"xaxis2\":{\"anchor\":\"y2\",\"domain\":[0.55,1.0],\"title\":{\"text\":\"Product ID\"}},\"yaxis2\":{\"anchor\":\"x2\",\"domain\":[0.0,1.0],\"title\":{\"text\":\"Revenue\"}},\"annotations\":[{\"font\":{\"size\":16},\"showarrow\":false,\"text\":\"Quantity Sold\",\"x\":0.225,\"xanchor\":\"center\",\"xref\":\"paper\",\"y\":1.0,\"yanchor\":\"bottom\",\"yref\":\"paper\"},{\"font\":{\"size\":16},\"showarrow\":false,\"text\":\"Total Revenue\",\"x\":0.775,\"xanchor\":\"center\",\"xref\":\"paper\",\"y\":1.0,\"yanchor\":\"bottom\",\"yref\":\"paper\"}],\"title\":{\"text\":\"Quantity and Revenue for each Product\"}},                        {\"responsive\": true}                    ).then(function(){\n",
       "                            \n",
       "var gd = document.getElementById('25c83fc9-7e76-482e-ba5a-ae779aff7b68');\n",
       "var x = new MutationObserver(function (mutations, observer) {{\n",
       "        var display = window.getComputedStyle(gd).display;\n",
       "        if (!display || display === 'none') {{\n",
       "            console.log([gd, 'removed!']);\n",
       "            Plotly.purge(gd);\n",
       "            observer.disconnect();\n",
       "        }}\n",
       "}});\n",
       "\n",
       "// Listen for the removal of the full notebook cells\n",
       "var notebookContainer = gd.closest('#notebook-container');\n",
       "if (notebookContainer) {{\n",
       "    x.observe(notebookContainer, {childList: true});\n",
       "}}\n",
       "\n",
       "// Listen for the clearing of the current output cell\n",
       "var outputEl = gd.closest('.output');\n",
       "if (outputEl) {{\n",
       "    x.observe(outputEl, {childList: true});\n",
       "}}\n",
       "\n",
       "                        })                };                });            </script>        </div>"
      ]
     },
     "metadata": {},
     "output_type": "display_data"
    }
   ],
   "source": [
    "import plotly.graph_objects as go\n",
    "from plotly.subplots import make_subplots\n",
    "\n",
    "# graph quantity sold and total revenue by product\n",
    "\n",
    "# Create figure with subplots\n",
    "fig = make_subplots(rows=1, cols=2, subplot_titles=(\"Quantity Sold\", \"Total Revenue\"))\n",
    "\n",
    "# Add traces for Quantity Sold\n",
    "fig.add_trace(\n",
    "    go.Bar(x=amt_sold[\"product_code\"], y=amt_sold['quantity_sold'], name=\"quantity_sold\"),\n",
    "    row=1, col=1\n",
    ")\n",
    "\n",
    "# Add traces for Total Revenue\n",
    "fig.add_trace(\n",
    "    go.Bar(x=amt_sold[\"product_code\"], y=amt_sold[\"total_revenue\"], name=\"total_revenue\"),\n",
    "    row=1, col=2\n",
    ")\n",
    "\n",
    "# Add figure title\n",
    "fig.update_layout(\n",
    "    title_text=\"Quantity and Revenue for each Product\"\n",
    ")\n",
    "\n",
    "# Set x-axis title\n",
    "fig.update_xaxes(title_text=\"Product ID\", row=1, col=1)\n",
    "fig.update_xaxes(title_text=\"Product ID\", row=1, col=2)\n",
    "\n",
    "# Set y-axes titles\n",
    "fig.update_yaxes(title_text=\"Quantity\", row=1, col=1)\n",
    "fig.update_yaxes(title_text=\"Revenue\", row=1, col=2)\n",
    "\n",
    "fig.show()"
   ]
  },
  {
   "cell_type": "markdown",
   "id": "0c537145",
   "metadata": {},
   "source": [
    "When we graph quantity and revenue side by side we can see more patterns in the data.  \n",
    "\n",
    "In general, the products that sold very little (under 230K pieces), also had proportionatly very little revenue (less than 4.4 million).  \n",
    "\n",
    "The top selling products, namely the "
   ]
  },
  {
   "cell_type": "code",
   "execution_count": 90,
   "id": "98cd776f",
   "metadata": {},
   "outputs": [
    {
     "data": {
      "text/html": [
       "<div>\n",
       "<style scoped>\n",
       "    .dataframe tbody tr th:only-of-type {\n",
       "        vertical-align: middle;\n",
       "    }\n",
       "\n",
       "    .dataframe tbody tr th {\n",
       "        vertical-align: top;\n",
       "    }\n",
       "\n",
       "    .dataframe thead th {\n",
       "        text-align: right;\n",
       "    }\n",
       "</style>\n",
       "<table border=\"1\" class=\"dataframe\">\n",
       "  <thead>\n",
       "    <tr style=\"text-align: right;\">\n",
       "      <th></th>\n",
       "      <th>product_code</th>\n",
       "      <th>product</th>\n",
       "      <th>variant</th>\n",
       "      <th>total_revenue</th>\n",
       "    </tr>\n",
       "  </thead>\n",
       "  <tbody>\n",
       "    <tr>\n",
       "      <th>1</th>\n",
       "      <td>A0219150202</td>\n",
       "      <td>AQ WereWolf NAS Internal Hard Drive HDD – 8.89 cm</td>\n",
       "      <td>Plus</td>\n",
       "      <td>9028654.63</td>\n",
       "    </tr>\n",
       "    <tr>\n",
       "      <th>2</th>\n",
       "      <td>A0219150201</td>\n",
       "      <td>AQ WereWolf NAS Internal Hard Drive HDD – 8.89 cm</td>\n",
       "      <td>Standard</td>\n",
       "      <td>8875081.88</td>\n",
       "    </tr>\n",
       "    <tr>\n",
       "      <th>3</th>\n",
       "      <td>A0118150104</td>\n",
       "      <td>AQ Dracula HDD – 3.5 Inch SATA 6 Gb/s 5400 RPM 256 MB Cache</td>\n",
       "      <td>Premium Plus</td>\n",
       "      <td>8603684.42</td>\n",
       "    </tr>\n",
       "    <tr>\n",
       "      <th>4</th>\n",
       "      <td>A0118150103</td>\n",
       "      <td>AQ Dracula HDD – 3.5 Inch SATA 6 Gb/s 5400 RPM 256 MB Cache</td>\n",
       "      <td>Premium</td>\n",
       "      <td>8513646.22</td>\n",
       "    </tr>\n",
       "    <tr>\n",
       "      <th>5</th>\n",
       "      <td>A0220150203</td>\n",
       "      <td>AQ WereWolf NAS Internal Hard Drive HDD – 8.89 cm</td>\n",
       "      <td>Premium</td>\n",
       "      <td>8100223.16</td>\n",
       "    </tr>\n",
       "    <tr>\n",
       "      <th>6</th>\n",
       "      <td>A0418150103</td>\n",
       "      <td>AQ Mforce Gen X</td>\n",
       "      <td>Standard 3</td>\n",
       "      <td>7887871.22</td>\n",
       "    </tr>\n",
       "    <tr>\n",
       "      <th>7</th>\n",
       "      <td>A0320150301</td>\n",
       "      <td>AQ Zion Saga</td>\n",
       "      <td>Standard</td>\n",
       "      <td>7818967.85</td>\n",
       "    </tr>\n",
       "    <tr>\n",
       "      <th>8</th>\n",
       "      <td>A0321150302</td>\n",
       "      <td>AQ Zion Saga</td>\n",
       "      <td>Plus</td>\n",
       "      <td>7670057.83</td>\n",
       "    </tr>\n",
       "    <tr>\n",
       "      <th>9</th>\n",
       "      <td>A0321150303</td>\n",
       "      <td>AQ Zion Saga</td>\n",
       "      <td>Premium</td>\n",
       "      <td>7530300.11</td>\n",
       "    </tr>\n",
       "    <tr>\n",
       "      <th>10</th>\n",
       "      <td>A0118150102</td>\n",
       "      <td>AQ Dracula HDD – 3.5 Inch SATA 6 Gb/s 5400 RPM 256 MB Cache</td>\n",
       "      <td>Plus</td>\n",
       "      <td>4504476.97</td>\n",
       "    </tr>\n",
       "    <tr>\n",
       "      <th>11</th>\n",
       "      <td>A0118150101</td>\n",
       "      <td>AQ Dracula HDD – 3.5 Inch SATA 6 Gb/s 5400 RPM 256 MB Cache</td>\n",
       "      <td>Standard</td>\n",
       "      <td>3811240.66</td>\n",
       "    </tr>\n",
       "    <tr>\n",
       "      <th>12</th>\n",
       "      <td>A0418150102</td>\n",
       "      <td>AQ Mforce Gen X</td>\n",
       "      <td>Standard 2</td>\n",
       "      <td>1689715.06</td>\n",
       "    </tr>\n",
       "    <tr>\n",
       "      <th>13</th>\n",
       "      <td>A0418150101</td>\n",
       "      <td>AQ Mforce Gen X</td>\n",
       "      <td>Standard 1</td>\n",
       "      <td>1602320.31</td>\n",
       "    </tr>\n",
       "    <tr>\n",
       "      <th>14</th>\n",
       "      <td>A0418150104</td>\n",
       "      <td>AQ Mforce Gen X</td>\n",
       "      <td>Plus 1</td>\n",
       "      <td>919668.72</td>\n",
       "    </tr>\n",
       "  </tbody>\n",
       "</table>\n",
       "</div>"
      ],
      "text/plain": [
       "   product_code                                                      product  \\\n",
       "1   A0219150202            AQ WereWolf NAS Internal Hard Drive HDD – 8.89 cm   \n",
       "2   A0219150201            AQ WereWolf NAS Internal Hard Drive HDD – 8.89 cm   \n",
       "3   A0118150104  AQ Dracula HDD – 3.5 Inch SATA 6 Gb/s 5400 RPM 256 MB Cache   \n",
       "4   A0118150103  AQ Dracula HDD – 3.5 Inch SATA 6 Gb/s 5400 RPM 256 MB Cache   \n",
       "5   A0220150203            AQ WereWolf NAS Internal Hard Drive HDD – 8.89 cm   \n",
       "6   A0418150103                                              AQ Mforce Gen X   \n",
       "7   A0320150301                                                 AQ Zion Saga   \n",
       "8   A0321150302                                                 AQ Zion Saga   \n",
       "9   A0321150303                                                 AQ Zion Saga   \n",
       "10  A0118150102  AQ Dracula HDD – 3.5 Inch SATA 6 Gb/s 5400 RPM 256 MB Cache   \n",
       "11  A0118150101  AQ Dracula HDD – 3.5 Inch SATA 6 Gb/s 5400 RPM 256 MB Cache   \n",
       "12  A0418150102                                              AQ Mforce Gen X   \n",
       "13  A0418150101                                              AQ Mforce Gen X   \n",
       "14  A0418150104                                              AQ Mforce Gen X   \n",
       "\n",
       "         variant  total_revenue  \n",
       "1           Plus     9028654.63  \n",
       "2       Standard     8875081.88  \n",
       "3   Premium Plus     8603684.42  \n",
       "4        Premium     8513646.22  \n",
       "5        Premium     8100223.16  \n",
       "6     Standard 3     7887871.22  \n",
       "7       Standard     7818967.85  \n",
       "8           Plus     7670057.83  \n",
       "9        Premium     7530300.11  \n",
       "10          Plus     4504476.97  \n",
       "11      Standard     3811240.66  \n",
       "12    Standard 2     1689715.06  \n",
       "13    Standard 1     1602320.31  \n",
       "14        Plus 1      919668.72  "
      ]
     },
     "execution_count": 90,
     "metadata": {},
     "output_type": "execute_result"
    }
   ],
   "source": [
    "test = total_rev.reset_index()\n",
    "test.index = test.index + 1\n",
    "pd.set_option(\"display.max_colwidth\", None)\n",
    "test"
   ]
  },
  {
   "cell_type": "code",
   "execution_count": 91,
   "id": "cdb7c508",
   "metadata": {},
   "outputs": [
    {
     "data": {
      "text/html": [
       "<div>\n",
       "<style scoped>\n",
       "    .dataframe tbody tr th:only-of-type {\n",
       "        vertical-align: middle;\n",
       "    }\n",
       "\n",
       "    .dataframe tbody tr th {\n",
       "        vertical-align: top;\n",
       "    }\n",
       "\n",
       "    .dataframe thead th {\n",
       "        text-align: right;\n",
       "    }\n",
       "</style>\n",
       "<table border=\"1\" class=\"dataframe\">\n",
       "  <thead>\n",
       "    <tr style=\"text-align: right;\">\n",
       "      <th></th>\n",
       "      <th>product_code</th>\n",
       "      <th>product</th>\n",
       "      <th>variant</th>\n",
       "      <th>total_revenue</th>\n",
       "    </tr>\n",
       "  </thead>\n",
       "  <tbody>\n",
       "    <tr>\n",
       "      <th>6</th>\n",
       "      <td>A0418150103</td>\n",
       "      <td>AQ Mforce Gen X</td>\n",
       "      <td>Standard 3</td>\n",
       "      <td>7887871.22</td>\n",
       "    </tr>\n",
       "  </tbody>\n",
       "</table>\n",
       "</div>"
      ],
      "text/plain": [
       "  product_code          product     variant  total_revenue\n",
       "6  A0418150103  AQ Mforce Gen X  Standard 3     7887871.22"
      ]
     },
     "metadata": {},
     "output_type": "display_data"
    },
    {
     "data": {
      "text/html": [
       "<div>\n",
       "<style scoped>\n",
       "    .dataframe tbody tr th:only-of-type {\n",
       "        vertical-align: middle;\n",
       "    }\n",
       "\n",
       "    .dataframe tbody tr th {\n",
       "        vertical-align: top;\n",
       "    }\n",
       "\n",
       "    .dataframe thead th {\n",
       "        text-align: right;\n",
       "    }\n",
       "</style>\n",
       "<table border=\"1\" class=\"dataframe\">\n",
       "  <thead>\n",
       "    <tr style=\"text-align: right;\">\n",
       "      <th></th>\n",
       "      <th>product_code</th>\n",
       "      <th>product</th>\n",
       "      <th>variant</th>\n",
       "      <th>total_revenue</th>\n",
       "    </tr>\n",
       "  </thead>\n",
       "  <tbody>\n",
       "    <tr>\n",
       "      <th>3</th>\n",
       "      <td>A0118150104</td>\n",
       "      <td>AQ Dracula HDD – 3.5 Inch SATA 6 Gb/s 5400 RPM 256 MB Cache</td>\n",
       "      <td>Premium Plus</td>\n",
       "      <td>8603684.42</td>\n",
       "    </tr>\n",
       "  </tbody>\n",
       "</table>\n",
       "</div>"
      ],
      "text/plain": [
       "  product_code                                                      product  \\\n",
       "3  A0118150104  AQ Dracula HDD – 3.5 Inch SATA 6 Gb/s 5400 RPM 256 MB Cache   \n",
       "\n",
       "        variant  total_revenue  \n",
       "3  Premium Plus     8603684.42  "
      ]
     },
     "metadata": {},
     "output_type": "display_data"
    },
    {
     "data": {
      "text/html": [
       "<div>\n",
       "<style scoped>\n",
       "    .dataframe tbody tr th:only-of-type {\n",
       "        vertical-align: middle;\n",
       "    }\n",
       "\n",
       "    .dataframe tbody tr th {\n",
       "        vertical-align: top;\n",
       "    }\n",
       "\n",
       "    .dataframe thead th {\n",
       "        text-align: right;\n",
       "    }\n",
       "</style>\n",
       "<table border=\"1\" class=\"dataframe\">\n",
       "  <thead>\n",
       "    <tr style=\"text-align: right;\">\n",
       "      <th></th>\n",
       "      <th>product_code</th>\n",
       "      <th>product</th>\n",
       "      <th>variant</th>\n",
       "      <th>total_revenue</th>\n",
       "    </tr>\n",
       "  </thead>\n",
       "  <tbody>\n",
       "    <tr>\n",
       "      <th>4</th>\n",
       "      <td>A0118150103</td>\n",
       "      <td>AQ Dracula HDD – 3.5 Inch SATA 6 Gb/s 5400 RPM 256 MB Cache</td>\n",
       "      <td>Premium</td>\n",
       "      <td>8513646.22</td>\n",
       "    </tr>\n",
       "  </tbody>\n",
       "</table>\n",
       "</div>"
      ],
      "text/plain": [
       "  product_code                                                      product  \\\n",
       "4  A0118150103  AQ Dracula HDD – 3.5 Inch SATA 6 Gb/s 5400 RPM 256 MB Cache   \n",
       "\n",
       "   variant  total_revenue  \n",
       "4  Premium     8513646.22  "
      ]
     },
     "metadata": {},
     "output_type": "display_data"
    }
   ],
   "source": [
    "#total revenue rank for top selling 3 products\n",
    "top_3 = ['A0418150103', 'A0118150104', 'A0118150103']\n",
    "for product in top_3:\n",
    "    display(test[test['product_code']==product])\n",
    "#test[test['product_code']=='A0118150104']\n",
    "#test[test['product_code']=='A0118150103']"
   ]
  },
  {
   "cell_type": "markdown",
   "id": "a852eed5",
   "metadata": {},
   "source": [
    "Only one product that made the top three in sales also made the top 3 in revenue:\n",
    "\n",
    "The second best selling product, AQ Dracula HDD – 3.5 Inch SATA 6 Gb/s 5400 RPM 256 MB Cache:  Premium Plus (product code= A0118150104) was the third grosser with a revenue of 8603684.42.\n",
    "\n",
    "The top selling product, AQ Mforce Gen X came in sixth in sales in sales revenue.  This still may be a strong product but since it wasn't sold much during the first few years it came in low overall on sales.  If the product had a high revenue and high sales during the last year than we can treat it as such.  Indeed, this product was not the top seller in 2022 but was in the top three, only behind the AQ Zion Saga."
   ]
  },
  {
   "cell_type": "markdown",
   "id": "fd1e195c",
   "metadata": {},
   "source": [
    "deeper query to explore cost and discount to find product margin.. are we actually making money off of these top selling products.  first join the tables in sql and then find the product margin (try in sql and then go to pandas if needed)"
   ]
  },
  {
   "cell_type": "markdown",
   "id": "e79384c4",
   "metadata": {},
   "source": [
    "## Most profitable products"
   ]
  },
  {
   "cell_type": "markdown",
   "id": "cf8f3811",
   "metadata": {},
   "source": [
    "To find the most profitable profits we need to use the cost for each product for each fiscal year and multiply it by the quantity sold for each fiscal year to get the total cost.  This can be subtracted from the total revenue to get profit."
   ]
  },
  {
   "cell_type": "code",
   "execution_count": 92,
   "id": "393fcaf6",
   "metadata": {},
   "outputs": [
    {
     "data": {
      "text/html": [
       "<div>\n",
       "<style scoped>\n",
       "    .dataframe tbody tr th:only-of-type {\n",
       "        vertical-align: middle;\n",
       "    }\n",
       "\n",
       "    .dataframe tbody tr th {\n",
       "        vertical-align: top;\n",
       "    }\n",
       "\n",
       "    .dataframe thead th {\n",
       "        text-align: right;\n",
       "    }\n",
       "</style>\n",
       "<table border=\"1\" class=\"dataframe\">\n",
       "  <thead>\n",
       "    <tr style=\"text-align: right;\">\n",
       "      <th></th>\n",
       "      <th>product_code</th>\n",
       "      <th>product</th>\n",
       "      <th>variant</th>\n",
       "      <th>fiscal_year</th>\n",
       "      <th>quantity_sold</th>\n",
       "      <th>total_revenue</th>\n",
       "    </tr>\n",
       "  </thead>\n",
       "  <tbody>\n",
       "    <tr>\n",
       "      <th>0</th>\n",
       "      <td>A0</td>\n",
       "      <td>None</td>\n",
       "      <td>None</td>\n",
       "      <td>NaN</td>\n",
       "      <td>NaN</td>\n",
       "      <td>NaN</td>\n",
       "    </tr>\n",
       "    <tr>\n",
       "      <th>1</th>\n",
       "      <td>A0118150101</td>\n",
       "      <td>AQ Dracula HDD – 3.5 Inch SATA 6 Gb/s 5400 RPM 256 MB Cache</td>\n",
       "      <td>Standard</td>\n",
       "      <td>2018.00</td>\n",
       "      <td>18664.00</td>\n",
       "      <td>287336.01</td>\n",
       "    </tr>\n",
       "    <tr>\n",
       "      <th>2</th>\n",
       "      <td>A0118150101</td>\n",
       "      <td>AQ Dracula HDD – 3.5 Inch SATA 6 Gb/s 5400 RPM 256 MB Cache</td>\n",
       "      <td>Standard</td>\n",
       "      <td>2019.00</td>\n",
       "      <td>41608.00</td>\n",
       "      <td>600786.23</td>\n",
       "    </tr>\n",
       "    <tr>\n",
       "      <th>3</th>\n",
       "      <td>A0118150101</td>\n",
       "      <td>AQ Dracula HDD – 3.5 Inch SATA 6 Gb/s 5400 RPM 256 MB Cache</td>\n",
       "      <td>Standard</td>\n",
       "      <td>2020.00</td>\n",
       "      <td>62631.00</td>\n",
       "      <td>1016645.18</td>\n",
       "    </tr>\n",
       "    <tr>\n",
       "      <th>4</th>\n",
       "      <td>A0118150101</td>\n",
       "      <td>AQ Dracula HDD – 3.5 Inch SATA 6 Gb/s 5400 RPM 256 MB Cache</td>\n",
       "      <td>Standard</td>\n",
       "      <td>2021.00</td>\n",
       "      <td>100039.00</td>\n",
       "      <td>1906473.23</td>\n",
       "    </tr>\n",
       "  </tbody>\n",
       "</table>\n",
       "</div>"
      ],
      "text/plain": [
       "  product_code                                                      product  \\\n",
       "0           A0                                                         None   \n",
       "1  A0118150101  AQ Dracula HDD – 3.5 Inch SATA 6 Gb/s 5400 RPM 256 MB Cache   \n",
       "2  A0118150101  AQ Dracula HDD – 3.5 Inch SATA 6 Gb/s 5400 RPM 256 MB Cache   \n",
       "3  A0118150101  AQ Dracula HDD – 3.5 Inch SATA 6 Gb/s 5400 RPM 256 MB Cache   \n",
       "4  A0118150101  AQ Dracula HDD – 3.5 Inch SATA 6 Gb/s 5400 RPM 256 MB Cache   \n",
       "\n",
       "    variant  fiscal_year  quantity_sold  total_revenue  \n",
       "0      None          NaN            NaN            NaN  \n",
       "1  Standard      2018.00       18664.00      287336.01  \n",
       "2  Standard      2019.00       41608.00      600786.23  \n",
       "3  Standard      2020.00       62631.00     1016645.18  \n",
       "4  Standard      2021.00      100039.00     1906473.23  "
      ]
     },
     "execution_count": 92,
     "metadata": {},
     "output_type": "execute_result"
    }
   ],
   "source": [
    "amt_sold.head()"
   ]
  },
  {
   "cell_type": "code",
   "execution_count": 93,
   "id": "0c11f454",
   "metadata": {},
   "outputs": [
    {
     "data": {
      "text/html": [
       "<div>\n",
       "<style scoped>\n",
       "    .dataframe tbody tr th:only-of-type {\n",
       "        vertical-align: middle;\n",
       "    }\n",
       "\n",
       "    .dataframe tbody tr th {\n",
       "        vertical-align: top;\n",
       "    }\n",
       "\n",
       "    .dataframe thead th {\n",
       "        text-align: right;\n",
       "    }\n",
       "</style>\n",
       "<table border=\"1\" class=\"dataframe\">\n",
       "  <thead>\n",
       "    <tr style=\"text-align: right;\">\n",
       "      <th></th>\n",
       "      <th>date</th>\n",
       "      <th>product_code</th>\n",
       "      <th>customer_code</th>\n",
       "      <th>sold_quantity</th>\n",
       "      <th>fiscal_year</th>\n",
       "    </tr>\n",
       "  </thead>\n",
       "  <tbody>\n",
       "    <tr>\n",
       "      <th>0</th>\n",
       "      <td>2017-09-01</td>\n",
       "      <td>A0118150101</td>\n",
       "      <td>70002017</td>\n",
       "      <td>51</td>\n",
       "      <td>2018</td>\n",
       "    </tr>\n",
       "    <tr>\n",
       "      <th>1</th>\n",
       "      <td>2017-09-01</td>\n",
       "      <td>A0118150101</td>\n",
       "      <td>70002018</td>\n",
       "      <td>77</td>\n",
       "      <td>2018</td>\n",
       "    </tr>\n",
       "    <tr>\n",
       "      <th>2</th>\n",
       "      <td>2017-09-01</td>\n",
       "      <td>A0118150101</td>\n",
       "      <td>70003181</td>\n",
       "      <td>17</td>\n",
       "      <td>2018</td>\n",
       "    </tr>\n",
       "    <tr>\n",
       "      <th>3</th>\n",
       "      <td>2017-09-01</td>\n",
       "      <td>A0118150101</td>\n",
       "      <td>70003182</td>\n",
       "      <td>6</td>\n",
       "      <td>2018</td>\n",
       "    </tr>\n",
       "    <tr>\n",
       "      <th>4</th>\n",
       "      <td>2017-09-01</td>\n",
       "      <td>A0118150101</td>\n",
       "      <td>70006157</td>\n",
       "      <td>5</td>\n",
       "      <td>2018</td>\n",
       "    </tr>\n",
       "  </tbody>\n",
       "</table>\n",
       "</div>"
      ],
      "text/plain": [
       "        date product_code  customer_code  sold_quantity  fiscal_year\n",
       "0 2017-09-01  A0118150101       70002017             51         2018\n",
       "1 2017-09-01  A0118150101       70002018             77         2018\n",
       "2 2017-09-01  A0118150101       70003181             17         2018\n",
       "3 2017-09-01  A0118150101       70003182              6         2018\n",
       "4 2017-09-01  A0118150101       70006157              5         2018"
      ]
     },
     "execution_count": 93,
     "metadata": {},
     "output_type": "execute_result"
    }
   ],
   "source": [
    "sales.head()"
   ]
  },
  {
   "cell_type": "code",
   "execution_count": 94,
   "id": "92e7a929",
   "metadata": {},
   "outputs": [
    {
     "data": {
      "text/html": [
       "<div>\n",
       "<style scoped>\n",
       "    .dataframe tbody tr th:only-of-type {\n",
       "        vertical-align: middle;\n",
       "    }\n",
       "\n",
       "    .dataframe tbody tr th {\n",
       "        vertical-align: top;\n",
       "    }\n",
       "\n",
       "    .dataframe thead th {\n",
       "        text-align: right;\n",
       "    }\n",
       "</style>\n",
       "<table border=\"1\" class=\"dataframe\">\n",
       "  <thead>\n",
       "    <tr style=\"text-align: right;\">\n",
       "      <th></th>\n",
       "      <th>product_code</th>\n",
       "      <th>cost_year</th>\n",
       "      <th>manufacturing_cost</th>\n",
       "    </tr>\n",
       "  </thead>\n",
       "  <tbody>\n",
       "    <tr>\n",
       "      <th>0</th>\n",
       "      <td>A0118150101</td>\n",
       "      <td>2018</td>\n",
       "      <td>4.62</td>\n",
       "    </tr>\n",
       "    <tr>\n",
       "      <th>1</th>\n",
       "      <td>A0118150101</td>\n",
       "      <td>2019</td>\n",
       "      <td>4.20</td>\n",
       "    </tr>\n",
       "    <tr>\n",
       "      <th>2</th>\n",
       "      <td>A0118150101</td>\n",
       "      <td>2020</td>\n",
       "      <td>5.02</td>\n",
       "    </tr>\n",
       "    <tr>\n",
       "      <th>3</th>\n",
       "      <td>A0118150101</td>\n",
       "      <td>2021</td>\n",
       "      <td>5.52</td>\n",
       "    </tr>\n",
       "    <tr>\n",
       "      <th>4</th>\n",
       "      <td>A0118150102</td>\n",
       "      <td>2018</td>\n",
       "      <td>5.60</td>\n",
       "    </tr>\n",
       "  </tbody>\n",
       "</table>\n",
       "</div>"
      ],
      "text/plain": [
       "  product_code  cost_year  manufacturing_cost\n",
       "0  A0118150101       2018                4.62\n",
       "1  A0118150101       2019                4.20\n",
       "2  A0118150101       2020                5.02\n",
       "3  A0118150101       2021                5.52\n",
       "4  A0118150102       2018                5.60"
      ]
     },
     "execution_count": 94,
     "metadata": {},
     "output_type": "execute_result"
    }
   ],
   "source": [
    "#'fact_manufacturing_cost'\n",
    "cost.head()"
   ]
  },
  {
   "cell_type": "markdown",
   "id": "d56b3fdf",
   "metadata": {},
   "source": [
    "## Complete Sales Information"
   ]
  },
  {
   "cell_type": "markdown",
   "id": "12b6ee31",
   "metadata": {},
   "source": [
    "The query below allows us to see each products sale information for each year along with the manufacturing cost for all the sold products and the net profit received."
   ]
  },
  {
   "cell_type": "code",
   "execution_count": 131,
   "id": "f6c405f5",
   "metadata": {
    "scrolled": true
   },
   "outputs": [
    {
     "data": {
      "text/html": [
       "<div>\n",
       "<style scoped>\n",
       "    .dataframe tbody tr th:only-of-type {\n",
       "        vertical-align: middle;\n",
       "    }\n",
       "\n",
       "    .dataframe tbody tr th {\n",
       "        vertical-align: top;\n",
       "    }\n",
       "\n",
       "    .dataframe thead th {\n",
       "        text-align: right;\n",
       "    }\n",
       "</style>\n",
       "<table border=\"1\" class=\"dataframe\">\n",
       "  <thead>\n",
       "    <tr style=\"text-align: right;\">\n",
       "      <th></th>\n",
       "      <th>product_code</th>\n",
       "      <th>product</th>\n",
       "      <th>variant</th>\n",
       "      <th>fiscal_year</th>\n",
       "      <th>quantity_sold</th>\n",
       "      <th>total_revenue</th>\n",
       "      <th>manufacturing_cost</th>\n",
       "      <th>total_cost</th>\n",
       "      <th>net_profit</th>\n",
       "      <th>profit_margin</th>\n",
       "    </tr>\n",
       "  </thead>\n",
       "  <tbody>\n",
       "    <tr>\n",
       "      <th>1</th>\n",
       "      <td>A0118150101</td>\n",
       "      <td>AQ Dracula HDD – 3.5 Inch SATA 6 Gb/s 5400 RPM 256 MB Cache</td>\n",
       "      <td>Standard</td>\n",
       "      <td>2018.00</td>\n",
       "      <td>18664.00</td>\n",
       "      <td>287336.01</td>\n",
       "      <td>4.62</td>\n",
       "      <td>86209.02</td>\n",
       "      <td>201127.00</td>\n",
       "      <td>0.70</td>\n",
       "    </tr>\n",
       "    <tr>\n",
       "      <th>2</th>\n",
       "      <td>A0118150101</td>\n",
       "      <td>AQ Dracula HDD – 3.5 Inch SATA 6 Gb/s 5400 RPM 256 MB Cache</td>\n",
       "      <td>Standard</td>\n",
       "      <td>2019.00</td>\n",
       "      <td>41608.00</td>\n",
       "      <td>600786.23</td>\n",
       "      <td>4.20</td>\n",
       "      <td>174890.91</td>\n",
       "      <td>425895.33</td>\n",
       "      <td>0.71</td>\n",
       "    </tr>\n",
       "    <tr>\n",
       "      <th>3</th>\n",
       "      <td>A0118150101</td>\n",
       "      <td>AQ Dracula HDD – 3.5 Inch SATA 6 Gb/s 5400 RPM 256 MB Cache</td>\n",
       "      <td>Standard</td>\n",
       "      <td>2020.00</td>\n",
       "      <td>62631.00</td>\n",
       "      <td>1016645.18</td>\n",
       "      <td>5.02</td>\n",
       "      <td>314451.46</td>\n",
       "      <td>702193.72</td>\n",
       "      <td>0.69</td>\n",
       "    </tr>\n",
       "    <tr>\n",
       "      <th>4</th>\n",
       "      <td>A0118150101</td>\n",
       "      <td>AQ Dracula HDD – 3.5 Inch SATA 6 Gb/s 5400 RPM 256 MB Cache</td>\n",
       "      <td>Standard</td>\n",
       "      <td>2021.00</td>\n",
       "      <td>100039.00</td>\n",
       "      <td>1906473.23</td>\n",
       "      <td>5.52</td>\n",
       "      <td>551935.17</td>\n",
       "      <td>1354538.06</td>\n",
       "      <td>0.71</td>\n",
       "    </tr>\n",
       "    <tr>\n",
       "      <th>5</th>\n",
       "      <td>A0118150102</td>\n",
       "      <td>AQ Dracula HDD – 3.5 Inch SATA 6 Gb/s 5400 RPM 256 MB Cache</td>\n",
       "      <td>Plus</td>\n",
       "      <td>2018.00</td>\n",
       "      <td>17953.00</td>\n",
       "      <td>351654.39</td>\n",
       "      <td>5.60</td>\n",
       "      <td>100601.43</td>\n",
       "      <td>251052.96</td>\n",
       "      <td>0.71</td>\n",
       "    </tr>\n",
       "    <tr>\n",
       "      <th>6</th>\n",
       "      <td>A0118150102</td>\n",
       "      <td>AQ Dracula HDD – 3.5 Inch SATA 6 Gb/s 5400 RPM 256 MB Cache</td>\n",
       "      <td>Plus</td>\n",
       "      <td>2019.00</td>\n",
       "      <td>41945.00</td>\n",
       "      <td>778478.23</td>\n",
       "      <td>5.32</td>\n",
       "      <td>223294.21</td>\n",
       "      <td>555184.02</td>\n",
       "      <td>0.71</td>\n",
       "    </tr>\n",
       "    <tr>\n",
       "      <th>7</th>\n",
       "      <td>A0118150102</td>\n",
       "      <td>AQ Dracula HDD – 3.5 Inch SATA 6 Gb/s 5400 RPM 256 MB Cache</td>\n",
       "      <td>Plus</td>\n",
       "      <td>2020.00</td>\n",
       "      <td>63902.00</td>\n",
       "      <td>1268946.75</td>\n",
       "      <td>5.72</td>\n",
       "      <td>365391.64</td>\n",
       "      <td>903555.11</td>\n",
       "      <td>0.71</td>\n",
       "    </tr>\n",
       "    <tr>\n",
       "      <th>8</th>\n",
       "      <td>A0118150102</td>\n",
       "      <td>AQ Dracula HDD – 3.5 Inch SATA 6 Gb/s 5400 RPM 256 MB Cache</td>\n",
       "      <td>Plus</td>\n",
       "      <td>2021.00</td>\n",
       "      <td>98124.00</td>\n",
       "      <td>2105397.61</td>\n",
       "      <td>6.28</td>\n",
       "      <td>616562.15</td>\n",
       "      <td>1488835.45</td>\n",
       "      <td>0.71</td>\n",
       "    </tr>\n",
       "    <tr>\n",
       "      <th>9</th>\n",
       "      <td>A0118150103</td>\n",
       "      <td>AQ Dracula HDD – 3.5 Inch SATA 6 Gb/s 5400 RPM 256 MB Cache</td>\n",
       "      <td>Premium</td>\n",
       "      <td>2018.00</td>\n",
       "      <td>18754.00</td>\n",
       "      <td>363133.70</td>\n",
       "      <td>5.95</td>\n",
       "      <td>111528.16</td>\n",
       "      <td>251605.54</td>\n",
       "      <td>0.69</td>\n",
       "    </tr>\n",
       "    <tr>\n",
       "      <th>10</th>\n",
       "      <td>A0118150103</td>\n",
       "      <td>AQ Dracula HDD – 3.5 Inch SATA 6 Gb/s 5400 RPM 256 MB Cache</td>\n",
       "      <td>Premium</td>\n",
       "      <td>2019.00</td>\n",
       "      <td>42191.00</td>\n",
       "      <td>816151.14</td>\n",
       "      <td>5.53</td>\n",
       "      <td>233341.54</td>\n",
       "      <td>582809.60</td>\n",
       "      <td>0.71</td>\n",
       "    </tr>\n",
       "    <tr>\n",
       "      <th>11</th>\n",
       "      <td>A0118150103</td>\n",
       "      <td>AQ Dracula HDD – 3.5 Inch SATA 6 Gb/s 5400 RPM 256 MB Cache</td>\n",
       "      <td>Premium</td>\n",
       "      <td>2020.00</td>\n",
       "      <td>61748.00</td>\n",
       "      <td>1366588.21</td>\n",
       "      <td>6.33</td>\n",
       "      <td>390642.55</td>\n",
       "      <td>975945.66</td>\n",
       "      <td>0.71</td>\n",
       "    </tr>\n",
       "    <tr>\n",
       "      <th>12</th>\n",
       "      <td>A0118150103</td>\n",
       "      <td>AQ Dracula HDD – 3.5 Inch SATA 6 Gb/s 5400 RPM 256 MB Cache</td>\n",
       "      <td>Premium</td>\n",
       "      <td>2021.00</td>\n",
       "      <td>94481.00</td>\n",
       "      <td>2057748.94</td>\n",
       "      <td>6.59</td>\n",
       "      <td>622629.79</td>\n",
       "      <td>1435119.15</td>\n",
       "      <td>0.70</td>\n",
       "    </tr>\n",
       "    <tr>\n",
       "      <th>13</th>\n",
       "      <td>A0118150103</td>\n",
       "      <td>AQ Dracula HDD – 3.5 Inch SATA 6 Gb/s 5400 RPM 256 MB Cache</td>\n",
       "      <td>Premium</td>\n",
       "      <td>2022.00</td>\n",
       "      <td>162972.00</td>\n",
       "      <td>3910024.22</td>\n",
       "      <td>7.18</td>\n",
       "      <td>1170644.17</td>\n",
       "      <td>2739380.05</td>\n",
       "      <td>0.70</td>\n",
       "    </tr>\n",
       "    <tr>\n",
       "      <th>14</th>\n",
       "      <td>A0118150104</td>\n",
       "      <td>AQ Dracula HDD – 3.5 Inch SATA 6 Gb/s 5400 RPM 256 MB Cache</td>\n",
       "      <td>Premium Plus</td>\n",
       "      <td>2018.00</td>\n",
       "      <td>18534.00</td>\n",
       "      <td>362790.08</td>\n",
       "      <td>5.90</td>\n",
       "      <td>109272.76</td>\n",
       "      <td>253517.32</td>\n",
       "      <td>0.70</td>\n",
       "    </tr>\n",
       "    <tr>\n",
       "      <th>15</th>\n",
       "      <td>A0118150104</td>\n",
       "      <td>AQ Dracula HDD – 3.5 Inch SATA 6 Gb/s 5400 RPM 256 MB Cache</td>\n",
       "      <td>Premium Plus</td>\n",
       "      <td>2019.00</td>\n",
       "      <td>42408.00</td>\n",
       "      <td>784853.34</td>\n",
       "      <td>5.42</td>\n",
       "      <td>230029.47</td>\n",
       "      <td>554823.86</td>\n",
       "      <td>0.71</td>\n",
       "    </tr>\n",
       "    <tr>\n",
       "      <th>16</th>\n",
       "      <td>A0118150104</td>\n",
       "      <td>AQ Dracula HDD – 3.5 Inch SATA 6 Gb/s 5400 RPM 256 MB Cache</td>\n",
       "      <td>Premium Plus</td>\n",
       "      <td>2020.00</td>\n",
       "      <td>60961.00</td>\n",
       "      <td>1266367.24</td>\n",
       "      <td>6.48</td>\n",
       "      <td>394960.22</td>\n",
       "      <td>871407.01</td>\n",
       "      <td>0.69</td>\n",
       "    </tr>\n",
       "    <tr>\n",
       "      <th>17</th>\n",
       "      <td>A0118150104</td>\n",
       "      <td>AQ Dracula HDD – 3.5 Inch SATA 6 Gb/s 5400 RPM 256 MB Cache</td>\n",
       "      <td>Premium Plus</td>\n",
       "      <td>2021.00</td>\n",
       "      <td>97931.00</td>\n",
       "      <td>2249759.07</td>\n",
       "      <td>6.82</td>\n",
       "      <td>667879.63</td>\n",
       "      <td>1581879.44</td>\n",
       "      <td>0.70</td>\n",
       "    </tr>\n",
       "    <tr>\n",
       "      <th>18</th>\n",
       "      <td>A0118150104</td>\n",
       "      <td>AQ Dracula HDD – 3.5 Inch SATA 6 Gb/s 5400 RPM 256 MB Cache</td>\n",
       "      <td>Premium Plus</td>\n",
       "      <td>2022.00</td>\n",
       "      <td>166735.00</td>\n",
       "      <td>3939914.70</td>\n",
       "      <td>7.37</td>\n",
       "      <td>1228086.64</td>\n",
       "      <td>2711828.06</td>\n",
       "      <td>0.69</td>\n",
       "    </tr>\n",
       "    <tr>\n",
       "      <th>19</th>\n",
       "      <td>A0219150201</td>\n",
       "      <td>AQ WereWolf NAS Internal Hard Drive HDD – 8.89 cm</td>\n",
       "      <td>Standard</td>\n",
       "      <td>2019.00</td>\n",
       "      <td>42932.00</td>\n",
       "      <td>792795.19</td>\n",
       "      <td>5.72</td>\n",
       "      <td>245785.70</td>\n",
       "      <td>547009.49</td>\n",
       "      <td>0.69</td>\n",
       "    </tr>\n",
       "    <tr>\n",
       "      <th>20</th>\n",
       "      <td>A0219150201</td>\n",
       "      <td>AQ WereWolf NAS Internal Hard Drive HDD – 8.89 cm</td>\n",
       "      <td>Standard</td>\n",
       "      <td>2020.00</td>\n",
       "      <td>62464.00</td>\n",
       "      <td>1388562.23</td>\n",
       "      <td>6.49</td>\n",
       "      <td>405129.01</td>\n",
       "      <td>983433.22</td>\n",
       "      <td>0.71</td>\n",
       "    </tr>\n",
       "    <tr>\n",
       "      <th>21</th>\n",
       "      <td>A0219150201</td>\n",
       "      <td>AQ WereWolf NAS Internal Hard Drive HDD – 8.89 cm</td>\n",
       "      <td>Standard</td>\n",
       "      <td>2021.00</td>\n",
       "      <td>100799.00</td>\n",
       "      <td>2388805.26</td>\n",
       "      <td>7.05</td>\n",
       "      <td>710612.79</td>\n",
       "      <td>1678192.47</td>\n",
       "      <td>0.70</td>\n",
       "    </tr>\n",
       "    <tr>\n",
       "      <th>22</th>\n",
       "      <td>A0219150201</td>\n",
       "      <td>AQ WereWolf NAS Internal Hard Drive HDD – 8.89 cm</td>\n",
       "      <td>Standard</td>\n",
       "      <td>2022.00</td>\n",
       "      <td>172000.00</td>\n",
       "      <td>4304919.20</td>\n",
       "      <td>7.54</td>\n",
       "      <td>1297447.60</td>\n",
       "      <td>3007471.60</td>\n",
       "      <td>0.70</td>\n",
       "    </tr>\n",
       "    <tr>\n",
       "      <th>23</th>\n",
       "      <td>A0219150202</td>\n",
       "      <td>AQ WereWolf NAS Internal Hard Drive HDD – 8.89 cm</td>\n",
       "      <td>Plus</td>\n",
       "      <td>2019.00</td>\n",
       "      <td>41074.00</td>\n",
       "      <td>855255.15</td>\n",
       "      <td>6.24</td>\n",
       "      <td>256162.11</td>\n",
       "      <td>599093.04</td>\n",
       "      <td>0.70</td>\n",
       "    </tr>\n",
       "    <tr>\n",
       "      <th>24</th>\n",
       "      <td>A0219150202</td>\n",
       "      <td>AQ WereWolf NAS Internal Hard Drive HDD – 8.89 cm</td>\n",
       "      <td>Plus</td>\n",
       "      <td>2020.00</td>\n",
       "      <td>62827.00</td>\n",
       "      <td>1517661.58</td>\n",
       "      <td>7.06</td>\n",
       "      <td>443495.79</td>\n",
       "      <td>1074165.78</td>\n",
       "      <td>0.71</td>\n",
       "    </tr>\n",
       "    <tr>\n",
       "      <th>25</th>\n",
       "      <td>A0219150202</td>\n",
       "      <td>AQ WereWolf NAS Internal Hard Drive HDD – 8.89 cm</td>\n",
       "      <td>Plus</td>\n",
       "      <td>2021.00</td>\n",
       "      <td>97091.00</td>\n",
       "      <td>2401176.94</td>\n",
       "      <td>7.20</td>\n",
       "      <td>699356.18</td>\n",
       "      <td>1701820.76</td>\n",
       "      <td>0.71</td>\n",
       "    </tr>\n",
       "    <tr>\n",
       "      <th>26</th>\n",
       "      <td>A0219150202</td>\n",
       "      <td>AQ WereWolf NAS Internal Hard Drive HDD – 8.89 cm</td>\n",
       "      <td>Plus</td>\n",
       "      <td>2022.00</td>\n",
       "      <td>169156.00</td>\n",
       "      <td>4254560.97</td>\n",
       "      <td>7.28</td>\n",
       "      <td>1230626.82</td>\n",
       "      <td>3023934.15</td>\n",
       "      <td>0.71</td>\n",
       "    </tr>\n",
       "    <tr>\n",
       "      <th>27</th>\n",
       "      <td>A0220150203</td>\n",
       "      <td>AQ WereWolf NAS Internal Hard Drive HDD – 8.89 cm</td>\n",
       "      <td>Premium</td>\n",
       "      <td>2020.00</td>\n",
       "      <td>63680.00</td>\n",
       "      <td>1523181.02</td>\n",
       "      <td>7.06</td>\n",
       "      <td>449714.53</td>\n",
       "      <td>1073466.50</td>\n",
       "      <td>0.70</td>\n",
       "    </tr>\n",
       "    <tr>\n",
       "      <th>28</th>\n",
       "      <td>A0220150203</td>\n",
       "      <td>AQ WereWolf NAS Internal Hard Drive HDD – 8.89 cm</td>\n",
       "      <td>Premium</td>\n",
       "      <td>2021.00</td>\n",
       "      <td>97815.00</td>\n",
       "      <td>2309940.35</td>\n",
       "      <td>7.36</td>\n",
       "      <td>719556.48</td>\n",
       "      <td>1590383.87</td>\n",
       "      <td>0.69</td>\n",
       "    </tr>\n",
       "    <tr>\n",
       "      <th>29</th>\n",
       "      <td>A0220150203</td>\n",
       "      <td>AQ WereWolf NAS Internal Hard Drive HDD – 8.89 cm</td>\n",
       "      <td>Premium</td>\n",
       "      <td>2022.00</td>\n",
       "      <td>165516.00</td>\n",
       "      <td>4267101.79</td>\n",
       "      <td>7.43</td>\n",
       "      <td>1229767.33</td>\n",
       "      <td>3037334.46</td>\n",
       "      <td>0.71</td>\n",
       "    </tr>\n",
       "    <tr>\n",
       "      <th>30</th>\n",
       "      <td>A0320150301</td>\n",
       "      <td>AQ Zion Saga</td>\n",
       "      <td>Standard</td>\n",
       "      <td>2020.00</td>\n",
       "      <td>64502.00</td>\n",
       "      <td>1437465.77</td>\n",
       "      <td>6.84</td>\n",
       "      <td>441283.98</td>\n",
       "      <td>996181.79</td>\n",
       "      <td>0.69</td>\n",
       "    </tr>\n",
       "    <tr>\n",
       "      <th>31</th>\n",
       "      <td>A0320150301</td>\n",
       "      <td>AQ Zion Saga</td>\n",
       "      <td>Standard</td>\n",
       "      <td>2021.00</td>\n",
       "      <td>97160.00</td>\n",
       "      <td>2304858.67</td>\n",
       "      <td>7.36</td>\n",
       "      <td>714738.11</td>\n",
       "      <td>1590120.56</td>\n",
       "      <td>0.69</td>\n",
       "    </tr>\n",
       "    <tr>\n",
       "      <th>32</th>\n",
       "      <td>A0320150301</td>\n",
       "      <td>AQ Zion Saga</td>\n",
       "      <td>Standard</td>\n",
       "      <td>2022.00</td>\n",
       "      <td>157906.00</td>\n",
       "      <td>4076643.41</td>\n",
       "      <td>7.72</td>\n",
       "      <td>1219681.73</td>\n",
       "      <td>2856961.68</td>\n",
       "      <td>0.70</td>\n",
       "    </tr>\n",
       "    <tr>\n",
       "      <th>33</th>\n",
       "      <td>A0321150302</td>\n",
       "      <td>AQ Zion Saga</td>\n",
       "      <td>Plus</td>\n",
       "      <td>2021.00</td>\n",
       "      <td>99955.00</td>\n",
       "      <td>2709050.38</td>\n",
       "      <td>7.82</td>\n",
       "      <td>781258.28</td>\n",
       "      <td>1927792.10</td>\n",
       "      <td>0.71</td>\n",
       "    </tr>\n",
       "    <tr>\n",
       "      <th>34</th>\n",
       "      <td>A0321150302</td>\n",
       "      <td>AQ Zion Saga</td>\n",
       "      <td>Plus</td>\n",
       "      <td>2022.00</td>\n",
       "      <td>168127.00</td>\n",
       "      <td>4961007.45</td>\n",
       "      <td>8.44</td>\n",
       "      <td>1419227.26</td>\n",
       "      <td>3541780.19</td>\n",
       "      <td>0.71</td>\n",
       "    </tr>\n",
       "    <tr>\n",
       "      <th>35</th>\n",
       "      <td>A0321150303</td>\n",
       "      <td>AQ Zion Saga</td>\n",
       "      <td>Premium</td>\n",
       "      <td>2021.00</td>\n",
       "      <td>96691.00</td>\n",
       "      <td>2707918.48</td>\n",
       "      <td>8.43</td>\n",
       "      <td>815018.11</td>\n",
       "      <td>1892900.37</td>\n",
       "      <td>0.70</td>\n",
       "    </tr>\n",
       "    <tr>\n",
       "      <th>36</th>\n",
       "      <td>A0321150303</td>\n",
       "      <td>AQ Zion Saga</td>\n",
       "      <td>Premium</td>\n",
       "      <td>2022.00</td>\n",
       "      <td>159123.00</td>\n",
       "      <td>4822381.64</td>\n",
       "      <td>9.19</td>\n",
       "      <td>1461974.39</td>\n",
       "      <td>3360407.25</td>\n",
       "      <td>0.70</td>\n",
       "    </tr>\n",
       "    <tr>\n",
       "      <th>37</th>\n",
       "      <td>A0418150101</td>\n",
       "      <td>AQ Mforce Gen X</td>\n",
       "      <td>Standard 1</td>\n",
       "      <td>2018.00</td>\n",
       "      <td>21842.00</td>\n",
       "      <td>346748.30</td>\n",
       "      <td>4.77</td>\n",
       "      <td>104214.73</td>\n",
       "      <td>242533.57</td>\n",
       "      <td>0.70</td>\n",
       "    </tr>\n",
       "    <tr>\n",
       "      <th>38</th>\n",
       "      <td>A0418150101</td>\n",
       "      <td>AQ Mforce Gen X</td>\n",
       "      <td>Standard 1</td>\n",
       "      <td>2019.00</td>\n",
       "      <td>32453.00</td>\n",
       "      <td>456143.14</td>\n",
       "      <td>4.39</td>\n",
       "      <td>142455.69</td>\n",
       "      <td>313687.45</td>\n",
       "      <td>0.69</td>\n",
       "    </tr>\n",
       "    <tr>\n",
       "      <th>39</th>\n",
       "      <td>A0418150101</td>\n",
       "      <td>AQ Mforce Gen X</td>\n",
       "      <td>Standard 1</td>\n",
       "      <td>2020.00</td>\n",
       "      <td>45758.00</td>\n",
       "      <td>799428.87</td>\n",
       "      <td>5.08</td>\n",
       "      <td>232263.03</td>\n",
       "      <td>567165.83</td>\n",
       "      <td>0.71</td>\n",
       "    </tr>\n",
       "    <tr>\n",
       "      <th>40</th>\n",
       "      <td>A0418150102</td>\n",
       "      <td>AQ Mforce Gen X</td>\n",
       "      <td>Standard 2</td>\n",
       "      <td>2018.00</td>\n",
       "      <td>22315.00</td>\n",
       "      <td>371056.05</td>\n",
       "      <td>5.01</td>\n",
       "      <td>111757.98</td>\n",
       "      <td>259298.07</td>\n",
       "      <td>0.70</td>\n",
       "    </tr>\n",
       "    <tr>\n",
       "      <th>41</th>\n",
       "      <td>A0418150102</td>\n",
       "      <td>AQ Mforce Gen X</td>\n",
       "      <td>Standard 2</td>\n",
       "      <td>2019.00</td>\n",
       "      <td>32880.00</td>\n",
       "      <td>525685.44</td>\n",
       "      <td>4.66</td>\n",
       "      <td>153141.89</td>\n",
       "      <td>372543.55</td>\n",
       "      <td>0.71</td>\n",
       "    </tr>\n",
       "    <tr>\n",
       "      <th>42</th>\n",
       "      <td>A0418150102</td>\n",
       "      <td>AQ Mforce Gen X</td>\n",
       "      <td>Standard 2</td>\n",
       "      <td>2020.00</td>\n",
       "      <td>46530.00</td>\n",
       "      <td>792973.57</td>\n",
       "      <td>5.22</td>\n",
       "      <td>242742.36</td>\n",
       "      <td>550231.21</td>\n",
       "      <td>0.69</td>\n",
       "    </tr>\n",
       "    <tr>\n",
       "      <th>43</th>\n",
       "      <td>A0418150103</td>\n",
       "      <td>AQ Mforce Gen X</td>\n",
       "      <td>Standard 3</td>\n",
       "      <td>2018.00</td>\n",
       "      <td>23667.00</td>\n",
       "      <td>422335.25</td>\n",
       "      <td>5.24</td>\n",
       "      <td>123965.38</td>\n",
       "      <td>298369.87</td>\n",
       "      <td>0.71</td>\n",
       "    </tr>\n",
       "    <tr>\n",
       "      <th>44</th>\n",
       "      <td>A0418150103</td>\n",
       "      <td>AQ Mforce Gen X</td>\n",
       "      <td>Standard 3</td>\n",
       "      <td>2019.00</td>\n",
       "      <td>34563.00</td>\n",
       "      <td>550744.12</td>\n",
       "      <td>4.82</td>\n",
       "      <td>166555.64</td>\n",
       "      <td>384188.48</td>\n",
       "      <td>0.70</td>\n",
       "    </tr>\n",
       "    <tr>\n",
       "      <th>45</th>\n",
       "      <td>A0418150103</td>\n",
       "      <td>AQ Mforce Gen X</td>\n",
       "      <td>Standard 3</td>\n",
       "      <td>2020.00</td>\n",
       "      <td>45581.00</td>\n",
       "      <td>795096.73</td>\n",
       "      <td>5.34</td>\n",
       "      <td>243621.33</td>\n",
       "      <td>551475.40</td>\n",
       "      <td>0.69</td>\n",
       "    </tr>\n",
       "    <tr>\n",
       "      <th>46</th>\n",
       "      <td>A0418150103</td>\n",
       "      <td>AQ Mforce Gen X</td>\n",
       "      <td>Standard 3</td>\n",
       "      <td>2021.00</td>\n",
       "      <td>77857.00</td>\n",
       "      <td>1520041.14</td>\n",
       "      <td>5.75</td>\n",
       "      <td>447451.96</td>\n",
       "      <td>1072589.17</td>\n",
       "      <td>0.71</td>\n",
       "    </tr>\n",
       "    <tr>\n",
       "      <th>47</th>\n",
       "      <td>A0418150103</td>\n",
       "      <td>AQ Mforce Gen X</td>\n",
       "      <td>Standard 3</td>\n",
       "      <td>2022.00</td>\n",
       "      <td>218083.00</td>\n",
       "      <td>4599653.98</td>\n",
       "      <td>6.03</td>\n",
       "      <td>1316021.86</td>\n",
       "      <td>3283632.11</td>\n",
       "      <td>0.71</td>\n",
       "    </tr>\n",
       "    <tr>\n",
       "      <th>48</th>\n",
       "      <td>A0418150104</td>\n",
       "      <td>AQ Mforce Gen X</td>\n",
       "      <td>Plus 1</td>\n",
       "      <td>2018.00</td>\n",
       "      <td>23542.00</td>\n",
       "      <td>438957.07</td>\n",
       "      <td>5.37</td>\n",
       "      <td>126340.50</td>\n",
       "      <td>312616.57</td>\n",
       "      <td>0.71</td>\n",
       "    </tr>\n",
       "    <tr>\n",
       "      <th>49</th>\n",
       "      <td>A0418150104</td>\n",
       "      <td>AQ Mforce Gen X</td>\n",
       "      <td>Plus 1</td>\n",
       "      <td>2019.00</td>\n",
       "      <td>27465.00</td>\n",
       "      <td>480711.66</td>\n",
       "      <td>5.31</td>\n",
       "      <td>145918.80</td>\n",
       "      <td>334792.86</td>\n",
       "      <td>0.70</td>\n",
       "    </tr>\n",
       "  </tbody>\n",
       "</table>\n",
       "</div>"
      ],
      "text/plain": [
       "   product_code                                                      product  \\\n",
       "1   A0118150101  AQ Dracula HDD – 3.5 Inch SATA 6 Gb/s 5400 RPM 256 MB Cache   \n",
       "2   A0118150101  AQ Dracula HDD – 3.5 Inch SATA 6 Gb/s 5400 RPM 256 MB Cache   \n",
       "3   A0118150101  AQ Dracula HDD – 3.5 Inch SATA 6 Gb/s 5400 RPM 256 MB Cache   \n",
       "4   A0118150101  AQ Dracula HDD – 3.5 Inch SATA 6 Gb/s 5400 RPM 256 MB Cache   \n",
       "5   A0118150102  AQ Dracula HDD – 3.5 Inch SATA 6 Gb/s 5400 RPM 256 MB Cache   \n",
       "6   A0118150102  AQ Dracula HDD – 3.5 Inch SATA 6 Gb/s 5400 RPM 256 MB Cache   \n",
       "7   A0118150102  AQ Dracula HDD – 3.5 Inch SATA 6 Gb/s 5400 RPM 256 MB Cache   \n",
       "8   A0118150102  AQ Dracula HDD – 3.5 Inch SATA 6 Gb/s 5400 RPM 256 MB Cache   \n",
       "9   A0118150103  AQ Dracula HDD – 3.5 Inch SATA 6 Gb/s 5400 RPM 256 MB Cache   \n",
       "10  A0118150103  AQ Dracula HDD – 3.5 Inch SATA 6 Gb/s 5400 RPM 256 MB Cache   \n",
       "11  A0118150103  AQ Dracula HDD – 3.5 Inch SATA 6 Gb/s 5400 RPM 256 MB Cache   \n",
       "12  A0118150103  AQ Dracula HDD – 3.5 Inch SATA 6 Gb/s 5400 RPM 256 MB Cache   \n",
       "13  A0118150103  AQ Dracula HDD – 3.5 Inch SATA 6 Gb/s 5400 RPM 256 MB Cache   \n",
       "14  A0118150104  AQ Dracula HDD – 3.5 Inch SATA 6 Gb/s 5400 RPM 256 MB Cache   \n",
       "15  A0118150104  AQ Dracula HDD – 3.5 Inch SATA 6 Gb/s 5400 RPM 256 MB Cache   \n",
       "16  A0118150104  AQ Dracula HDD – 3.5 Inch SATA 6 Gb/s 5400 RPM 256 MB Cache   \n",
       "17  A0118150104  AQ Dracula HDD – 3.5 Inch SATA 6 Gb/s 5400 RPM 256 MB Cache   \n",
       "18  A0118150104  AQ Dracula HDD – 3.5 Inch SATA 6 Gb/s 5400 RPM 256 MB Cache   \n",
       "19  A0219150201            AQ WereWolf NAS Internal Hard Drive HDD – 8.89 cm   \n",
       "20  A0219150201            AQ WereWolf NAS Internal Hard Drive HDD – 8.89 cm   \n",
       "21  A0219150201            AQ WereWolf NAS Internal Hard Drive HDD – 8.89 cm   \n",
       "22  A0219150201            AQ WereWolf NAS Internal Hard Drive HDD – 8.89 cm   \n",
       "23  A0219150202            AQ WereWolf NAS Internal Hard Drive HDD – 8.89 cm   \n",
       "24  A0219150202            AQ WereWolf NAS Internal Hard Drive HDD – 8.89 cm   \n",
       "25  A0219150202            AQ WereWolf NAS Internal Hard Drive HDD – 8.89 cm   \n",
       "26  A0219150202            AQ WereWolf NAS Internal Hard Drive HDD – 8.89 cm   \n",
       "27  A0220150203            AQ WereWolf NAS Internal Hard Drive HDD – 8.89 cm   \n",
       "28  A0220150203            AQ WereWolf NAS Internal Hard Drive HDD – 8.89 cm   \n",
       "29  A0220150203            AQ WereWolf NAS Internal Hard Drive HDD – 8.89 cm   \n",
       "30  A0320150301                                                 AQ Zion Saga   \n",
       "31  A0320150301                                                 AQ Zion Saga   \n",
       "32  A0320150301                                                 AQ Zion Saga   \n",
       "33  A0321150302                                                 AQ Zion Saga   \n",
       "34  A0321150302                                                 AQ Zion Saga   \n",
       "35  A0321150303                                                 AQ Zion Saga   \n",
       "36  A0321150303                                                 AQ Zion Saga   \n",
       "37  A0418150101                                              AQ Mforce Gen X   \n",
       "38  A0418150101                                              AQ Mforce Gen X   \n",
       "39  A0418150101                                              AQ Mforce Gen X   \n",
       "40  A0418150102                                              AQ Mforce Gen X   \n",
       "41  A0418150102                                              AQ Mforce Gen X   \n",
       "42  A0418150102                                              AQ Mforce Gen X   \n",
       "43  A0418150103                                              AQ Mforce Gen X   \n",
       "44  A0418150103                                              AQ Mforce Gen X   \n",
       "45  A0418150103                                              AQ Mforce Gen X   \n",
       "46  A0418150103                                              AQ Mforce Gen X   \n",
       "47  A0418150103                                              AQ Mforce Gen X   \n",
       "48  A0418150104                                              AQ Mforce Gen X   \n",
       "49  A0418150104                                              AQ Mforce Gen X   \n",
       "\n",
       "         variant  fiscal_year  quantity_sold  total_revenue  \\\n",
       "1       Standard      2018.00       18664.00      287336.01   \n",
       "2       Standard      2019.00       41608.00      600786.23   \n",
       "3       Standard      2020.00       62631.00     1016645.18   \n",
       "4       Standard      2021.00      100039.00     1906473.23   \n",
       "5           Plus      2018.00       17953.00      351654.39   \n",
       "6           Plus      2019.00       41945.00      778478.23   \n",
       "7           Plus      2020.00       63902.00     1268946.75   \n",
       "8           Plus      2021.00       98124.00     2105397.61   \n",
       "9        Premium      2018.00       18754.00      363133.70   \n",
       "10       Premium      2019.00       42191.00      816151.14   \n",
       "11       Premium      2020.00       61748.00     1366588.21   \n",
       "12       Premium      2021.00       94481.00     2057748.94   \n",
       "13       Premium      2022.00      162972.00     3910024.22   \n",
       "14  Premium Plus      2018.00       18534.00      362790.08   \n",
       "15  Premium Plus      2019.00       42408.00      784853.34   \n",
       "16  Premium Plus      2020.00       60961.00     1266367.24   \n",
       "17  Premium Plus      2021.00       97931.00     2249759.07   \n",
       "18  Premium Plus      2022.00      166735.00     3939914.70   \n",
       "19      Standard      2019.00       42932.00      792795.19   \n",
       "20      Standard      2020.00       62464.00     1388562.23   \n",
       "21      Standard      2021.00      100799.00     2388805.26   \n",
       "22      Standard      2022.00      172000.00     4304919.20   \n",
       "23          Plus      2019.00       41074.00      855255.15   \n",
       "24          Plus      2020.00       62827.00     1517661.58   \n",
       "25          Plus      2021.00       97091.00     2401176.94   \n",
       "26          Plus      2022.00      169156.00     4254560.97   \n",
       "27       Premium      2020.00       63680.00     1523181.02   \n",
       "28       Premium      2021.00       97815.00     2309940.35   \n",
       "29       Premium      2022.00      165516.00     4267101.79   \n",
       "30      Standard      2020.00       64502.00     1437465.77   \n",
       "31      Standard      2021.00       97160.00     2304858.67   \n",
       "32      Standard      2022.00      157906.00     4076643.41   \n",
       "33          Plus      2021.00       99955.00     2709050.38   \n",
       "34          Plus      2022.00      168127.00     4961007.45   \n",
       "35       Premium      2021.00       96691.00     2707918.48   \n",
       "36       Premium      2022.00      159123.00     4822381.64   \n",
       "37    Standard 1      2018.00       21842.00      346748.30   \n",
       "38    Standard 1      2019.00       32453.00      456143.14   \n",
       "39    Standard 1      2020.00       45758.00      799428.87   \n",
       "40    Standard 2      2018.00       22315.00      371056.05   \n",
       "41    Standard 2      2019.00       32880.00      525685.44   \n",
       "42    Standard 2      2020.00       46530.00      792973.57   \n",
       "43    Standard 3      2018.00       23667.00      422335.25   \n",
       "44    Standard 3      2019.00       34563.00      550744.12   \n",
       "45    Standard 3      2020.00       45581.00      795096.73   \n",
       "46    Standard 3      2021.00       77857.00     1520041.14   \n",
       "47    Standard 3      2022.00      218083.00     4599653.98   \n",
       "48        Plus 1      2018.00       23542.00      438957.07   \n",
       "49        Plus 1      2019.00       27465.00      480711.66   \n",
       "\n",
       "    manufacturing_cost  total_cost  net_profit  profit_margin  \n",
       "1                 4.62    86209.02   201127.00           0.70  \n",
       "2                 4.20   174890.91   425895.33           0.71  \n",
       "3                 5.02   314451.46   702193.72           0.69  \n",
       "4                 5.52   551935.17  1354538.06           0.71  \n",
       "5                 5.60   100601.43   251052.96           0.71  \n",
       "6                 5.32   223294.21   555184.02           0.71  \n",
       "7                 5.72   365391.64   903555.11           0.71  \n",
       "8                 6.28   616562.15  1488835.45           0.71  \n",
       "9                 5.95   111528.16   251605.54           0.69  \n",
       "10                5.53   233341.54   582809.60           0.71  \n",
       "11                6.33   390642.55   975945.66           0.71  \n",
       "12                6.59   622629.79  1435119.15           0.70  \n",
       "13                7.18  1170644.17  2739380.05           0.70  \n",
       "14                5.90   109272.76   253517.32           0.70  \n",
       "15                5.42   230029.47   554823.86           0.71  \n",
       "16                6.48   394960.22   871407.01           0.69  \n",
       "17                6.82   667879.63  1581879.44           0.70  \n",
       "18                7.37  1228086.64  2711828.06           0.69  \n",
       "19                5.72   245785.70   547009.49           0.69  \n",
       "20                6.49   405129.01   983433.22           0.71  \n",
       "21                7.05   710612.79  1678192.47           0.70  \n",
       "22                7.54  1297447.60  3007471.60           0.70  \n",
       "23                6.24   256162.11   599093.04           0.70  \n",
       "24                7.06   443495.79  1074165.78           0.71  \n",
       "25                7.20   699356.18  1701820.76           0.71  \n",
       "26                7.28  1230626.82  3023934.15           0.71  \n",
       "27                7.06   449714.53  1073466.50           0.70  \n",
       "28                7.36   719556.48  1590383.87           0.69  \n",
       "29                7.43  1229767.33  3037334.46           0.71  \n",
       "30                6.84   441283.98   996181.79           0.69  \n",
       "31                7.36   714738.11  1590120.56           0.69  \n",
       "32                7.72  1219681.73  2856961.68           0.70  \n",
       "33                7.82   781258.28  1927792.10           0.71  \n",
       "34                8.44  1419227.26  3541780.19           0.71  \n",
       "35                8.43   815018.11  1892900.37           0.70  \n",
       "36                9.19  1461974.39  3360407.25           0.70  \n",
       "37                4.77   104214.73   242533.57           0.70  \n",
       "38                4.39   142455.69   313687.45           0.69  \n",
       "39                5.08   232263.03   567165.83           0.71  \n",
       "40                5.01   111757.98   259298.07           0.70  \n",
       "41                4.66   153141.89   372543.55           0.71  \n",
       "42                5.22   242742.36   550231.21           0.69  \n",
       "43                5.24   123965.38   298369.87           0.71  \n",
       "44                4.82   166555.64   384188.48           0.70  \n",
       "45                5.34   243621.33   551475.40           0.69  \n",
       "46                5.75   447451.96  1072589.17           0.71  \n",
       "47                6.03  1316021.86  3283632.11           0.71  \n",
       "48                5.37   126340.50   312616.57           0.71  \n",
       "49                5.31   145918.80   334792.86           0.70  "
      ]
     },
     "execution_count": 131,
     "metadata": {},
     "output_type": "execute_result"
    }
   ],
   "source": [
    "#join manufacturing cost for each year to get manufacturing_cost.  Muiltipy by quantity sold to get total_cost.  total_revenue - total_cost=net_profit for each product for each year\n",
    "query=\"\"\"Select fact_sales_monthly.product_code, product, variant, fact_sales_monthly.fiscal_year, SUM(sold_quantity) AS quantity_sold, SUM(sold_quantity*gross_price) AS total_revenue, manufacturing_cost, SUM(sold_quantity)* manufacturing_cost AS total_cost, (SUM(sold_quantity*gross_price) - (SUM(sold_quantity)* manufacturing_cost)) AS net_profit\n",
    "from \n",
    "fact_sales_monthly\n",
    "LEFT JOIN fact_gross_price ON fact_gross_price.product_code = fact_sales_monthly.product_code AND fact_gross_price.fiscal_year = fact_sales_monthly.fiscal_year\n",
    "LEFT JOIN dim_product ON dim_product.product_code = fact_sales_monthly.product_code\n",
    "LEFT JOIN fact_manufacturing_cost ON fact_manufacturing_cost.product_code = fact_sales_monthly.product_code AND fact_manufacturing_cost.cost_year = fact_sales_monthly.fiscal_year\n",
    "GROUP BY\n",
    "    fact_sales_monthly.product_code,\n",
    "    fact_sales_monthly.fiscal_year\n",
    "    \"\"\"\n",
    "profit=pd.read_sql_query(query, con)\n",
    "#reformatting pandas so the numbers are shown without scientific notation\n",
    "pd.options.display.float_format = '{:.2f}'.format\n",
    "profit['profit_margin'] = profit['net_profit']/profit['total_revenue']\n",
    "profit=profit.dropna()\n",
    "profit"
   ]
  },
  {
   "cell_type": "code",
   "execution_count": 96,
   "id": "b069cbeb",
   "metadata": {},
   "outputs": [
    {
     "data": {
      "text/html": [
       "<div>\n",
       "<style scoped>\n",
       "    .dataframe tbody tr th:only-of-type {\n",
       "        vertical-align: middle;\n",
       "    }\n",
       "\n",
       "    .dataframe tbody tr th {\n",
       "        vertical-align: top;\n",
       "    }\n",
       "\n",
       "    .dataframe thead th {\n",
       "        text-align: right;\n",
       "    }\n",
       "</style>\n",
       "<table border=\"1\" class=\"dataframe\">\n",
       "  <thead>\n",
       "    <tr style=\"text-align: right;\">\n",
       "      <th>fiscal_year</th>\n",
       "      <th>2018.0</th>\n",
       "      <th>2019.0</th>\n",
       "      <th>2020.0</th>\n",
       "      <th>2021.0</th>\n",
       "      <th>2022.0</th>\n",
       "      <th>All</th>\n",
       "    </tr>\n",
       "    <tr>\n",
       "      <th>product_code</th>\n",
       "      <th></th>\n",
       "      <th></th>\n",
       "      <th></th>\n",
       "      <th></th>\n",
       "      <th></th>\n",
       "      <th></th>\n",
       "    </tr>\n",
       "  </thead>\n",
       "  <tbody>\n",
       "    <tr>\n",
       "      <th>A0118150101</th>\n",
       "      <td>201127.00</td>\n",
       "      <td>425895.33</td>\n",
       "      <td>702193.72</td>\n",
       "      <td>1354538.06</td>\n",
       "      <td></td>\n",
       "      <td>2683754.11</td>\n",
       "    </tr>\n",
       "    <tr>\n",
       "      <th>A0118150102</th>\n",
       "      <td>251052.96</td>\n",
       "      <td>555184.02</td>\n",
       "      <td>903555.11</td>\n",
       "      <td>1488835.45</td>\n",
       "      <td></td>\n",
       "      <td>3198627.54</td>\n",
       "    </tr>\n",
       "    <tr>\n",
       "      <th>A0118150103</th>\n",
       "      <td>251605.54</td>\n",
       "      <td>582809.60</td>\n",
       "      <td>975945.66</td>\n",
       "      <td>1435119.15</td>\n",
       "      <td>2739380.05</td>\n",
       "      <td>5984860.00</td>\n",
       "    </tr>\n",
       "    <tr>\n",
       "      <th>A0118150104</th>\n",
       "      <td>253517.32</td>\n",
       "      <td>554823.86</td>\n",
       "      <td>871407.01</td>\n",
       "      <td>1581879.44</td>\n",
       "      <td>2711828.06</td>\n",
       "      <td>5973455.70</td>\n",
       "    </tr>\n",
       "    <tr>\n",
       "      <th>A0219150201</th>\n",
       "      <td></td>\n",
       "      <td>547009.49</td>\n",
       "      <td>983433.22</td>\n",
       "      <td>1678192.47</td>\n",
       "      <td>3007471.60</td>\n",
       "      <td>6216106.78</td>\n",
       "    </tr>\n",
       "    <tr>\n",
       "      <th>A0219150202</th>\n",
       "      <td></td>\n",
       "      <td>599093.04</td>\n",
       "      <td>1074165.78</td>\n",
       "      <td>1701820.76</td>\n",
       "      <td>3023934.15</td>\n",
       "      <td>6399013.73</td>\n",
       "    </tr>\n",
       "    <tr>\n",
       "      <th>A0220150203</th>\n",
       "      <td></td>\n",
       "      <td></td>\n",
       "      <td>1073466.50</td>\n",
       "      <td>1590383.87</td>\n",
       "      <td>3037334.46</td>\n",
       "      <td>5701184.82</td>\n",
       "    </tr>\n",
       "    <tr>\n",
       "      <th>A0320150301</th>\n",
       "      <td></td>\n",
       "      <td></td>\n",
       "      <td>996181.79</td>\n",
       "      <td>1590120.56</td>\n",
       "      <td>2856961.68</td>\n",
       "      <td>5443264.03</td>\n",
       "    </tr>\n",
       "    <tr>\n",
       "      <th>A0321150302</th>\n",
       "      <td></td>\n",
       "      <td></td>\n",
       "      <td></td>\n",
       "      <td>1927792.10</td>\n",
       "      <td>3541780.19</td>\n",
       "      <td>5469572.30</td>\n",
       "    </tr>\n",
       "    <tr>\n",
       "      <th>A0321150303</th>\n",
       "      <td></td>\n",
       "      <td></td>\n",
       "      <td></td>\n",
       "      <td>1892900.37</td>\n",
       "      <td>3360407.25</td>\n",
       "      <td>5253307.62</td>\n",
       "    </tr>\n",
       "    <tr>\n",
       "      <th>A0418150101</th>\n",
       "      <td>242533.57</td>\n",
       "      <td>313687.45</td>\n",
       "      <td>567165.83</td>\n",
       "      <td></td>\n",
       "      <td></td>\n",
       "      <td>1123386.85</td>\n",
       "    </tr>\n",
       "    <tr>\n",
       "      <th>A0418150102</th>\n",
       "      <td>259298.07</td>\n",
       "      <td>372543.55</td>\n",
       "      <td>550231.21</td>\n",
       "      <td></td>\n",
       "      <td></td>\n",
       "      <td>1182072.83</td>\n",
       "    </tr>\n",
       "    <tr>\n",
       "      <th>A0418150103</th>\n",
       "      <td>298369.87</td>\n",
       "      <td>384188.48</td>\n",
       "      <td>551475.40</td>\n",
       "      <td>1072589.17</td>\n",
       "      <td>3283632.11</td>\n",
       "      <td>5590255.04</td>\n",
       "    </tr>\n",
       "    <tr>\n",
       "      <th>A0418150104</th>\n",
       "      <td>312616.57</td>\n",
       "      <td>334792.86</td>\n",
       "      <td></td>\n",
       "      <td></td>\n",
       "      <td></td>\n",
       "      <td>647409.43</td>\n",
       "    </tr>\n",
       "    <tr>\n",
       "      <th>All</th>\n",
       "      <td>2070120.89</td>\n",
       "      <td>4670027.69</td>\n",
       "      <td>9249221.24</td>\n",
       "      <td>17314171.41</td>\n",
       "      <td>27562729.56</td>\n",
       "      <td>60866270.78</td>\n",
       "    </tr>\n",
       "  </tbody>\n",
       "</table>\n",
       "</div>"
      ],
      "text/plain": [
       "fiscal_year      2018.0     2019.0     2020.0      2021.0      2022.0  \\\n",
       "product_code                                                            \n",
       "A0118150101   201127.00  425895.33  702193.72  1354538.06               \n",
       "A0118150102   251052.96  555184.02  903555.11  1488835.45               \n",
       "A0118150103   251605.54  582809.60  975945.66  1435119.15  2739380.05   \n",
       "A0118150104   253517.32  554823.86  871407.01  1581879.44  2711828.06   \n",
       "A0219150201              547009.49  983433.22  1678192.47  3007471.60   \n",
       "A0219150202              599093.04 1074165.78  1701820.76  3023934.15   \n",
       "A0220150203                        1073466.50  1590383.87  3037334.46   \n",
       "A0320150301                         996181.79  1590120.56  2856961.68   \n",
       "A0321150302                                    1927792.10  3541780.19   \n",
       "A0321150303                                    1892900.37  3360407.25   \n",
       "A0418150101   242533.57  313687.45  567165.83                           \n",
       "A0418150102   259298.07  372543.55  550231.21                           \n",
       "A0418150103   298369.87  384188.48  551475.40  1072589.17  3283632.11   \n",
       "A0418150104   312616.57  334792.86                                      \n",
       "All          2070120.89 4670027.69 9249221.24 17314171.41 27562729.56   \n",
       "\n",
       "fiscal_year          All  \n",
       "product_code              \n",
       "A0118150101   2683754.11  \n",
       "A0118150102   3198627.54  \n",
       "A0118150103   5984860.00  \n",
       "A0118150104   5973455.70  \n",
       "A0219150201   6216106.78  \n",
       "A0219150202   6399013.73  \n",
       "A0220150203   5701184.82  \n",
       "A0320150301   5443264.03  \n",
       "A0321150302   5469572.30  \n",
       "A0321150303   5253307.62  \n",
       "A0418150101   1123386.85  \n",
       "A0418150102   1182072.83  \n",
       "A0418150103   5590255.04  \n",
       "A0418150104    647409.43  \n",
       "All          60866270.78  "
      ]
     },
     "execution_count": 96,
     "metadata": {},
     "output_type": "execute_result"
    }
   ],
   "source": [
    "#make the profit table into a pivot table and heat map so we can easily see trends.\n",
    "profit_pivot = profit.pivot_table(\n",
    "index = 'product_code',\n",
    "columns = 'fiscal_year',\n",
    "values = 'net_profit',\n",
    "aggfunc= 'sum',\n",
    "margins=True)\n",
    "profit_pivot.fillna('')"
   ]
  },
  {
   "cell_type": "code",
   "execution_count": 97,
   "id": "fecb4ad6",
   "metadata": {
    "scrolled": false
   },
   "outputs": [
    {
     "data": {
      "image/png": "[encoded data removed]",
      "text/plain": [
       "<Figure size 936x648 with 2 Axes>"
      ]
     },
     "metadata": {},
     "output_type": "display_data"
    }
   ],
   "source": [
    "plt.figure(figsize=(13,9))\n",
    "sns.heatmap(profit_pivot, annot=True, fmt='.0f', cmap='YlGnBu', center=3000000, linewidths=1, linecolor='grey',  vmax=7000000, cbar_kws= {'orientation': 'horizontal'} \n",
    "            ).set(title = 'Quantity Sold')\n",
    "plt.show()"
   ]
  },
  {
   "cell_type": "code",
   "execution_count": 133,
   "id": "5ca8eb99",
   "metadata": {},
   "outputs": [],
   "source": [
    "#export profit table(comeplete sales data) to csv for dashboard\n",
    "profit.to_csv('complete_sales_data1.csv')"
   ]
  },
  {
   "cell_type": "markdown",
   "id": "1ad56652",
   "metadata": {},
   "source": [
    "## Most Profitible Products Over Time"
   ]
  },
  {
   "cell_type": "code",
   "execution_count": 99,
   "id": "8e1d62eb",
   "metadata": {},
   "outputs": [
    {
     "data": {
      "text/html": [
       "<div>\n",
       "<style scoped>\n",
       "    .dataframe tbody tr th:only-of-type {\n",
       "        vertical-align: middle;\n",
       "    }\n",
       "\n",
       "    .dataframe tbody tr th {\n",
       "        vertical-align: top;\n",
       "    }\n",
       "\n",
       "    .dataframe thead th {\n",
       "        text-align: right;\n",
       "    }\n",
       "</style>\n",
       "<table border=\"1\" class=\"dataframe\">\n",
       "  <thead>\n",
       "    <tr style=\"text-align: right;\">\n",
       "      <th></th>\n",
       "      <th>product_code</th>\n",
       "      <th>product</th>\n",
       "      <th>variant</th>\n",
       "      <th>net_profit</th>\n",
       "    </tr>\n",
       "  </thead>\n",
       "  <tbody>\n",
       "    <tr>\n",
       "      <th>1</th>\n",
       "      <td>A0219150202</td>\n",
       "      <td>AQ WereWolf NAS Internal Hard Drive HDD – 8.89 cm</td>\n",
       "      <td>Plus</td>\n",
       "      <td>6399013.73</td>\n",
       "    </tr>\n",
       "    <tr>\n",
       "      <th>2</th>\n",
       "      <td>A0219150201</td>\n",
       "      <td>AQ WereWolf NAS Internal Hard Drive HDD – 8.89 cm</td>\n",
       "      <td>Standard</td>\n",
       "      <td>6216106.78</td>\n",
       "    </tr>\n",
       "    <tr>\n",
       "      <th>3</th>\n",
       "      <td>A0118150103</td>\n",
       "      <td>AQ Dracula HDD – 3.5 Inch SATA 6 Gb/s 5400 RPM 256 MB Cache</td>\n",
       "      <td>Premium</td>\n",
       "      <td>5984860.00</td>\n",
       "    </tr>\n",
       "    <tr>\n",
       "      <th>4</th>\n",
       "      <td>A0118150104</td>\n",
       "      <td>AQ Dracula HDD – 3.5 Inch SATA 6 Gb/s 5400 RPM 256 MB Cache</td>\n",
       "      <td>Premium Plus</td>\n",
       "      <td>5973455.70</td>\n",
       "    </tr>\n",
       "    <tr>\n",
       "      <th>5</th>\n",
       "      <td>A0220150203</td>\n",
       "      <td>AQ WereWolf NAS Internal Hard Drive HDD – 8.89 cm</td>\n",
       "      <td>Premium</td>\n",
       "      <td>5701184.82</td>\n",
       "    </tr>\n",
       "    <tr>\n",
       "      <th>6</th>\n",
       "      <td>A0418150103</td>\n",
       "      <td>AQ Mforce Gen X</td>\n",
       "      <td>Standard 3</td>\n",
       "      <td>5590255.04</td>\n",
       "    </tr>\n",
       "    <tr>\n",
       "      <th>7</th>\n",
       "      <td>A0321150302</td>\n",
       "      <td>AQ Zion Saga</td>\n",
       "      <td>Plus</td>\n",
       "      <td>5469572.30</td>\n",
       "    </tr>\n",
       "    <tr>\n",
       "      <th>8</th>\n",
       "      <td>A0320150301</td>\n",
       "      <td>AQ Zion Saga</td>\n",
       "      <td>Standard</td>\n",
       "      <td>5443264.03</td>\n",
       "    </tr>\n",
       "    <tr>\n",
       "      <th>9</th>\n",
       "      <td>A0321150303</td>\n",
       "      <td>AQ Zion Saga</td>\n",
       "      <td>Premium</td>\n",
       "      <td>5253307.62</td>\n",
       "    </tr>\n",
       "    <tr>\n",
       "      <th>10</th>\n",
       "      <td>A0118150102</td>\n",
       "      <td>AQ Dracula HDD – 3.5 Inch SATA 6 Gb/s 5400 RPM 256 MB Cache</td>\n",
       "      <td>Plus</td>\n",
       "      <td>3198627.54</td>\n",
       "    </tr>\n",
       "  </tbody>\n",
       "</table>\n",
       "</div>"
      ],
      "text/plain": [
       "   product_code                                                      product  \\\n",
       "1   A0219150202            AQ WereWolf NAS Internal Hard Drive HDD – 8.89 cm   \n",
       "2   A0219150201            AQ WereWolf NAS Internal Hard Drive HDD – 8.89 cm   \n",
       "3   A0118150103  AQ Dracula HDD – 3.5 Inch SATA 6 Gb/s 5400 RPM 256 MB Cache   \n",
       "4   A0118150104  AQ Dracula HDD – 3.5 Inch SATA 6 Gb/s 5400 RPM 256 MB Cache   \n",
       "5   A0220150203            AQ WereWolf NAS Internal Hard Drive HDD – 8.89 cm   \n",
       "6   A0418150103                                              AQ Mforce Gen X   \n",
       "7   A0321150302                                                 AQ Zion Saga   \n",
       "8   A0320150301                                                 AQ Zion Saga   \n",
       "9   A0321150303                                                 AQ Zion Saga   \n",
       "10  A0118150102  AQ Dracula HDD – 3.5 Inch SATA 6 Gb/s 5400 RPM 256 MB Cache   \n",
       "\n",
       "         variant  net_profit  \n",
       "1           Plus  6399013.73  \n",
       "2       Standard  6216106.78  \n",
       "3        Premium  5984860.00  \n",
       "4   Premium Plus  5973455.70  \n",
       "5        Premium  5701184.82  \n",
       "6     Standard 3  5590255.04  \n",
       "7           Plus  5469572.30  \n",
       "8       Standard  5443264.03  \n",
       "9        Premium  5253307.62  \n",
       "10          Plus  3198627.54  "
      ]
     },
     "execution_count": 99,
     "metadata": {},
     "output_type": "execute_result"
    }
   ],
   "source": [
    "#most profitible products over time\n",
    "best_profit = profit.groupby(['product_code', 'product', 'variant']).agg({'net_profit':sum}).sort_values('net_profit', ascending=False).reset_index()\n",
    "best_profit.index += 1\n",
    "best_profit.head(10)"
   ]
  },
  {
   "cell_type": "markdown",
   "id": "9abad379",
   "metadata": {},
   "source": [
    "We can see from the above heatmap and table which products brought the biggest profit over time and also those that performed well each year.\n",
    "\n",
    "The top three profitable products were:\n",
    "\n",
    "6399013.73 - A0219150202\tAQ WereWolf NAS Internal Hard Drive HDD – 8.89 cm\tPlus\n",
    "\n",
    "6216106.78 - A0219150201\tAQ WereWolf NAS Internal Hard Drive HDD – 8.89 cm\tStandard\n",
    "\n",
    "5984860.00 - A0118150103\tAQ Dracula HDD – 3.5 Inch SATA 6 Gb/s 5400 RPM 256 MB Cache\tPremium\t\n"
   ]
  },
  {
   "cell_type": "code",
   "execution_count": 100,
   "id": "5fe12985",
   "metadata": {},
   "outputs": [],
   "source": [
    "#save to csv for dashboard\n",
    "best_profit.to_csv('best_profit.csv')"
   ]
  },
  {
   "cell_type": "markdown",
   "id": "0be5bdb8",
   "metadata": {},
   "source": [
    "## Profit Margin"
   ]
  },
  {
   "cell_type": "code",
   "execution_count": 102,
   "id": "ed6594c7",
   "metadata": {
    "scrolled": false
   },
   "outputs": [
    {
     "data": {
      "text/html": [
       "<div>\n",
       "<style scoped>\n",
       "    .dataframe tbody tr th:only-of-type {\n",
       "        vertical-align: middle;\n",
       "    }\n",
       "\n",
       "    .dataframe tbody tr th {\n",
       "        vertical-align: top;\n",
       "    }\n",
       "\n",
       "    .dataframe thead th {\n",
       "        text-align: right;\n",
       "    }\n",
       "</style>\n",
       "<table border=\"1\" class=\"dataframe\">\n",
       "  <thead>\n",
       "    <tr style=\"text-align: right;\">\n",
       "      <th>fiscal_year</th>\n",
       "      <th>2018.0</th>\n",
       "      <th>2019.0</th>\n",
       "      <th>2020.0</th>\n",
       "      <th>2021.0</th>\n",
       "      <th>2022.0</th>\n",
       "      <th>All</th>\n",
       "    </tr>\n",
       "    <tr>\n",
       "      <th>product_code</th>\n",
       "      <th></th>\n",
       "      <th></th>\n",
       "      <th></th>\n",
       "      <th></th>\n",
       "      <th></th>\n",
       "      <th></th>\n",
       "    </tr>\n",
       "  </thead>\n",
       "  <tbody>\n",
       "    <tr>\n",
       "      <th>A0118150101</th>\n",
       "      <td>0.70</td>\n",
       "      <td>0.71</td>\n",
       "      <td>0.69</td>\n",
       "      <td>0.71</td>\n",
       "      <td></td>\n",
       "      <td>0.70</td>\n",
       "    </tr>\n",
       "    <tr>\n",
       "      <th>A0118150102</th>\n",
       "      <td>0.71</td>\n",
       "      <td>0.71</td>\n",
       "      <td>0.71</td>\n",
       "      <td>0.71</td>\n",
       "      <td></td>\n",
       "      <td>0.71</td>\n",
       "    </tr>\n",
       "    <tr>\n",
       "      <th>A0118150103</th>\n",
       "      <td>0.69</td>\n",
       "      <td>0.71</td>\n",
       "      <td>0.71</td>\n",
       "      <td>0.70</td>\n",
       "      <td>0.70</td>\n",
       "      <td>0.70</td>\n",
       "    </tr>\n",
       "    <tr>\n",
       "      <th>A0118150104</th>\n",
       "      <td>0.70</td>\n",
       "      <td>0.71</td>\n",
       "      <td>0.69</td>\n",
       "      <td>0.70</td>\n",
       "      <td>0.69</td>\n",
       "      <td>0.70</td>\n",
       "    </tr>\n",
       "    <tr>\n",
       "      <th>A0219150201</th>\n",
       "      <td></td>\n",
       "      <td>0.69</td>\n",
       "      <td>0.71</td>\n",
       "      <td>0.70</td>\n",
       "      <td>0.70</td>\n",
       "      <td>0.70</td>\n",
       "    </tr>\n",
       "    <tr>\n",
       "      <th>A0219150202</th>\n",
       "      <td></td>\n",
       "      <td>0.70</td>\n",
       "      <td>0.71</td>\n",
       "      <td>0.71</td>\n",
       "      <td>0.71</td>\n",
       "      <td>0.71</td>\n",
       "    </tr>\n",
       "    <tr>\n",
       "      <th>A0220150203</th>\n",
       "      <td></td>\n",
       "      <td></td>\n",
       "      <td>0.70</td>\n",
       "      <td>0.69</td>\n",
       "      <td>0.71</td>\n",
       "      <td>0.70</td>\n",
       "    </tr>\n",
       "    <tr>\n",
       "      <th>A0320150301</th>\n",
       "      <td></td>\n",
       "      <td></td>\n",
       "      <td>0.69</td>\n",
       "      <td>0.69</td>\n",
       "      <td>0.70</td>\n",
       "      <td>0.69</td>\n",
       "    </tr>\n",
       "    <tr>\n",
       "      <th>A0321150302</th>\n",
       "      <td></td>\n",
       "      <td></td>\n",
       "      <td></td>\n",
       "      <td>0.71</td>\n",
       "      <td>0.71</td>\n",
       "      <td>0.71</td>\n",
       "    </tr>\n",
       "    <tr>\n",
       "      <th>A0321150303</th>\n",
       "      <td></td>\n",
       "      <td></td>\n",
       "      <td></td>\n",
       "      <td>0.70</td>\n",
       "      <td>0.70</td>\n",
       "      <td>0.70</td>\n",
       "    </tr>\n",
       "    <tr>\n",
       "      <th>A0418150101</th>\n",
       "      <td>0.70</td>\n",
       "      <td>0.69</td>\n",
       "      <td>0.71</td>\n",
       "      <td></td>\n",
       "      <td></td>\n",
       "      <td>0.70</td>\n",
       "    </tr>\n",
       "    <tr>\n",
       "      <th>A0418150102</th>\n",
       "      <td>0.70</td>\n",
       "      <td>0.71</td>\n",
       "      <td>0.69</td>\n",
       "      <td></td>\n",
       "      <td></td>\n",
       "      <td>0.70</td>\n",
       "    </tr>\n",
       "    <tr>\n",
       "      <th>A0418150103</th>\n",
       "      <td>0.71</td>\n",
       "      <td>0.70</td>\n",
       "      <td>0.69</td>\n",
       "      <td>0.71</td>\n",
       "      <td>0.71</td>\n",
       "      <td>0.70</td>\n",
       "    </tr>\n",
       "    <tr>\n",
       "      <th>A0418150104</th>\n",
       "      <td>0.71</td>\n",
       "      <td>0.70</td>\n",
       "      <td></td>\n",
       "      <td></td>\n",
       "      <td></td>\n",
       "      <td>0.70</td>\n",
       "    </tr>\n",
       "    <tr>\n",
       "      <th>All</th>\n",
       "      <td>0.70</td>\n",
       "      <td>0.70</td>\n",
       "      <td>0.70</td>\n",
       "      <td>0.70</td>\n",
       "      <td>0.70</td>\n",
       "      <td>0.70</td>\n",
       "    </tr>\n",
       "  </tbody>\n",
       "</table>\n",
       "</div>"
      ],
      "text/plain": [
       "fiscal_year  2018.0 2019.0 2020.0 2021.0 2022.0  All\n",
       "product_code                                        \n",
       "A0118150101    0.70   0.71   0.69   0.71        0.70\n",
       "A0118150102    0.71   0.71   0.71   0.71        0.71\n",
       "A0118150103    0.69   0.71   0.71   0.70   0.70 0.70\n",
       "A0118150104    0.70   0.71   0.69   0.70   0.69 0.70\n",
       "A0219150201           0.69   0.71   0.70   0.70 0.70\n",
       "A0219150202           0.70   0.71   0.71   0.71 0.71\n",
       "A0220150203                  0.70   0.69   0.71 0.70\n",
       "A0320150301                  0.69   0.69   0.70 0.69\n",
       "A0321150302                         0.71   0.71 0.71\n",
       "A0321150303                         0.70   0.70 0.70\n",
       "A0418150101    0.70   0.69   0.71               0.70\n",
       "A0418150102    0.70   0.71   0.69               0.70\n",
       "A0418150103    0.71   0.70   0.69   0.71   0.71 0.70\n",
       "A0418150104    0.71   0.70                      0.70\n",
       "All            0.70   0.70   0.70   0.70   0.70 0.70"
      ]
     },
     "execution_count": 102,
     "metadata": {},
     "output_type": "execute_result"
    }
   ],
   "source": [
    "profit_margin_pivot = profit.pivot_table(\n",
    "index = 'product_code',\n",
    "columns = 'fiscal_year',\n",
    "values = 'profit_margin',\n",
    "aggfunc= 'mean',\n",
    "margins=True)\n",
    "profit_margin_pivot.fillna('')"
   ]
  },
  {
   "cell_type": "markdown",
   "id": "55af6ab7",
   "metadata": {},
   "source": [
    "The profit margin is aroung 0.7 across the board.  This means that all products were sold at a normal price with no large discounts compromising profit for quantity."
   ]
  },
  {
   "cell_type": "code",
   "execution_count": 103,
   "id": "36f4f01f",
   "metadata": {},
   "outputs": [
    {
     "data": {
      "application/vnd.plotly.v1+json": {
       "config": {
        "plotlyServerURL": "https://plot.ly"
       },
       "data": [
        {
         "name": "net_profit",
         "type": "bar",
         "x": [
          "A0",
          "A0118150101",
          "A0118150101",
          "A0118150101",
          "A0118150101",
          "A0118150102",
          "A0118150102",
          "A0118150102",
          "A0118150102",
          "A0118150103",
          "A0118150103",
          "A0118150103",
          "A0118150103",
          "A0118150103",
          "A0118150104",
          "A0118150104",
          "A0118150104",
          "A0118150104",
          "A0118150104",
          "A0219150201",
          "A0219150201",
          "A0219150201",
          "A0219150201",
          "A0219150202",
          "A0219150202",
          "A0219150202",
          "A0219150202",
          "A0220150203",
          "A0220150203",
          "A0220150203",
          "A0320150301",
          "A0320150301",
          "A0320150301",
          "A0321150302",
          "A0321150302",
          "A0321150303",
          "A0321150303",
          "A0418150101",
          "A0418150101",
          "A0418150101",
          "A0418150102",
          "A0418150102",
          "A0418150102",
          "A0418150103",
          "A0418150103",
          "A0418150103",
          "A0418150103",
          "A0418150103",
          "A0418150104",
          "A0418150104"
         ],
         "xaxis": "x",
         "y": [
          null,
          201126.99679999956,
          425895.32720000006,
          702193.7195999973,
          1354538.0638999918,
          251052.95670000088,
          555184.0199999975,
          903555.1094000041,
          1488835.4519999912,
          251605.53940000114,
          582809.5975999996,
          975945.6644000062,
          1435119.1494999921,
          2739380.050800003,
          253517.31899999874,
          554823.8639999927,
          871407.014499994,
          1581879.4430000023,
          2711828.060499999,
          547009.4915999844,
          983433.2159999944,
          1678192.4710999941,
          3007471.600000003,
          599093.0417999945,
          1074165.784400009,
          1701820.7571000084,
          3023934.1495999973,
          1073466.4959999952,
          1590383.8665000226,
          3037334.4612,
          996181.7883999936,
          1590120.5600000094,
          2856961.676799996,
          1927792.102999989,
          3541780.1947000064,
          1892900.3687999942,
          3360407.2509000013,
          242533.56800000233,
          313687.4527000002,
          567165.8342000073,
          259298.0684999997,
          372543.55200000247,
          550231.2090000054,
          298369.86899999983,
          384188.4827999985,
          551475.4027999901,
          1072589.174799997,
          3283632.1143999957,
          312616.5721999987,
          334792.8570000025
         ],
         "yaxis": "y"
        },
        {
         "name": "total_revenue",
         "type": "bar",
         "x": [
          "A0",
          "A0118150101",
          "A0118150101",
          "A0118150101",
          "A0118150101",
          "A0118150102",
          "A0118150102",
          "A0118150102",
          "A0118150102",
          "A0118150103",
          "A0118150103",
          "A0118150103",
          "A0118150103",
          "A0118150103",
          "A0118150104",
          "A0118150104",
          "A0118150104",
          "A0118150104",
          "A0118150104",
          "A0219150201",
          "A0219150201",
          "A0219150201",
          "A0219150201",
          "A0219150202",
          "A0219150202",
          "A0219150202",
          "A0219150202",
          "A0220150203",
          "A0220150203",
          "A0220150203",
          "A0320150301",
          "A0320150301",
          "A0320150301",
          "A0321150302",
          "A0321150302",
          "A0321150303",
          "A0321150303",
          "A0418150101",
          "A0418150101",
          "A0418150101",
          "A0418150102",
          "A0418150102",
          "A0418150102",
          "A0418150103",
          "A0418150103",
          "A0418150103",
          "A0418150103",
          "A0418150103",
          "A0418150104",
          "A0418150104"
         ],
         "xaxis": "x2",
         "y": [
          null,
          287336.01279999956,
          600786.2336,
          1016645.1812999973,
          1906473.2346999918,
          351654.3875000009,
          778478.2274999975,
          1268946.745400004,
          2105397.6059999913,
          363133.70200000115,
          816151.1421999997,
          1366588.211600006,
          2057748.9394999922,
          3910024.2240000027,
          362790.07619999873,
          784853.3375999928,
          1266367.237399994,
          2249759.0699000023,
          3939914.7029999993,
          792795.1915999843,
          1388562.2271999945,
          2388805.2612999943,
          4304919.200000003,
          855255.1501999946,
          1517661.5774000091,
          2401176.9392000083,
          4254560.965199998,
          1523181.023999995,
          2309940.3510000226,
          4267101.7896,
          1437465.7711999936,
          2304858.6680000094,
          4076643.411399996,
          2709050.378499989,
          4961007.452500006,
          2707918.476899994,
          4822381.638000001,
          346748.3026000023,
          456143.1415000002,
          799428.8664000073,
          371056.0514999997,
          525685.4400000025,
          792973.5660000053,
          422335.24829999986,
          550744.1234999985,
          795096.7315999902,
          1520041.1394999968,
          4599653.977899996,
          438957.0693999987,
          480711.65550000255
         ],
         "yaxis": "y2"
        }
       ],
       "layout": {
        "annotations": [
         {
          "font": {
           "size": 16
          },
          "showarrow": false,
          "text": "Net Profit",
          "x": 0.225,
          "xanchor": "center",
          "xref": "paper",
          "y": 1,
          "yanchor": "bottom",
          "yref": "paper"
         },
         {
          "font": {
           "size": 16
          },
          "showarrow": false,
          "text": "Total Revenue",
          "x": 0.775,
          "xanchor": "center",
          "xref": "paper",
          "y": 1,
          "yanchor": "bottom",
          "yref": "paper"
         }
        ],
        "template": {
         "data": {
          "bar": [
           {
            "error_x": {
             "color": "#2a3f5f"
            },
            "error_y": {
             "color": "#2a3f5f"
            },
            "marker": {
             "line": {
              "color": "#E5ECF6",
              "width": 0.5
             },
             "pattern": {
              "fillmode": "overlay",
              "size": 10,
              "solidity": 0.2
             }
            },
            "type": "bar"
           }
          ],
          "barpolar": [
           {
            "marker": {
             "line": {
              "color": "#E5ECF6",
              "width": 0.5
             },
             "pattern": {
              "fillmode": "overlay",
              "size": 10,
              "solidity": 0.2
             }
            },
            "type": "barpolar"
           }
          ],
          "carpet": [
           {
            "aaxis": {
             "endlinecolor": "#2a3f5f",
             "gridcolor": "white",
             "linecolor": "white",
             "minorgridcolor": "white",
             "startlinecolor": "#2a3f5f"
            },
            "baxis": {
             "endlinecolor": "#2a3f5f",
             "gridcolor": "white",
             "linecolor": "white",
             "minorgridcolor": "white",
             "startlinecolor": "#2a3f5f"
            },
            "type": "carpet"
           }
          ],
          "choropleth": [
           {
            "colorbar": {
             "outlinewidth": 0,
             "ticks": ""
            },
            "type": "choropleth"
           }
          ],
          "contour": [
           {
            "colorbar": {
             "outlinewidth": 0,
             "ticks": ""
            },
            "colorscale": [
             [
              0,
              "#0d0887"
             ],
             [
              0.1111111111111111,
              "#46039f"
             ],
             [
              0.2222222222222222,
              "#7201a8"
             ],
             [
              0.3333333333333333,
              "#9c179e"
             ],
             [
              0.4444444444444444,
              "#bd3786"
             ],
             [
              0.5555555555555556,
              "#d8576b"
             ],
             [
              0.6666666666666666,
              "#ed7953"
             ],
             [
              0.7777777777777778,
              "#fb9f3a"
             ],
             [
              0.8888888888888888,
              "#fdca26"
             ],
             [
              1,
              "#f0f921"
             ]
            ],
            "type": "contour"
           }
          ],
          "contourcarpet": [
           {
            "colorbar": {
             "outlinewidth": 0,
             "ticks": ""
            },
            "type": "contourcarpet"
           }
          ],
          "heatmap": [
           {
            "colorbar": {
             "outlinewidth": 0,
             "ticks": ""
            },
            "colorscale": [
             [
              0,
              "#0d0887"
             ],
             [
              0.1111111111111111,
              "#46039f"
             ],
             [
              0.2222222222222222,
              "#7201a8"
             ],
             [
              0.3333333333333333,
              "#9c179e"
             ],
             [
              0.4444444444444444,
              "#bd3786"
             ],
             [
              0.5555555555555556,
              "#d8576b"
             ],
             [
              0.6666666666666666,
              "#ed7953"
             ],
             [
              0.7777777777777778,
              "#fb9f3a"
             ],
             [
              0.8888888888888888,
              "#fdca26"
             ],
             [
              1,
              "#f0f921"
             ]
            ],
            "type": "heatmap"
           }
          ],
          "heatmapgl": [
           {
            "colorbar": {
             "outlinewidth": 0,
             "ticks": ""
            },
            "colorscale": [
             [
              0,
              "#0d0887"
             ],
             [
              0.1111111111111111,
              "#46039f"
             ],
             [
              0.2222222222222222,
              "#7201a8"
             ],
             [
              0.3333333333333333,
              "#9c179e"
             ],
             [
              0.4444444444444444,
              "#bd3786"
             ],
             [
              0.5555555555555556,
              "#d8576b"
             ],
             [
              0.6666666666666666,
              "#ed7953"
             ],
             [
              0.7777777777777778,
              "#fb9f3a"
             ],
             [
              0.8888888888888888,
              "#fdca26"
             ],
             [
              1,
              "#f0f921"
             ]
            ],
            "type": "heatmapgl"
           }
          ],
          "histogram": [
           {
            "marker": {
             "pattern": {
              "fillmode": "overlay",
              "size": 10,
              "solidity": 0.2
             }
            },
            "type": "histogram"
           }
          ],
          "histogram2d": [
           {
            "colorbar": {
             "outlinewidth": 0,
             "ticks": ""
            },
            "colorscale": [
             [
              0,
              "#0d0887"
             ],
             [
              0.1111111111111111,
              "#46039f"
             ],
             [
              0.2222222222222222,
              "#7201a8"
             ],
             [
              0.3333333333333333,
              "#9c179e"
             ],
             [
              0.4444444444444444,
              "#bd3786"
             ],
             [
              0.5555555555555556,
              "#d8576b"
             ],
             [
              0.6666666666666666,
              "#ed7953"
             ],
             [
              0.7777777777777778,
              "#fb9f3a"
             ],
             [
              0.8888888888888888,
              "#fdca26"
             ],
             [
              1,
              "#f0f921"
             ]
            ],
            "type": "histogram2d"
           }
          ],
          "histogram2dcontour": [
           {
            "colorbar": {
             "outlinewidth": 0,
             "ticks": ""
            },
            "colorscale": [
             [
              0,
              "#0d0887"
             ],
             [
              0.1111111111111111,
              "#46039f"
             ],
             [
              0.2222222222222222,
              "#7201a8"
             ],
             [
              0.3333333333333333,
              "#9c179e"
             ],
             [
              0.4444444444444444,
              "#bd3786"
             ],
             [
              0.5555555555555556,
              "#d8576b"
             ],
             [
              0.6666666666666666,
              "#ed7953"
             ],
             [
              0.7777777777777778,
              "#fb9f3a"
             ],
             [
              0.8888888888888888,
              "#fdca26"
             ],
             [
              1,
              "#f0f921"
             ]
            ],
            "type": "histogram2dcontour"
           }
          ],
          "mesh3d": [
           {
            "colorbar": {
             "outlinewidth": 0,
             "ticks": ""
            },
            "type": "mesh3d"
           }
          ],
          "parcoords": [
           {
            "line": {
             "colorbar": {
              "outlinewidth": 0,
              "ticks": ""
             }
            },
            "type": "parcoords"
           }
          ],
          "pie": [
           {
            "automargin": true,
            "type": "pie"
           }
          ],
          "scatter": [
           {
            "marker": {
             "colorbar": {
              "outlinewidth": 0,
              "ticks": ""
             }
            },
            "type": "scatter"
           }
          ],
          "scatter3d": [
           {
            "line": {
             "colorbar": {
              "outlinewidth": 0,
              "ticks": ""
             }
            },
            "marker": {
             "colorbar": {
              "outlinewidth": 0,
              "ticks": ""
             }
            },
            "type": "scatter3d"
           }
          ],
          "scattercarpet": [
           {
            "marker": {
             "colorbar": {
              "outlinewidth": 0,
              "ticks": ""
             }
            },
            "type": "scattercarpet"
           }
          ],
          "scattergeo": [
           {
            "marker": {
             "colorbar": {
              "outlinewidth": 0,
              "ticks": ""
             }
            },
            "type": "scattergeo"
           }
          ],
          "scattergl": [
           {
            "marker": {
             "colorbar": {
              "outlinewidth": 0,
              "ticks": ""
             }
            },
            "type": "scattergl"
           }
          ],
          "scattermapbox": [
           {
            "marker": {
             "colorbar": {
              "outlinewidth": 0,
              "ticks": ""
             }
            },
            "type": "scattermapbox"
           }
          ],
          "scatterpolar": [
           {
            "marker": {
             "colorbar": {
              "outlinewidth": 0,
              "ticks": ""
             }
            },
            "type": "scatterpolar"
           }
          ],
          "scatterpolargl": [
           {
            "marker": {
             "colorbar": {
              "outlinewidth": 0,
              "ticks": ""
             }
            },
            "type": "scatterpolargl"
           }
          ],
          "scatterternary": [
           {
            "marker": {
             "colorbar": {
              "outlinewidth": 0,
              "ticks": ""
             }
            },
            "type": "scatterternary"
           }
          ],
          "surface": [
           {
            "colorbar": {
             "outlinewidth": 0,
             "ticks": ""
            },
            "colorscale": [
             [
              0,
              "#0d0887"
             ],
             [
              0.1111111111111111,
              "#46039f"
             ],
             [
              0.2222222222222222,
              "#7201a8"
             ],
             [
              0.3333333333333333,
              "#9c179e"
             ],
             [
              0.4444444444444444,
              "#bd3786"
             ],
             [
              0.5555555555555556,
              "#d8576b"
             ],
             [
              0.6666666666666666,
              "#ed7953"
             ],
             [
              0.7777777777777778,
              "#fb9f3a"
             ],
             [
              0.8888888888888888,
              "#fdca26"
             ],
             [
              1,
              "#f0f921"
             ]
            ],
            "type": "surface"
           }
          ],
          "table": [
           {
            "cells": {
             "fill": {
              "color": "#EBF0F8"
             },
             "line": {
              "color": "white"
             }
            },
            "header": {
             "fill": {
              "color": "#C8D4E3"
             },
             "line": {
              "color": "white"
             }
            },
            "type": "table"
           }
          ]
         },
         "layout": {
          "annotationdefaults": {
           "arrowcolor": "#2a3f5f",
           "arrowhead": 0,
           "arrowwidth": 1
          },
          "autotypenumbers": "strict",
          "coloraxis": {
           "colorbar": {
            "outlinewidth": 0,
            "ticks": ""
           }
          },
          "colorscale": {
           "diverging": [
            [
             0,
             "#8e0152"
            ],
            [
             0.1,
             "#c51b7d"
            ],
            [
             0.2,
             "#de77ae"
            ],
            [
             0.3,
             "#f1b6da"
            ],
            [
             0.4,
             "#fde0ef"
            ],
            [
             0.5,
             "#f7f7f7"
            ],
            [
             0.6,
             "#e6f5d0"
            ],
            [
             0.7,
             "#b8e186"
            ],
            [
             0.8,
             "#7fbc41"
            ],
            [
             0.9,
             "#4d9221"
            ],
            [
             1,
             "#276419"
            ]
           ],
           "sequential": [
            [
             0,
             "#0d0887"
            ],
            [
             0.1111111111111111,
             "#46039f"
            ],
            [
             0.2222222222222222,
             "#7201a8"
            ],
            [
             0.3333333333333333,
             "#9c179e"
            ],
            [
             0.4444444444444444,
             "#bd3786"
            ],
            [
             0.5555555555555556,
             "#d8576b"
            ],
            [
             0.6666666666666666,
             "#ed7953"
            ],
            [
             0.7777777777777778,
             "#fb9f3a"
            ],
            [
             0.8888888888888888,
             "#fdca26"
            ],
            [
             1,
             "#f0f921"
            ]
           ],
           "sequentialminus": [
            [
             0,
             "#0d0887"
            ],
            [
             0.1111111111111111,
             "#46039f"
            ],
            [
             0.2222222222222222,
             "#7201a8"
            ],
            [
             0.3333333333333333,
             "#9c179e"
            ],
            [
             0.4444444444444444,
             "#bd3786"
            ],
            [
             0.5555555555555556,
             "#d8576b"
            ],
            [
             0.6666666666666666,
             "#ed7953"
            ],
            [
             0.7777777777777778,
             "#fb9f3a"
            ],
            [
             0.8888888888888888,
             "#fdca26"
            ],
            [
             1,
             "#f0f921"
            ]
           ]
          },
          "colorway": [
           "#636efa",
           "#EF553B",
           "#00cc96",
           "#ab63fa",
           "#FFA15A",
           "#19d3f3",
           "#FF6692",
           "#B6E880",
           "#FF97FF",
           "#FECB52"
          ],
          "font": {
           "color": "#2a3f5f"
          },
          "geo": {
           "bgcolor": "white",
           "lakecolor": "white",
           "landcolor": "#E5ECF6",
           "showlakes": true,
           "showland": true,
           "subunitcolor": "white"
          },
          "hoverlabel": {
           "align": "left"
          },
          "hovermode": "closest",
          "mapbox": {
           "style": "light"
          },
          "paper_bgcolor": "white",
          "plot_bgcolor": "#E5ECF6",
          "polar": {
           "angularaxis": {
            "gridcolor": "white",
            "linecolor": "white",
            "ticks": ""
           },
           "bgcolor": "#E5ECF6",
           "radialaxis": {
            "gridcolor": "white",
            "linecolor": "white",
            "ticks": ""
           }
          },
          "scene": {
           "xaxis": {
            "backgroundcolor": "#E5ECF6",
            "gridcolor": "white",
            "gridwidth": 2,
            "linecolor": "white",
            "showbackground": true,
            "ticks": "",
            "zerolinecolor": "white"
           },
           "yaxis": {
            "backgroundcolor": "#E5ECF6",
            "gridcolor": "white",
            "gridwidth": 2,
            "linecolor": "white",
            "showbackground": true,
            "ticks": "",
            "zerolinecolor": "white"
           },
           "zaxis": {
            "backgroundcolor": "#E5ECF6",
            "gridcolor": "white",
            "gridwidth": 2,
            "linecolor": "white",
            "showbackground": true,
            "ticks": "",
            "zerolinecolor": "white"
           }
          },
          "shapedefaults": {
           "line": {
            "color": "#2a3f5f"
           }
          },
          "ternary": {
           "aaxis": {
            "gridcolor": "white",
            "linecolor": "white",
            "ticks": ""
           },
           "baxis": {
            "gridcolor": "white",
            "linecolor": "white",
            "ticks": ""
           },
           "bgcolor": "#E5ECF6",
           "caxis": {
            "gridcolor": "white",
            "linecolor": "white",
            "ticks": ""
           }
          },
          "title": {
           "x": 0.05
          },
          "xaxis": {
           "automargin": true,
           "gridcolor": "white",
           "linecolor": "white",
           "ticks": "",
           "title": {
            "standoff": 15
           },
           "zerolinecolor": "white",
           "zerolinewidth": 2
          },
          "yaxis": {
           "automargin": true,
           "gridcolor": "white",
           "linecolor": "white",
           "ticks": "",
           "title": {
            "standoff": 15
           },
           "zerolinecolor": "white",
           "zerolinewidth": 2
          }
         }
        },
        "title": {
         "text": "Net Profit and Gross Revenue for each Product"
        },
        "xaxis": {
         "anchor": "y",
         "domain": [
          0,
          0.45
         ],
         "title": {
          "text": "Product ID"
         }
        },
        "xaxis2": {
         "anchor": "y2",
         "domain": [
          0.55,
          1
         ],
         "title": {
          "text": "Product ID"
         }
        },
        "yaxis": {
         "anchor": "x",
         "domain": [
          0,
          1
         ],
         "title": {
          "text": "Profit"
         }
        },
        "yaxis2": {
         "anchor": "x2",
         "domain": [
          0,
          1
         ],
         "title": {
          "text": "Revenue"
         }
        }
       }
      },
      "text/html": [
       "<div>                            <div id=\"26df6a16-de29-4cb0-9fe7-d4c1bc206ee7\" class=\"plotly-graph-div\" style=\"height:525px; width:100%;\"></div>            <script type=\"text/javascript\">                require([\"plotly\"], function(Plotly) {                    window.PLOTLYENV=window.PLOTLYENV || {};                                    if (document.getElementById(\"26df6a16-de29-4cb0-9fe7-d4c1bc206ee7\")) {                    Plotly.newPlot(                        \"26df6a16-de29-4cb0-9fe7-d4c1bc206ee7\",                        [{\"name\":\"net_profit\",\"x\":[\"A0\",\"A0118150101\",\"A0118150101\",\"A0118150101\",\"A0118150101\",\"A0118150102\",\"A0118150102\",\"A0118150102\",\"A0118150102\",\"A0118150103\",\"A0118150103\",\"A0118150103\",\"A0118150103\",\"A0118150103\",\"A0118150104\",\"A0118150104\",\"A0118150104\",\"A0118150104\",\"A0118150104\",\"A0219150201\",\"A0219150201\",\"A0219150201\",\"A0219150201\",\"A0219150202\",\"A0219150202\",\"A0219150202\",\"A0219150202\",\"A0220150203\",\"A0220150203\",\"A0220150203\",\"A0320150301\",\"A0320150301\",\"A0320150301\",\"A0321150302\",\"A0321150302\",\"A0321150303\",\"A0321150303\",\"A0418150101\",\"A0418150101\",\"A0418150101\",\"A0418150102\",\"A0418150102\",\"A0418150102\",\"A0418150103\",\"A0418150103\",\"A0418150103\",\"A0418150103\",\"A0418150103\",\"A0418150104\",\"A0418150104\"],\"y\":[null,201126.99679999956,425895.32720000006,702193.7195999973,1354538.0638999918,251052.95670000088,555184.0199999975,903555.1094000041,1488835.4519999912,251605.53940000114,582809.5975999996,975945.6644000062,1435119.1494999921,2739380.050800003,253517.31899999874,554823.8639999927,871407.014499994,1581879.4430000023,2711828.060499999,547009.4915999844,983433.2159999944,1678192.4710999941,3007471.600000003,599093.0417999945,1074165.784400009,1701820.7571000084,3023934.1495999973,1073466.4959999952,1590383.8665000226,3037334.4612,996181.7883999936,1590120.5600000094,2856961.676799996,1927792.102999989,3541780.1947000064,1892900.3687999942,3360407.2509000013,242533.56800000233,313687.4527000002,567165.8342000073,259298.0684999997,372543.55200000247,550231.2090000054,298369.86899999983,384188.4827999985,551475.4027999901,1072589.174799997,3283632.1143999957,312616.5721999987,334792.8570000025],\"type\":\"bar\",\"xaxis\":\"x\",\"yaxis\":\"y\"},{\"name\":\"total_revenue\",\"x\":[\"A0\",\"A0118150101\",\"A0118150101\",\"A0118150101\",\"A0118150101\",\"A0118150102\",\"A0118150102\",\"A0118150102\",\"A0118150102\",\"A0118150103\",\"A0118150103\",\"A0118150103\",\"A0118150103\",\"A0118150103\",\"A0118150104\",\"A0118150104\",\"A0118150104\",\"A0118150104\",\"A0118150104\",\"A0219150201\",\"A0219150201\",\"A0219150201\",\"A0219150201\",\"A0219150202\",\"A0219150202\",\"A0219150202\",\"A0219150202\",\"A0220150203\",\"A0220150203\",\"A0220150203\",\"A0320150301\",\"A0320150301\",\"A0320150301\",\"A0321150302\",\"A0321150302\",\"A0321150303\",\"A0321150303\",\"A0418150101\",\"A0418150101\",\"A0418150101\",\"A0418150102\",\"A0418150102\",\"A0418150102\",\"A0418150103\",\"A0418150103\",\"A0418150103\",\"A0418150103\",\"A0418150103\",\"A0418150104\",\"A0418150104\"],\"y\":[null,287336.01279999956,600786.2336,1016645.1812999973,1906473.2346999918,351654.3875000009,778478.2274999975,1268946.745400004,2105397.6059999913,363133.70200000115,816151.1421999997,1366588.211600006,2057748.9394999922,3910024.2240000027,362790.07619999873,784853.3375999928,1266367.237399994,2249759.0699000023,3939914.7029999993,792795.1915999843,1388562.2271999945,2388805.2612999943,4304919.200000003,855255.1501999946,1517661.5774000091,2401176.9392000083,4254560.965199998,1523181.023999995,2309940.3510000226,4267101.7896,1437465.7711999936,2304858.6680000094,4076643.411399996,2709050.378499989,4961007.452500006,2707918.476899994,4822381.638000001,346748.3026000023,456143.1415000002,799428.8664000073,371056.0514999997,525685.4400000025,792973.5660000053,422335.24829999986,550744.1234999985,795096.7315999902,1520041.1394999968,4599653.977899996,438957.0693999987,480711.65550000255],\"type\":\"bar\",\"xaxis\":\"x2\",\"yaxis\":\"y2\"}],                        {\"template\":{\"data\":{\"bar\":[{\"error_x\":{\"color\":\"#2a3f5f\"},\"error_y\":{\"color\":\"#2a3f5f\"},\"marker\":{\"line\":{\"color\":\"#E5ECF6\",\"width\":0.5},\"pattern\":{\"fillmode\":\"overlay\",\"size\":10,\"solidity\":0.2}},\"type\":\"bar\"}],\"barpolar\":[{\"marker\":{\"line\":{\"color\":\"#E5ECF6\",\"width\":0.5},\"pattern\":{\"fillmode\":\"overlay\",\"size\":10,\"solidity\":0.2}},\"type\":\"barpolar\"}],\"carpet\":[{\"aaxis\":{\"endlinecolor\":\"#2a3f5f\",\"gridcolor\":\"white\",\"linecolor\":\"white\",\"minorgridcolor\":\"white\",\"startlinecolor\":\"#2a3f5f\"},\"baxis\":{\"endlinecolor\":\"#2a3f5f\",\"gridcolor\":\"white\",\"linecolor\":\"white\",\"minorgridcolor\":\"white\",\"startlinecolor\":\"#2a3f5f\"},\"type\":\"carpet\"}],\"choropleth\":[{\"colorbar\":{\"outlinewidth\":0,\"ticks\":\"\"},\"type\":\"choropleth\"}],\"contour\":[{\"colorbar\":{\"outlinewidth\":0,\"ticks\":\"\"},\"colorscale\":[[0.0,\"#0d0887\"],[0.1111111111111111,\"#46039f\"],[0.2222222222222222,\"#7201a8\"],[0.3333333333333333,\"#9c179e\"],[0.4444444444444444,\"#bd3786\"],[0.5555555555555556,\"#d8576b\"],[0.6666666666666666,\"#ed7953\"],[0.7777777777777778,\"#fb9f3a\"],[0.8888888888888888,\"#fdca26\"],[1.0,\"#f0f921\"]],\"type\":\"contour\"}],\"contourcarpet\":[{\"colorbar\":{\"outlinewidth\":0,\"ticks\":\"\"},\"type\":\"contourcarpet\"}],\"heatmap\":[{\"colorbar\":{\"outlinewidth\":0,\"ticks\":\"\"},\"colorscale\":[[0.0,\"#0d0887\"],[0.1111111111111111,\"#46039f\"],[0.2222222222222222,\"#7201a8\"],[0.3333333333333333,\"#9c179e\"],[0.4444444444444444,\"#bd3786\"],[0.5555555555555556,\"#d8576b\"],[0.6666666666666666,\"#ed7953\"],[0.7777777777777778,\"#fb9f3a\"],[0.8888888888888888,\"#fdca26\"],[1.0,\"#f0f921\"]],\"type\":\"heatmap\"}],\"heatmapgl\":[{\"colorbar\":{\"outlinewidth\":0,\"ticks\":\"\"},\"colorscale\":[[0.0,\"#0d0887\"],[0.1111111111111111,\"#46039f\"],[0.2222222222222222,\"#7201a8\"],[0.3333333333333333,\"#9c179e\"],[0.4444444444444444,\"#bd3786\"],[0.5555555555555556,\"#d8576b\"],[0.6666666666666666,\"#ed7953\"],[0.7777777777777778,\"#fb9f3a\"],[0.8888888888888888,\"#fdca26\"],[1.0,\"#f0f921\"]],\"type\":\"heatmapgl\"}],\"histogram\":[{\"marker\":{\"pattern\":{\"fillmode\":\"overlay\",\"size\":10,\"solidity\":0.2}},\"type\":\"histogram\"}],\"histogram2d\":[{\"colorbar\":{\"outlinewidth\":0,\"ticks\":\"\"},\"colorscale\":[[0.0,\"#0d0887\"],[0.1111111111111111,\"#46039f\"],[0.2222222222222222,\"#7201a8\"],[0.3333333333333333,\"#9c179e\"],[0.4444444444444444,\"#bd3786\"],[0.5555555555555556,\"#d8576b\"],[0.6666666666666666,\"#ed7953\"],[0.7777777777777778,\"#fb9f3a\"],[0.8888888888888888,\"#fdca26\"],[1.0,\"#f0f921\"]],\"type\":\"histogram2d\"}],\"histogram2dcontour\":[{\"colorbar\":{\"outlinewidth\":0,\"ticks\":\"\"},\"colorscale\":[[0.0,\"#0d0887\"],[0.1111111111111111,\"#46039f\"],[0.2222222222222222,\"#7201a8\"],[0.3333333333333333,\"#9c179e\"],[0.4444444444444444,\"#bd3786\"],[0.5555555555555556,\"#d8576b\"],[0.6666666666666666,\"#ed7953\"],[0.7777777777777778,\"#fb9f3a\"],[0.8888888888888888,\"#fdca26\"],[1.0,\"#f0f921\"]],\"type\":\"histogram2dcontour\"}],\"mesh3d\":[{\"colorbar\":{\"outlinewidth\":0,\"ticks\":\"\"},\"type\":\"mesh3d\"}],\"parcoords\":[{\"line\":{\"colorbar\":{\"outlinewidth\":0,\"ticks\":\"\"}},\"type\":\"parcoords\"}],\"pie\":[{\"automargin\":true,\"type\":\"pie\"}],\"scatter\":[{\"marker\":{\"colorbar\":{\"outlinewidth\":0,\"ticks\":\"\"}},\"type\":\"scatter\"}],\"scatter3d\":[{\"line\":{\"colorbar\":{\"outlinewidth\":0,\"ticks\":\"\"}},\"marker\":{\"colorbar\":{\"outlinewidth\":0,\"ticks\":\"\"}},\"type\":\"scatter3d\"}],\"scattercarpet\":[{\"marker\":{\"colorbar\":{\"outlinewidth\":0,\"ticks\":\"\"}},\"type\":\"scattercarpet\"}],\"scattergeo\":[{\"marker\":{\"colorbar\":{\"outlinewidth\":0,\"ticks\":\"\"}},\"type\":\"scattergeo\"}],\"scattergl\":[{\"marker\":{\"colorbar\":{\"outlinewidth\":0,\"ticks\":\"\"}},\"type\":\"scattergl\"}],\"scattermapbox\":[{\"marker\":{\"colorbar\":{\"outlinewidth\":0,\"ticks\":\"\"}},\"type\":\"scattermapbox\"}],\"scatterpolar\":[{\"marker\":{\"colorbar\":{\"outlinewidth\":0,\"ticks\":\"\"}},\"type\":\"scatterpolar\"}],\"scatterpolargl\":[{\"marker\":{\"colorbar\":{\"outlinewidth\":0,\"ticks\":\"\"}},\"type\":\"scatterpolargl\"}],\"scatterternary\":[{\"marker\":{\"colorbar\":{\"outlinewidth\":0,\"ticks\":\"\"}},\"type\":\"scatterternary\"}],\"surface\":[{\"colorbar\":{\"outlinewidth\":0,\"ticks\":\"\"},\"colorscale\":[[0.0,\"#0d0887\"],[0.1111111111111111,\"#46039f\"],[0.2222222222222222,\"#7201a8\"],[0.3333333333333333,\"#9c179e\"],[0.4444444444444444,\"#bd3786\"],[0.5555555555555556,\"#d8576b\"],[0.6666666666666666,\"#ed7953\"],[0.7777777777777778,\"#fb9f3a\"],[0.8888888888888888,\"#fdca26\"],[1.0,\"#f0f921\"]],\"type\":\"surface\"}],\"table\":[{\"cells\":{\"fill\":{\"color\":\"#EBF0F8\"},\"line\":{\"color\":\"white\"}},\"header\":{\"fill\":{\"color\":\"#C8D4E3\"},\"line\":{\"color\":\"white\"}},\"type\":\"table\"}]},\"layout\":{\"annotationdefaults\":{\"arrowcolor\":\"#2a3f5f\",\"arrowhead\":0,\"arrowwidth\":1},\"autotypenumbers\":\"strict\",\"coloraxis\":{\"colorbar\":{\"outlinewidth\":0,\"ticks\":\"\"}},\"colorscale\":{\"diverging\":[[0,\"#8e0152\"],[0.1,\"#c51b7d\"],[0.2,\"#de77ae\"],[0.3,\"#f1b6da\"],[0.4,\"#fde0ef\"],[0.5,\"#f7f7f7\"],[0.6,\"#e6f5d0\"],[0.7,\"#b8e186\"],[0.8,\"#7fbc41\"],[0.9,\"#4d9221\"],[1,\"#276419\"]],\"sequential\":[[0.0,\"#0d0887\"],[0.1111111111111111,\"#46039f\"],[0.2222222222222222,\"#7201a8\"],[0.3333333333333333,\"#9c179e\"],[0.4444444444444444,\"#bd3786\"],[0.5555555555555556,\"#d8576b\"],[0.6666666666666666,\"#ed7953\"],[0.7777777777777778,\"#fb9f3a\"],[0.8888888888888888,\"#fdca26\"],[1.0,\"#f0f921\"]],\"sequentialminus\":[[0.0,\"#0d0887\"],[0.1111111111111111,\"#46039f\"],[0.2222222222222222,\"#7201a8\"],[0.3333333333333333,\"#9c179e\"],[0.4444444444444444,\"#bd3786\"],[0.5555555555555556,\"#d8576b\"],[0.6666666666666666,\"#ed7953\"],[0.7777777777777778,\"#fb9f3a\"],[0.8888888888888888,\"#fdca26\"],[1.0,\"#f0f921\"]]},\"colorway\":[\"#636efa\",\"#EF553B\",\"#00cc96\",\"#ab63fa\",\"#FFA15A\",\"#19d3f3\",\"#FF6692\",\"#B6E880\",\"#FF97FF\",\"#FECB52\"],\"font\":{\"color\":\"#2a3f5f\"},\"geo\":{\"bgcolor\":\"white\",\"lakecolor\":\"white\",\"landcolor\":\"#E5ECF6\",\"showlakes\":true,\"showland\":true,\"subunitcolor\":\"white\"},\"hoverlabel\":{\"align\":\"left\"},\"hovermode\":\"closest\",\"mapbox\":{\"style\":\"light\"},\"paper_bgcolor\":\"white\",\"plot_bgcolor\":\"#E5ECF6\",\"polar\":{\"angularaxis\":{\"gridcolor\":\"white\",\"linecolor\":\"white\",\"ticks\":\"\"},\"bgcolor\":\"#E5ECF6\",\"radialaxis\":{\"gridcolor\":\"white\",\"linecolor\":\"white\",\"ticks\":\"\"}},\"scene\":{\"xaxis\":{\"backgroundcolor\":\"#E5ECF6\",\"gridcolor\":\"white\",\"gridwidth\":2,\"linecolor\":\"white\",\"showbackground\":true,\"ticks\":\"\",\"zerolinecolor\":\"white\"},\"yaxis\":{\"backgroundcolor\":\"#E5ECF6\",\"gridcolor\":\"white\",\"gridwidth\":2,\"linecolor\":\"white\",\"showbackground\":true,\"ticks\":\"\",\"zerolinecolor\":\"white\"},\"zaxis\":{\"backgroundcolor\":\"#E5ECF6\",\"gridcolor\":\"white\",\"gridwidth\":2,\"linecolor\":\"white\",\"showbackground\":true,\"ticks\":\"\",\"zerolinecolor\":\"white\"}},\"shapedefaults\":{\"line\":{\"color\":\"#2a3f5f\"}},\"ternary\":{\"aaxis\":{\"gridcolor\":\"white\",\"linecolor\":\"white\",\"ticks\":\"\"},\"baxis\":{\"gridcolor\":\"white\",\"linecolor\":\"white\",\"ticks\":\"\"},\"bgcolor\":\"#E5ECF6\",\"caxis\":{\"gridcolor\":\"white\",\"linecolor\":\"white\",\"ticks\":\"\"}},\"title\":{\"x\":0.05},\"xaxis\":{\"automargin\":true,\"gridcolor\":\"white\",\"linecolor\":\"white\",\"ticks\":\"\",\"title\":{\"standoff\":15},\"zerolinecolor\":\"white\",\"zerolinewidth\":2},\"yaxis\":{\"automargin\":true,\"gridcolor\":\"white\",\"linecolor\":\"white\",\"ticks\":\"\",\"title\":{\"standoff\":15},\"zerolinecolor\":\"white\",\"zerolinewidth\":2}}},\"xaxis\":{\"anchor\":\"y\",\"domain\":[0.0,0.45],\"title\":{\"text\":\"Product ID\"}},\"yaxis\":{\"anchor\":\"x\",\"domain\":[0.0,1.0],\"title\":{\"text\":\"Profit\"}},\"xaxis2\":{\"anchor\":\"y2\",\"domain\":[0.55,1.0],\"title\":{\"text\":\"Product ID\"}},\"yaxis2\":{\"anchor\":\"x2\",\"domain\":[0.0,1.0],\"title\":{\"text\":\"Revenue\"}},\"annotations\":[{\"font\":{\"size\":16},\"showarrow\":false,\"text\":\"Net Profit\",\"x\":0.225,\"xanchor\":\"center\",\"xref\":\"paper\",\"y\":1.0,\"yanchor\":\"bottom\",\"yref\":\"paper\"},{\"font\":{\"size\":16},\"showarrow\":false,\"text\":\"Total Revenue\",\"x\":0.775,\"xanchor\":\"center\",\"xref\":\"paper\",\"y\":1.0,\"yanchor\":\"bottom\",\"yref\":\"paper\"}],\"title\":{\"text\":\"Net Profit and Gross Revenue for each Product\"}},                        {\"responsive\": true}                    ).then(function(){\n",
       "                            \n",
       "var gd = document.getElementById('26df6a16-de29-4cb0-9fe7-d4c1bc206ee7');\n",
       "var x = new MutationObserver(function (mutations, observer) {{\n",
       "        var display = window.getComputedStyle(gd).display;\n",
       "        if (!display || display === 'none') {{\n",
       "            console.log([gd, 'removed!']);\n",
       "            Plotly.purge(gd);\n",
       "            observer.disconnect();\n",
       "        }}\n",
       "}});\n",
       "\n",
       "// Listen for the removal of the full notebook cells\n",
       "var notebookContainer = gd.closest('#notebook-container');\n",
       "if (notebookContainer) {{\n",
       "    x.observe(notebookContainer, {childList: true});\n",
       "}}\n",
       "\n",
       "// Listen for the clearing of the current output cell\n",
       "var outputEl = gd.closest('.output');\n",
       "if (outputEl) {{\n",
       "    x.observe(outputEl, {childList: true});\n",
       "}}\n",
       "\n",
       "                        })                };                });            </script>        </div>"
      ]
     },
     "metadata": {},
     "output_type": "display_data"
    }
   ],
   "source": [
    "# Create figure with subplots\n",
    "fig = make_subplots(rows=1, cols=2, subplot_titles=(\"Net Profit\", \"Total Revenue\"))\n",
    "\n",
    "# Add traces for net profit\n",
    "fig.add_trace(\n",
    "    go.Bar(x=profit[\"product_code\"], y=profit['net_profit'], name=\"net_profit\"),\n",
    "    row=1, col=1\n",
    ")\n",
    "\n",
    "# Add traces for Total Revenue\n",
    "fig.add_trace(\n",
    "    go.Bar(x=profit[\"product_code\"], y=profit[\"total_revenue\"], name=\"total_revenue\"),\n",
    "    row=1, col=2\n",
    ")\n",
    "\n",
    "# Add figure title\n",
    "fig.update_layout(\n",
    "    title_text=\"Net Profit and Gross Revenue for each Product\"\n",
    ")\n",
    "\n",
    "# Set x-axis title\n",
    "fig.update_xaxes(title_text=\"Product ID\", row=1, col=1)\n",
    "fig.update_xaxes(title_text=\"Product ID\", row=1, col=2)\n",
    "\n",
    "# Set y-axes titles\n",
    "fig.update_yaxes(title_text=\"Profit\", row=1, col=1)\n",
    "fig.update_yaxes(title_text=\"Revenue\", row=1, col=2)\n",
    "\n",
    "fig.show()"
   ]
  },
  {
   "cell_type": "markdown",
   "id": "467bb166",
   "metadata": {},
   "source": [
    "These two charts above are very similar.  Each products profit margin is around 70% so it makes sense that the most profit came from the products that also had the most revenue.  \n",
    "\n",
    "The ranking of most profitable/highest grossing is very similar but the Premium Dracula HDD was slightly more profitable than the Premium Plus version."
   ]
  },
  {
   "cell_type": "markdown",
   "id": "9907a4a1",
   "metadata": {},
   "source": [
    "## Conclusion"
   ]
  },
  {
   "cell_type": "code",
   "execution_count": 104,
   "id": "0abcc7df",
   "metadata": {
    "scrolled": true
   },
   "outputs": [
    {
     "data": {
      "application/vnd.plotly.v1+json": {
       "config": {
        "plotlyServerURL": "https://plot.ly"
       },
       "data": [
        {
         "name": "quantity_sold",
         "type": "bar",
         "x": [
          "A0",
          "A0118150101",
          "A0118150101",
          "A0118150101",
          "A0118150101",
          "A0118150102",
          "A0118150102",
          "A0118150102",
          "A0118150102",
          "A0118150103",
          "A0118150103",
          "A0118150103",
          "A0118150103",
          "A0118150103",
          "A0118150104",
          "A0118150104",
          "A0118150104",
          "A0118150104",
          "A0118150104",
          "A0219150201",
          "A0219150201",
          "A0219150201",
          "A0219150201",
          "A0219150202",
          "A0219150202",
          "A0219150202",
          "A0219150202",
          "A0220150203",
          "A0220150203",
          "A0220150203",
          "A0320150301",
          "A0320150301",
          "A0320150301",
          "A0321150302",
          "A0321150302",
          "A0321150303",
          "A0321150303",
          "A0418150101",
          "A0418150101",
          "A0418150101",
          "A0418150102",
          "A0418150102",
          "A0418150102",
          "A0418150103",
          "A0418150103",
          "A0418150103",
          "A0418150103",
          "A0418150103",
          "A0418150104",
          "A0418150104"
         ],
         "xaxis": "x",
         "y": [
          null,
          18664,
          41608,
          62631,
          100039,
          17953,
          41945,
          63902,
          98124,
          18754,
          42191,
          61748,
          94481,
          162972,
          18534,
          42408,
          60961,
          97931,
          166735,
          42932,
          62464,
          100799,
          172000,
          41074,
          62827,
          97091,
          169156,
          63680,
          97815,
          165516,
          64502,
          97160,
          157906,
          99955,
          168127,
          96691,
          159123,
          21842,
          32453,
          45758,
          22315,
          32880,
          46530,
          23667,
          34563,
          45581,
          77857,
          218083,
          23542,
          27465
         ],
         "yaxis": "y"
        },
        {
         "name": "net_profit",
         "type": "bar",
         "x": [
          "A0",
          "A0118150101",
          "A0118150101",
          "A0118150101",
          "A0118150101",
          "A0118150102",
          "A0118150102",
          "A0118150102",
          "A0118150102",
          "A0118150103",
          "A0118150103",
          "A0118150103",
          "A0118150103",
          "A0118150103",
          "A0118150104",
          "A0118150104",
          "A0118150104",
          "A0118150104",
          "A0118150104",
          "A0219150201",
          "A0219150201",
          "A0219150201",
          "A0219150201",
          "A0219150202",
          "A0219150202",
          "A0219150202",
          "A0219150202",
          "A0220150203",
          "A0220150203",
          "A0220150203",
          "A0320150301",
          "A0320150301",
          "A0320150301",
          "A0321150302",
          "A0321150302",
          "A0321150303",
          "A0321150303",
          "A0418150101",
          "A0418150101",
          "A0418150101",
          "A0418150102",
          "A0418150102",
          "A0418150102",
          "A0418150103",
          "A0418150103",
          "A0418150103",
          "A0418150103",
          "A0418150103",
          "A0418150104",
          "A0418150104"
         ],
         "xaxis": "x2",
         "y": [
          null,
          201126.99679999956,
          425895.32720000006,
          702193.7195999973,
          1354538.0638999918,
          251052.95670000088,
          555184.0199999975,
          903555.1094000041,
          1488835.4519999912,
          251605.53940000114,
          582809.5975999996,
          975945.6644000062,
          1435119.1494999921,
          2739380.050800003,
          253517.31899999874,
          554823.8639999927,
          871407.014499994,
          1581879.4430000023,
          2711828.060499999,
          547009.4915999844,
          983433.2159999944,
          1678192.4710999941,
          3007471.600000003,
          599093.0417999945,
          1074165.784400009,
          1701820.7571000084,
          3023934.1495999973,
          1073466.4959999952,
          1590383.8665000226,
          3037334.4612,
          996181.7883999936,
          1590120.5600000094,
          2856961.676799996,
          1927792.102999989,
          3541780.1947000064,
          1892900.3687999942,
          3360407.2509000013,
          242533.56800000233,
          313687.4527000002,
          567165.8342000073,
          259298.0684999997,
          372543.55200000247,
          550231.2090000054,
          298369.86899999983,
          384188.4827999985,
          551475.4027999901,
          1072589.174799997,
          3283632.1143999957,
          312616.5721999987,
          334792.8570000025
         ],
         "yaxis": "y2"
        }
       ],
       "layout": {
        "annotations": [
         {
          "font": {
           "size": 16
          },
          "showarrow": false,
          "text": "Quantity Sold",
          "x": 0.225,
          "xanchor": "center",
          "xref": "paper",
          "y": 1,
          "yanchor": "bottom",
          "yref": "paper"
         },
         {
          "font": {
           "size": 16
          },
          "showarrow": false,
          "text": "Net Profit",
          "x": 0.775,
          "xanchor": "center",
          "xref": "paper",
          "y": 1,
          "yanchor": "bottom",
          "yref": "paper"
         }
        ],
        "template": {
         "data": {
          "bar": [
           {
            "error_x": {
             "color": "#2a3f5f"
            },
            "error_y": {
             "color": "#2a3f5f"
            },
            "marker": {
             "line": {
              "color": "#E5ECF6",
              "width": 0.5
             },
             "pattern": {
              "fillmode": "overlay",
              "size": 10,
              "solidity": 0.2
             }
            },
            "type": "bar"
           }
          ],
          "barpolar": [
           {
            "marker": {
             "line": {
              "color": "#E5ECF6",
              "width": 0.5
             },
             "pattern": {
              "fillmode": "overlay",
              "size": 10,
              "solidity": 0.2
             }
            },
            "type": "barpolar"
           }
          ],
          "carpet": [
           {
            "aaxis": {
             "endlinecolor": "#2a3f5f",
             "gridcolor": "white",
             "linecolor": "white",
             "minorgridcolor": "white",
             "startlinecolor": "#2a3f5f"
            },
            "baxis": {
             "endlinecolor": "#2a3f5f",
             "gridcolor": "white",
             "linecolor": "white",
             "minorgridcolor": "white",
             "startlinecolor": "#2a3f5f"
            },
            "type": "carpet"
           }
          ],
          "choropleth": [
           {
            "colorbar": {
             "outlinewidth": 0,
             "ticks": ""
            },
            "type": "choropleth"
           }
          ],
          "contour": [
           {
            "colorbar": {
             "outlinewidth": 0,
             "ticks": ""
            },
            "colorscale": [
             [
              0,
              "#0d0887"
             ],
             [
              0.1111111111111111,
              "#46039f"
             ],
             [
              0.2222222222222222,
              "#7201a8"
             ],
             [
              0.3333333333333333,
              "#9c179e"
             ],
             [
              0.4444444444444444,
              "#bd3786"
             ],
             [
              0.5555555555555556,
              "#d8576b"
             ],
             [
              0.6666666666666666,
              "#ed7953"
             ],
             [
              0.7777777777777778,
              "#fb9f3a"
             ],
             [
              0.8888888888888888,
              "#fdca26"
             ],
             [
              1,
              "#f0f921"
             ]
            ],
            "type": "contour"
           }
          ],
          "contourcarpet": [
           {
            "colorbar": {
             "outlinewidth": 0,
             "ticks": ""
            },
            "type": "contourcarpet"
           }
          ],
          "heatmap": [
           {
            "colorbar": {
             "outlinewidth": 0,
             "ticks": ""
            },
            "colorscale": [
             [
              0,
              "#0d0887"
             ],
             [
              0.1111111111111111,
              "#46039f"
             ],
             [
              0.2222222222222222,
              "#7201a8"
             ],
             [
              0.3333333333333333,
              "#9c179e"
             ],
             [
              0.4444444444444444,
              "#bd3786"
             ],
             [
              0.5555555555555556,
              "#d8576b"
             ],
             [
              0.6666666666666666,
              "#ed7953"
             ],
             [
              0.7777777777777778,
              "#fb9f3a"
             ],
             [
              0.8888888888888888,
              "#fdca26"
             ],
             [
              1,
              "#f0f921"
             ]
            ],
            "type": "heatmap"
           }
          ],
          "heatmapgl": [
           {
            "colorbar": {
             "outlinewidth": 0,
             "ticks": ""
            },
            "colorscale": [
             [
              0,
              "#0d0887"
             ],
             [
              0.1111111111111111,
              "#46039f"
             ],
             [
              0.2222222222222222,
              "#7201a8"
             ],
             [
              0.3333333333333333,
              "#9c179e"
             ],
             [
              0.4444444444444444,
              "#bd3786"
             ],
             [
              0.5555555555555556,
              "#d8576b"
             ],
             [
              0.6666666666666666,
              "#ed7953"
             ],
             [
              0.7777777777777778,
              "#fb9f3a"
             ],
             [
              0.8888888888888888,
              "#fdca26"
             ],
             [
              1,
              "#f0f921"
             ]
            ],
            "type": "heatmapgl"
           }
          ],
          "histogram": [
           {
            "marker": {
             "pattern": {
              "fillmode": "overlay",
              "size": 10,
              "solidity": 0.2
             }
            },
            "type": "histogram"
           }
          ],
          "histogram2d": [
           {
            "colorbar": {
             "outlinewidth": 0,
             "ticks": ""
            },
            "colorscale": [
             [
              0,
              "#0d0887"
             ],
             [
              0.1111111111111111,
              "#46039f"
             ],
             [
              0.2222222222222222,
              "#7201a8"
             ],
             [
              0.3333333333333333,
              "#9c179e"
             ],
             [
              0.4444444444444444,
              "#bd3786"
             ],
             [
              0.5555555555555556,
              "#d8576b"
             ],
             [
              0.6666666666666666,
              "#ed7953"
             ],
             [
              0.7777777777777778,
              "#fb9f3a"
             ],
             [
              0.8888888888888888,
              "#fdca26"
             ],
             [
              1,
              "#f0f921"
             ]
            ],
            "type": "histogram2d"
           }
          ],
          "histogram2dcontour": [
           {
            "colorbar": {
             "outlinewidth": 0,
             "ticks": ""
            },
            "colorscale": [
             [
              0,
              "#0d0887"
             ],
             [
              0.1111111111111111,
              "#46039f"
             ],
             [
              0.2222222222222222,
              "#7201a8"
             ],
             [
              0.3333333333333333,
              "#9c179e"
             ],
             [
              0.4444444444444444,
              "#bd3786"
             ],
             [
              0.5555555555555556,
              "#d8576b"
             ],
             [
              0.6666666666666666,
              "#ed7953"
             ],
             [
              0.7777777777777778,
              "#fb9f3a"
             ],
             [
              0.8888888888888888,
              "#fdca26"
             ],
             [
              1,
              "#f0f921"
             ]
            ],
            "type": "histogram2dcontour"
           }
          ],
          "mesh3d": [
           {
            "colorbar": {
             "outlinewidth": 0,
             "ticks": ""
            },
            "type": "mesh3d"
           }
          ],
          "parcoords": [
           {
            "line": {
             "colorbar": {
              "outlinewidth": 0,
              "ticks": ""
             }
            },
            "type": "parcoords"
           }
          ],
          "pie": [
           {
            "automargin": true,
            "type": "pie"
           }
          ],
          "scatter": [
           {
            "marker": {
             "colorbar": {
              "outlinewidth": 0,
              "ticks": ""
             }
            },
            "type": "scatter"
           }
          ],
          "scatter3d": [
           {
            "line": {
             "colorbar": {
              "outlinewidth": 0,
              "ticks": ""
             }
            },
            "marker": {
             "colorbar": {
              "outlinewidth": 0,
              "ticks": ""
             }
            },
            "type": "scatter3d"
           }
          ],
          "scattercarpet": [
           {
            "marker": {
             "colorbar": {
              "outlinewidth": 0,
              "ticks": ""
             }
            },
            "type": "scattercarpet"
           }
          ],
          "scattergeo": [
           {
            "marker": {
             "colorbar": {
              "outlinewidth": 0,
              "ticks": ""
             }
            },
            "type": "scattergeo"
           }
          ],
          "scattergl": [
           {
            "marker": {
             "colorbar": {
              "outlinewidth": 0,
              "ticks": ""
             }
            },
            "type": "scattergl"
           }
          ],
          "scattermapbox": [
           {
            "marker": {
             "colorbar": {
              "outlinewidth": 0,
              "ticks": ""
             }
            },
            "type": "scattermapbox"
           }
          ],
          "scatterpolar": [
           {
            "marker": {
             "colorbar": {
              "outlinewidth": 0,
              "ticks": ""
             }
            },
            "type": "scatterpolar"
           }
          ],
          "scatterpolargl": [
           {
            "marker": {
             "colorbar": {
              "outlinewidth": 0,
              "ticks": ""
             }
            },
            "type": "scatterpolargl"
           }
          ],
          "scatterternary": [
           {
            "marker": {
             "colorbar": {
              "outlinewidth": 0,
              "ticks": ""
             }
            },
            "type": "scatterternary"
           }
          ],
          "surface": [
           {
            "colorbar": {
             "outlinewidth": 0,
             "ticks": ""
            },
            "colorscale": [
             [
              0,
              "#0d0887"
             ],
             [
              0.1111111111111111,
              "#46039f"
             ],
             [
              0.2222222222222222,
              "#7201a8"
             ],
             [
              0.3333333333333333,
              "#9c179e"
             ],
             [
              0.4444444444444444,
              "#bd3786"
             ],
             [
              0.5555555555555556,
              "#d8576b"
             ],
             [
              0.6666666666666666,
              "#ed7953"
             ],
             [
              0.7777777777777778,
              "#fb9f3a"
             ],
             [
              0.8888888888888888,
              "#fdca26"
             ],
             [
              1,
              "#f0f921"
             ]
            ],
            "type": "surface"
           }
          ],
          "table": [
           {
            "cells": {
             "fill": {
              "color": "#EBF0F8"
             },
             "line": {
              "color": "white"
             }
            },
            "header": {
             "fill": {
              "color": "#C8D4E3"
             },
             "line": {
              "color": "white"
             }
            },
            "type": "table"
           }
          ]
         },
         "layout": {
          "annotationdefaults": {
           "arrowcolor": "#2a3f5f",
           "arrowhead": 0,
           "arrowwidth": 1
          },
          "autotypenumbers": "strict",
          "coloraxis": {
           "colorbar": {
            "outlinewidth": 0,
            "ticks": ""
           }
          },
          "colorscale": {
           "diverging": [
            [
             0,
             "#8e0152"
            ],
            [
             0.1,
             "#c51b7d"
            ],
            [
             0.2,
             "#de77ae"
            ],
            [
             0.3,
             "#f1b6da"
            ],
            [
             0.4,
             "#fde0ef"
            ],
            [
             0.5,
             "#f7f7f7"
            ],
            [
             0.6,
             "#e6f5d0"
            ],
            [
             0.7,
             "#b8e186"
            ],
            [
             0.8,
             "#7fbc41"
            ],
            [
             0.9,
             "#4d9221"
            ],
            [
             1,
             "#276419"
            ]
           ],
           "sequential": [
            [
             0,
             "#0d0887"
            ],
            [
             0.1111111111111111,
             "#46039f"
            ],
            [
             0.2222222222222222,
             "#7201a8"
            ],
            [
             0.3333333333333333,
             "#9c179e"
            ],
            [
             0.4444444444444444,
             "#bd3786"
            ],
            [
             0.5555555555555556,
             "#d8576b"
            ],
            [
             0.6666666666666666,
             "#ed7953"
            ],
            [
             0.7777777777777778,
             "#fb9f3a"
            ],
            [
             0.8888888888888888,
             "#fdca26"
            ],
            [
             1,
             "#f0f921"
            ]
           ],
           "sequentialminus": [
            [
             0,
             "#0d0887"
            ],
            [
             0.1111111111111111,
             "#46039f"
            ],
            [
             0.2222222222222222,
             "#7201a8"
            ],
            [
             0.3333333333333333,
             "#9c179e"
            ],
            [
             0.4444444444444444,
             "#bd3786"
            ],
            [
             0.5555555555555556,
             "#d8576b"
            ],
            [
             0.6666666666666666,
             "#ed7953"
            ],
            [
             0.7777777777777778,
             "#fb9f3a"
            ],
            [
             0.8888888888888888,
             "#fdca26"
            ],
            [
             1,
             "#f0f921"
            ]
           ]
          },
          "colorway": [
           "#636efa",
           "#EF553B",
           "#00cc96",
           "#ab63fa",
           "#FFA15A",
           "#19d3f3",
           "#FF6692",
           "#B6E880",
           "#FF97FF",
           "#FECB52"
          ],
          "font": {
           "color": "#2a3f5f"
          },
          "geo": {
           "bgcolor": "white",
           "lakecolor": "white",
           "landcolor": "#E5ECF6",
           "showlakes": true,
           "showland": true,
           "subunitcolor": "white"
          },
          "hoverlabel": {
           "align": "left"
          },
          "hovermode": "closest",
          "mapbox": {
           "style": "light"
          },
          "paper_bgcolor": "white",
          "plot_bgcolor": "#E5ECF6",
          "polar": {
           "angularaxis": {
            "gridcolor": "white",
            "linecolor": "white",
            "ticks": ""
           },
           "bgcolor": "#E5ECF6",
           "radialaxis": {
            "gridcolor": "white",
            "linecolor": "white",
            "ticks": ""
           }
          },
          "scene": {
           "xaxis": {
            "backgroundcolor": "#E5ECF6",
            "gridcolor": "white",
            "gridwidth": 2,
            "linecolor": "white",
            "showbackground": true,
            "ticks": "",
            "zerolinecolor": "white"
           },
           "yaxis": {
            "backgroundcolor": "#E5ECF6",
            "gridcolor": "white",
            "gridwidth": 2,
            "linecolor": "white",
            "showbackground": true,
            "ticks": "",
            "zerolinecolor": "white"
           },
           "zaxis": {
            "backgroundcolor": "#E5ECF6",
            "gridcolor": "white",
            "gridwidth": 2,
            "linecolor": "white",
            "showbackground": true,
            "ticks": "",
            "zerolinecolor": "white"
           }
          },
          "shapedefaults": {
           "line": {
            "color": "#2a3f5f"
           }
          },
          "ternary": {
           "aaxis": {
            "gridcolor": "white",
            "linecolor": "white",
            "ticks": ""
           },
           "baxis": {
            "gridcolor": "white",
            "linecolor": "white",
            "ticks": ""
           },
           "bgcolor": "#E5ECF6",
           "caxis": {
            "gridcolor": "white",
            "linecolor": "white",
            "ticks": ""
           }
          },
          "title": {
           "x": 0.05
          },
          "xaxis": {
           "automargin": true,
           "gridcolor": "white",
           "linecolor": "white",
           "ticks": "",
           "title": {
            "standoff": 15
           },
           "zerolinecolor": "white",
           "zerolinewidth": 2
          },
          "yaxis": {
           "automargin": true,
           "gridcolor": "white",
           "linecolor": "white",
           "ticks": "",
           "title": {
            "standoff": 15
           },
           "zerolinecolor": "white",
           "zerolinewidth": 2
          }
         }
        },
        "title": {
         "text": "Quantity and Profit for each Product"
        },
        "xaxis": {
         "anchor": "y",
         "domain": [
          0,
          0.45
         ],
         "title": {
          "text": "Product ID"
         }
        },
        "xaxis2": {
         "anchor": "y2",
         "domain": [
          0.55,
          1
         ],
         "title": {
          "text": "Product ID"
         }
        },
        "yaxis": {
         "anchor": "x",
         "domain": [
          0,
          1
         ],
         "title": {
          "text": "Quantity"
         }
        },
        "yaxis2": {
         "anchor": "x2",
         "domain": [
          0,
          1
         ],
         "title": {
          "text": "Net Profit"
         }
        }
       }
      },
      "text/html": [
       "<div>                            <div id=\"de140893-6960-400c-bf5c-166ff64514f1\" class=\"plotly-graph-div\" style=\"height:525px; width:100%;\"></div>            <script type=\"text/javascript\">                require([\"plotly\"], function(Plotly) {                    window.PLOTLYENV=window.PLOTLYENV || {};                                    if (document.getElementById(\"de140893-6960-400c-bf5c-166ff64514f1\")) {                    Plotly.newPlot(                        \"de140893-6960-400c-bf5c-166ff64514f1\",                        [{\"name\":\"quantity_sold\",\"x\":[\"A0\",\"A0118150101\",\"A0118150101\",\"A0118150101\",\"A0118150101\",\"A0118150102\",\"A0118150102\",\"A0118150102\",\"A0118150102\",\"A0118150103\",\"A0118150103\",\"A0118150103\",\"A0118150103\",\"A0118150103\",\"A0118150104\",\"A0118150104\",\"A0118150104\",\"A0118150104\",\"A0118150104\",\"A0219150201\",\"A0219150201\",\"A0219150201\",\"A0219150201\",\"A0219150202\",\"A0219150202\",\"A0219150202\",\"A0219150202\",\"A0220150203\",\"A0220150203\",\"A0220150203\",\"A0320150301\",\"A0320150301\",\"A0320150301\",\"A0321150302\",\"A0321150302\",\"A0321150303\",\"A0321150303\",\"A0418150101\",\"A0418150101\",\"A0418150101\",\"A0418150102\",\"A0418150102\",\"A0418150102\",\"A0418150103\",\"A0418150103\",\"A0418150103\",\"A0418150103\",\"A0418150103\",\"A0418150104\",\"A0418150104\"],\"y\":[null,18664.0,41608.0,62631.0,100039.0,17953.0,41945.0,63902.0,98124.0,18754.0,42191.0,61748.0,94481.0,162972.0,18534.0,42408.0,60961.0,97931.0,166735.0,42932.0,62464.0,100799.0,172000.0,41074.0,62827.0,97091.0,169156.0,63680.0,97815.0,165516.0,64502.0,97160.0,157906.0,99955.0,168127.0,96691.0,159123.0,21842.0,32453.0,45758.0,22315.0,32880.0,46530.0,23667.0,34563.0,45581.0,77857.0,218083.0,23542.0,27465.0],\"type\":\"bar\",\"xaxis\":\"x\",\"yaxis\":\"y\"},{\"name\":\"net_profit\",\"x\":[\"A0\",\"A0118150101\",\"A0118150101\",\"A0118150101\",\"A0118150101\",\"A0118150102\",\"A0118150102\",\"A0118150102\",\"A0118150102\",\"A0118150103\",\"A0118150103\",\"A0118150103\",\"A0118150103\",\"A0118150103\",\"A0118150104\",\"A0118150104\",\"A0118150104\",\"A0118150104\",\"A0118150104\",\"A0219150201\",\"A0219150201\",\"A0219150201\",\"A0219150201\",\"A0219150202\",\"A0219150202\",\"A0219150202\",\"A0219150202\",\"A0220150203\",\"A0220150203\",\"A0220150203\",\"A0320150301\",\"A0320150301\",\"A0320150301\",\"A0321150302\",\"A0321150302\",\"A0321150303\",\"A0321150303\",\"A0418150101\",\"A0418150101\",\"A0418150101\",\"A0418150102\",\"A0418150102\",\"A0418150102\",\"A0418150103\",\"A0418150103\",\"A0418150103\",\"A0418150103\",\"A0418150103\",\"A0418150104\",\"A0418150104\"],\"y\":[null,201126.99679999956,425895.32720000006,702193.7195999973,1354538.0638999918,251052.95670000088,555184.0199999975,903555.1094000041,1488835.4519999912,251605.53940000114,582809.5975999996,975945.6644000062,1435119.1494999921,2739380.050800003,253517.31899999874,554823.8639999927,871407.014499994,1581879.4430000023,2711828.060499999,547009.4915999844,983433.2159999944,1678192.4710999941,3007471.600000003,599093.0417999945,1074165.784400009,1701820.7571000084,3023934.1495999973,1073466.4959999952,1590383.8665000226,3037334.4612,996181.7883999936,1590120.5600000094,2856961.676799996,1927792.102999989,3541780.1947000064,1892900.3687999942,3360407.2509000013,242533.56800000233,313687.4527000002,567165.8342000073,259298.0684999997,372543.55200000247,550231.2090000054,298369.86899999983,384188.4827999985,551475.4027999901,1072589.174799997,3283632.1143999957,312616.5721999987,334792.8570000025],\"type\":\"bar\",\"xaxis\":\"x2\",\"yaxis\":\"y2\"}],                        {\"template\":{\"data\":{\"bar\":[{\"error_x\":{\"color\":\"#2a3f5f\"},\"error_y\":{\"color\":\"#2a3f5f\"},\"marker\":{\"line\":{\"color\":\"#E5ECF6\",\"width\":0.5},\"pattern\":{\"fillmode\":\"overlay\",\"size\":10,\"solidity\":0.2}},\"type\":\"bar\"}],\"barpolar\":[{\"marker\":{\"line\":{\"color\":\"#E5ECF6\",\"width\":0.5},\"pattern\":{\"fillmode\":\"overlay\",\"size\":10,\"solidity\":0.2}},\"type\":\"barpolar\"}],\"carpet\":[{\"aaxis\":{\"endlinecolor\":\"#2a3f5f\",\"gridcolor\":\"white\",\"linecolor\":\"white\",\"minorgridcolor\":\"white\",\"startlinecolor\":\"#2a3f5f\"},\"baxis\":{\"endlinecolor\":\"#2a3f5f\",\"gridcolor\":\"white\",\"linecolor\":\"white\",\"minorgridcolor\":\"white\",\"startlinecolor\":\"#2a3f5f\"},\"type\":\"carpet\"}],\"choropleth\":[{\"colorbar\":{\"outlinewidth\":0,\"ticks\":\"\"},\"type\":\"choropleth\"}],\"contour\":[{\"colorbar\":{\"outlinewidth\":0,\"ticks\":\"\"},\"colorscale\":[[0.0,\"#0d0887\"],[0.1111111111111111,\"#46039f\"],[0.2222222222222222,\"#7201a8\"],[0.3333333333333333,\"#9c179e\"],[0.4444444444444444,\"#bd3786\"],[0.5555555555555556,\"#d8576b\"],[0.6666666666666666,\"#ed7953\"],[0.7777777777777778,\"#fb9f3a\"],[0.8888888888888888,\"#fdca26\"],[1.0,\"#f0f921\"]],\"type\":\"contour\"}],\"contourcarpet\":[{\"colorbar\":{\"outlinewidth\":0,\"ticks\":\"\"},\"type\":\"contourcarpet\"}],\"heatmap\":[{\"colorbar\":{\"outlinewidth\":0,\"ticks\":\"\"},\"colorscale\":[[0.0,\"#0d0887\"],[0.1111111111111111,\"#46039f\"],[0.2222222222222222,\"#7201a8\"],[0.3333333333333333,\"#9c179e\"],[0.4444444444444444,\"#bd3786\"],[0.5555555555555556,\"#d8576b\"],[0.6666666666666666,\"#ed7953\"],[0.7777777777777778,\"#fb9f3a\"],[0.8888888888888888,\"#fdca26\"],[1.0,\"#f0f921\"]],\"type\":\"heatmap\"}],\"heatmapgl\":[{\"colorbar\":{\"outlinewidth\":0,\"ticks\":\"\"},\"colorscale\":[[0.0,\"#0d0887\"],[0.1111111111111111,\"#46039f\"],[0.2222222222222222,\"#7201a8\"],[0.3333333333333333,\"#9c179e\"],[0.4444444444444444,\"#bd3786\"],[0.5555555555555556,\"#d8576b\"],[0.6666666666666666,\"#ed7953\"],[0.7777777777777778,\"#fb9f3a\"],[0.8888888888888888,\"#fdca26\"],[1.0,\"#f0f921\"]],\"type\":\"heatmapgl\"}],\"histogram\":[{\"marker\":{\"pattern\":{\"fillmode\":\"overlay\",\"size\":10,\"solidity\":0.2}},\"type\":\"histogram\"}],\"histogram2d\":[{\"colorbar\":{\"outlinewidth\":0,\"ticks\":\"\"},\"colorscale\":[[0.0,\"#0d0887\"],[0.1111111111111111,\"#46039f\"],[0.2222222222222222,\"#7201a8\"],[0.3333333333333333,\"#9c179e\"],[0.4444444444444444,\"#bd3786\"],[0.5555555555555556,\"#d8576b\"],[0.6666666666666666,\"#ed7953\"],[0.7777777777777778,\"#fb9f3a\"],[0.8888888888888888,\"#fdca26\"],[1.0,\"#f0f921\"]],\"type\":\"histogram2d\"}],\"histogram2dcontour\":[{\"colorbar\":{\"outlinewidth\":0,\"ticks\":\"\"},\"colorscale\":[[0.0,\"#0d0887\"],[0.1111111111111111,\"#46039f\"],[0.2222222222222222,\"#7201a8\"],[0.3333333333333333,\"#9c179e\"],[0.4444444444444444,\"#bd3786\"],[0.5555555555555556,\"#d8576b\"],[0.6666666666666666,\"#ed7953\"],[0.7777777777777778,\"#fb9f3a\"],[0.8888888888888888,\"#fdca26\"],[1.0,\"#f0f921\"]],\"type\":\"histogram2dcontour\"}],\"mesh3d\":[{\"colorbar\":{\"outlinewidth\":0,\"ticks\":\"\"},\"type\":\"mesh3d\"}],\"parcoords\":[{\"line\":{\"colorbar\":{\"outlinewidth\":0,\"ticks\":\"\"}},\"type\":\"parcoords\"}],\"pie\":[{\"automargin\":true,\"type\":\"pie\"}],\"scatter\":[{\"marker\":{\"colorbar\":{\"outlinewidth\":0,\"ticks\":\"\"}},\"type\":\"scatter\"}],\"scatter3d\":[{\"line\":{\"colorbar\":{\"outlinewidth\":0,\"ticks\":\"\"}},\"marker\":{\"colorbar\":{\"outlinewidth\":0,\"ticks\":\"\"}},\"type\":\"scatter3d\"}],\"scattercarpet\":[{\"marker\":{\"colorbar\":{\"outlinewidth\":0,\"ticks\":\"\"}},\"type\":\"scattercarpet\"}],\"scattergeo\":[{\"marker\":{\"colorbar\":{\"outlinewidth\":0,\"ticks\":\"\"}},\"type\":\"scattergeo\"}],\"scattergl\":[{\"marker\":{\"colorbar\":{\"outlinewidth\":0,\"ticks\":\"\"}},\"type\":\"scattergl\"}],\"scattermapbox\":[{\"marker\":{\"colorbar\":{\"outlinewidth\":0,\"ticks\":\"\"}},\"type\":\"scattermapbox\"}],\"scatterpolar\":[{\"marker\":{\"colorbar\":{\"outlinewidth\":0,\"ticks\":\"\"}},\"type\":\"scatterpolar\"}],\"scatterpolargl\":[{\"marker\":{\"colorbar\":{\"outlinewidth\":0,\"ticks\":\"\"}},\"type\":\"scatterpolargl\"}],\"scatterternary\":[{\"marker\":{\"colorbar\":{\"outlinewidth\":0,\"ticks\":\"\"}},\"type\":\"scatterternary\"}],\"surface\":[{\"colorbar\":{\"outlinewidth\":0,\"ticks\":\"\"},\"colorscale\":[[0.0,\"#0d0887\"],[0.1111111111111111,\"#46039f\"],[0.2222222222222222,\"#7201a8\"],[0.3333333333333333,\"#9c179e\"],[0.4444444444444444,\"#bd3786\"],[0.5555555555555556,\"#d8576b\"],[0.6666666666666666,\"#ed7953\"],[0.7777777777777778,\"#fb9f3a\"],[0.8888888888888888,\"#fdca26\"],[1.0,\"#f0f921\"]],\"type\":\"surface\"}],\"table\":[{\"cells\":{\"fill\":{\"color\":\"#EBF0F8\"},\"line\":{\"color\":\"white\"}},\"header\":{\"fill\":{\"color\":\"#C8D4E3\"},\"line\":{\"color\":\"white\"}},\"type\":\"table\"}]},\"layout\":{\"annotationdefaults\":{\"arrowcolor\":\"#2a3f5f\",\"arrowhead\":0,\"arrowwidth\":1},\"autotypenumbers\":\"strict\",\"coloraxis\":{\"colorbar\":{\"outlinewidth\":0,\"ticks\":\"\"}},\"colorscale\":{\"diverging\":[[0,\"#8e0152\"],[0.1,\"#c51b7d\"],[0.2,\"#de77ae\"],[0.3,\"#f1b6da\"],[0.4,\"#fde0ef\"],[0.5,\"#f7f7f7\"],[0.6,\"#e6f5d0\"],[0.7,\"#b8e186\"],[0.8,\"#7fbc41\"],[0.9,\"#4d9221\"],[1,\"#276419\"]],\"sequential\":[[0.0,\"#0d0887\"],[0.1111111111111111,\"#46039f\"],[0.2222222222222222,\"#7201a8\"],[0.3333333333333333,\"#9c179e\"],[0.4444444444444444,\"#bd3786\"],[0.5555555555555556,\"#d8576b\"],[0.6666666666666666,\"#ed7953\"],[0.7777777777777778,\"#fb9f3a\"],[0.8888888888888888,\"#fdca26\"],[1.0,\"#f0f921\"]],\"sequentialminus\":[[0.0,\"#0d0887\"],[0.1111111111111111,\"#46039f\"],[0.2222222222222222,\"#7201a8\"],[0.3333333333333333,\"#9c179e\"],[0.4444444444444444,\"#bd3786\"],[0.5555555555555556,\"#d8576b\"],[0.6666666666666666,\"#ed7953\"],[0.7777777777777778,\"#fb9f3a\"],[0.8888888888888888,\"#fdca26\"],[1.0,\"#f0f921\"]]},\"colorway\":[\"#636efa\",\"#EF553B\",\"#00cc96\",\"#ab63fa\",\"#FFA15A\",\"#19d3f3\",\"#FF6692\",\"#B6E880\",\"#FF97FF\",\"#FECB52\"],\"font\":{\"color\":\"#2a3f5f\"},\"geo\":{\"bgcolor\":\"white\",\"lakecolor\":\"white\",\"landcolor\":\"#E5ECF6\",\"showlakes\":true,\"showland\":true,\"subunitcolor\":\"white\"},\"hoverlabel\":{\"align\":\"left\"},\"hovermode\":\"closest\",\"mapbox\":{\"style\":\"light\"},\"paper_bgcolor\":\"white\",\"plot_bgcolor\":\"#E5ECF6\",\"polar\":{\"angularaxis\":{\"gridcolor\":\"white\",\"linecolor\":\"white\",\"ticks\":\"\"},\"bgcolor\":\"#E5ECF6\",\"radialaxis\":{\"gridcolor\":\"white\",\"linecolor\":\"white\",\"ticks\":\"\"}},\"scene\":{\"xaxis\":{\"backgroundcolor\":\"#E5ECF6\",\"gridcolor\":\"white\",\"gridwidth\":2,\"linecolor\":\"white\",\"showbackground\":true,\"ticks\":\"\",\"zerolinecolor\":\"white\"},\"yaxis\":{\"backgroundcolor\":\"#E5ECF6\",\"gridcolor\":\"white\",\"gridwidth\":2,\"linecolor\":\"white\",\"showbackground\":true,\"ticks\":\"\",\"zerolinecolor\":\"white\"},\"zaxis\":{\"backgroundcolor\":\"#E5ECF6\",\"gridcolor\":\"white\",\"gridwidth\":2,\"linecolor\":\"white\",\"showbackground\":true,\"ticks\":\"\",\"zerolinecolor\":\"white\"}},\"shapedefaults\":{\"line\":{\"color\":\"#2a3f5f\"}},\"ternary\":{\"aaxis\":{\"gridcolor\":\"white\",\"linecolor\":\"white\",\"ticks\":\"\"},\"baxis\":{\"gridcolor\":\"white\",\"linecolor\":\"white\",\"ticks\":\"\"},\"bgcolor\":\"#E5ECF6\",\"caxis\":{\"gridcolor\":\"white\",\"linecolor\":\"white\",\"ticks\":\"\"}},\"title\":{\"x\":0.05},\"xaxis\":{\"automargin\":true,\"gridcolor\":\"white\",\"linecolor\":\"white\",\"ticks\":\"\",\"title\":{\"standoff\":15},\"zerolinecolor\":\"white\",\"zerolinewidth\":2},\"yaxis\":{\"automargin\":true,\"gridcolor\":\"white\",\"linecolor\":\"white\",\"ticks\":\"\",\"title\":{\"standoff\":15},\"zerolinecolor\":\"white\",\"zerolinewidth\":2}}},\"xaxis\":{\"anchor\":\"y\",\"domain\":[0.0,0.45],\"title\":{\"text\":\"Product ID\"}},\"yaxis\":{\"anchor\":\"x\",\"domain\":[0.0,1.0],\"title\":{\"text\":\"Quantity\"}},\"xaxis2\":{\"anchor\":\"y2\",\"domain\":[0.55,1.0],\"title\":{\"text\":\"Product ID\"}},\"yaxis2\":{\"anchor\":\"x2\",\"domain\":[0.0,1.0],\"title\":{\"text\":\"Net Profit\"}},\"annotations\":[{\"font\":{\"size\":16},\"showarrow\":false,\"text\":\"Quantity Sold\",\"x\":0.225,\"xanchor\":\"center\",\"xref\":\"paper\",\"y\":1.0,\"yanchor\":\"bottom\",\"yref\":\"paper\"},{\"font\":{\"size\":16},\"showarrow\":false,\"text\":\"Net Profit\",\"x\":0.775,\"xanchor\":\"center\",\"xref\":\"paper\",\"y\":1.0,\"yanchor\":\"bottom\",\"yref\":\"paper\"}],\"title\":{\"text\":\"Quantity and Profit for each Product\"}},                        {\"responsive\": true}                    ).then(function(){\n",
       "                            \n",
       "var gd = document.getElementById('de140893-6960-400c-bf5c-166ff64514f1');\n",
       "var x = new MutationObserver(function (mutations, observer) {{\n",
       "        var display = window.getComputedStyle(gd).display;\n",
       "        if (!display || display === 'none') {{\n",
       "            console.log([gd, 'removed!']);\n",
       "            Plotly.purge(gd);\n",
       "            observer.disconnect();\n",
       "        }}\n",
       "}});\n",
       "\n",
       "// Listen for the removal of the full notebook cells\n",
       "var notebookContainer = gd.closest('#notebook-container');\n",
       "if (notebookContainer) {{\n",
       "    x.observe(notebookContainer, {childList: true});\n",
       "}}\n",
       "\n",
       "// Listen for the clearing of the current output cell\n",
       "var outputEl = gd.closest('.output');\n",
       "if (outputEl) {{\n",
       "    x.observe(outputEl, {childList: true});\n",
       "}}\n",
       "\n",
       "                        })                };                });            </script>        </div>"
      ]
     },
     "metadata": {},
     "output_type": "display_data"
    }
   ],
   "source": [
    "# graph quantity sold and profit by product\n",
    "\n",
    "# Create figure with subplots\n",
    "fig = make_subplots(rows=1, cols=2, subplot_titles=(\"Quantity Sold\", \"Net Profit\"))\n",
    "\n",
    "# Add traces for Quantity Sold\n",
    "fig.add_trace(\n",
    "    go.Bar(x=amt_sold[\"product_code\"], y=amt_sold['quantity_sold'], name=\"quantity_sold\"),\n",
    "    row=1, col=1\n",
    ")\n",
    "\n",
    "# Add traces for Total Revenue\n",
    "fig.add_trace(\n",
    "    go.Bar(x=profit[\"product_code\"], y=profit['net_profit'], name=\"net_profit\"),\n",
    "    row=1, col=2\n",
    ")\n",
    "\n",
    "# Add figure title\n",
    "fig.update_layout(\n",
    "    title_text=\"Quantity and Profit for each Product\"\n",
    ")\n",
    "\n",
    "# Set x-axis title\n",
    "fig.update_xaxes(title_text=\"Product ID\", row=1, col=1)\n",
    "fig.update_xaxes(title_text=\"Product ID\", row=1, col=2)\n",
    "\n",
    "# Set y-axes titles\n",
    "fig.update_yaxes(title_text=\"Quantity\", row=1, col=1)\n",
    "fig.update_yaxes(title_text=\"Net Profit\", row=1, col=2)\n",
    "\n",
    "fig.show()"
   ]
  },
  {
   "cell_type": "code",
   "execution_count": 105,
   "id": "2fdcf06c",
   "metadata": {},
   "outputs": [],
   "source": [
    "best_profit = best_profit.rename_axis('Profit Rank').reset_index()"
   ]
  },
  {
   "cell_type": "code",
   "execution_count": 106,
   "id": "05ce67b5",
   "metadata": {
    "scrolled": true
   },
   "outputs": [],
   "source": [
    "total_sold = total_sold.rename_axis('Quantity Rank').reset_index()"
   ]
  },
  {
   "cell_type": "code",
   "execution_count": 118,
   "id": "b7badded",
   "metadata": {},
   "outputs": [
    {
     "data": {
      "text/html": [
       "<div>\n",
       "<style scoped>\n",
       "    .dataframe tbody tr th:only-of-type {\n",
       "        vertical-align: middle;\n",
       "    }\n",
       "\n",
       "    .dataframe tbody tr th {\n",
       "        vertical-align: top;\n",
       "    }\n",
       "\n",
       "    .dataframe thead th {\n",
       "        text-align: right;\n",
       "    }\n",
       "</style>\n",
       "<table border=\"1\" class=\"dataframe\">\n",
       "  <thead>\n",
       "    <tr style=\"text-align: right;\">\n",
       "      <th></th>\n",
       "      <th>product_code</th>\n",
       "      <th>product</th>\n",
       "      <th>variant</th>\n",
       "      <th>Profit Rank</th>\n",
       "      <th>net_profit</th>\n",
       "      <th>Quantity Rank</th>\n",
       "      <th>quantity_sold</th>\n",
       "    </tr>\n",
       "  </thead>\n",
       "  <tbody>\n",
       "    <tr>\n",
       "      <th>0</th>\n",
       "      <td>A0219150202</td>\n",
       "      <td>AQ WereWolf NAS Internal Hard Drive HDD – 8.89 cm</td>\n",
       "      <td>Plus</td>\n",
       "      <td>1</td>\n",
       "      <td>6399013.73</td>\n",
       "      <td>5</td>\n",
       "      <td>370148.00</td>\n",
       "    </tr>\n",
       "    <tr>\n",
       "      <th>1</th>\n",
       "      <td>A0219150201</td>\n",
       "      <td>AQ WereWolf NAS Internal Hard Drive HDD – 8.89 cm</td>\n",
       "      <td>Standard</td>\n",
       "      <td>2</td>\n",
       "      <td>6216106.78</td>\n",
       "      <td>4</td>\n",
       "      <td>378195.00</td>\n",
       "    </tr>\n",
       "    <tr>\n",
       "      <th>2</th>\n",
       "      <td>A0118150103</td>\n",
       "      <td>AQ Dracula HDD – 3.5 Inch SATA 6 Gb/s 5400 RPM 256 MB Cache</td>\n",
       "      <td>Premium</td>\n",
       "      <td>3</td>\n",
       "      <td>5984860.00</td>\n",
       "      <td>3</td>\n",
       "      <td>380146.00</td>\n",
       "    </tr>\n",
       "    <tr>\n",
       "      <th>3</th>\n",
       "      <td>A0118150104</td>\n",
       "      <td>AQ Dracula HDD – 3.5 Inch SATA 6 Gb/s 5400 RPM 256 MB Cache</td>\n",
       "      <td>Premium Plus</td>\n",
       "      <td>4</td>\n",
       "      <td>5973455.70</td>\n",
       "      <td>2</td>\n",
       "      <td>386569.00</td>\n",
       "    </tr>\n",
       "    <tr>\n",
       "      <th>4</th>\n",
       "      <td>A0220150203</td>\n",
       "      <td>AQ WereWolf NAS Internal Hard Drive HDD – 8.89 cm</td>\n",
       "      <td>Premium</td>\n",
       "      <td>5</td>\n",
       "      <td>5701184.82</td>\n",
       "      <td>6</td>\n",
       "      <td>327011.00</td>\n",
       "    </tr>\n",
       "    <tr>\n",
       "      <th>5</th>\n",
       "      <td>A0418150103</td>\n",
       "      <td>AQ Mforce Gen X</td>\n",
       "      <td>Standard 3</td>\n",
       "      <td>6</td>\n",
       "      <td>5590255.04</td>\n",
       "      <td>1</td>\n",
       "      <td>399751.00</td>\n",
       "    </tr>\n",
       "    <tr>\n",
       "      <th>6</th>\n",
       "      <td>A0321150302</td>\n",
       "      <td>AQ Zion Saga</td>\n",
       "      <td>Plus</td>\n",
       "      <td>7</td>\n",
       "      <td>5469572.30</td>\n",
       "      <td>8</td>\n",
       "      <td>268082.00</td>\n",
       "    </tr>\n",
       "    <tr>\n",
       "      <th>7</th>\n",
       "      <td>A0320150301</td>\n",
       "      <td>AQ Zion Saga</td>\n",
       "      <td>Standard</td>\n",
       "      <td>8</td>\n",
       "      <td>5443264.03</td>\n",
       "      <td>7</td>\n",
       "      <td>319568.00</td>\n",
       "    </tr>\n",
       "    <tr>\n",
       "      <th>8</th>\n",
       "      <td>A0321150303</td>\n",
       "      <td>AQ Zion Saga</td>\n",
       "      <td>Premium</td>\n",
       "      <td>9</td>\n",
       "      <td>5253307.62</td>\n",
       "      <td>9</td>\n",
       "      <td>255814.00</td>\n",
       "    </tr>\n",
       "    <tr>\n",
       "      <th>9</th>\n",
       "      <td>A0118150102</td>\n",
       "      <td>AQ Dracula HDD – 3.5 Inch SATA 6 Gb/s 5400 RPM 256 MB Cache</td>\n",
       "      <td>Plus</td>\n",
       "      <td>10</td>\n",
       "      <td>3198627.54</td>\n",
       "      <td>11</td>\n",
       "      <td>221924.00</td>\n",
       "    </tr>\n",
       "  </tbody>\n",
       "</table>\n",
       "</div>"
      ],
      "text/plain": [
       "  product_code                                                      product  \\\n",
       "0  A0219150202            AQ WereWolf NAS Internal Hard Drive HDD – 8.89 cm   \n",
       "1  A0219150201            AQ WereWolf NAS Internal Hard Drive HDD – 8.89 cm   \n",
       "2  A0118150103  AQ Dracula HDD – 3.5 Inch SATA 6 Gb/s 5400 RPM 256 MB Cache   \n",
       "3  A0118150104  AQ Dracula HDD – 3.5 Inch SATA 6 Gb/s 5400 RPM 256 MB Cache   \n",
       "4  A0220150203            AQ WereWolf NAS Internal Hard Drive HDD – 8.89 cm   \n",
       "5  A0418150103                                              AQ Mforce Gen X   \n",
       "6  A0321150302                                                 AQ Zion Saga   \n",
       "7  A0320150301                                                 AQ Zion Saga   \n",
       "8  A0321150303                                                 AQ Zion Saga   \n",
       "9  A0118150102  AQ Dracula HDD – 3.5 Inch SATA 6 Gb/s 5400 RPM 256 MB Cache   \n",
       "\n",
       "        variant  Profit Rank  net_profit  Quantity Rank  quantity_sold  \n",
       "0          Plus            1  6399013.73              5      370148.00  \n",
       "1      Standard            2  6216106.78              4      378195.00  \n",
       "2       Premium            3  5984860.00              3      380146.00  \n",
       "3  Premium Plus            4  5973455.70              2      386569.00  \n",
       "4       Premium            5  5701184.82              6      327011.00  \n",
       "5    Standard 3            6  5590255.04              1      399751.00  \n",
       "6          Plus            7  5469572.30              8      268082.00  \n",
       "7      Standard            8  5443264.03              7      319568.00  \n",
       "8       Premium            9  5253307.62              9      255814.00  \n",
       "9          Plus           10  3198627.54             11      221924.00  "
      ]
     },
     "execution_count": 118,
     "metadata": {},
     "output_type": "execute_result"
    }
   ],
   "source": [
    "best = best_profit.merge(total_sold, on=['product_code', 'product', 'variant'])\n",
    "best= best[['product_code', 'product', 'variant', 'Profit Rank', 'net_profit', 'Quantity Rank', 'quantity_sold']]\n",
    "best.head(10)"
   ]
  },
  {
   "cell_type": "code",
   "execution_count": 116,
   "id": "fc1ef742",
   "metadata": {},
   "outputs": [
    {
     "data": {
      "text/html": [
       "<div>\n",
       "<style scoped>\n",
       "    .dataframe tbody tr th:only-of-type {\n",
       "        vertical-align: middle;\n",
       "    }\n",
       "\n",
       "    .dataframe tbody tr th {\n",
       "        vertical-align: top;\n",
       "    }\n",
       "\n",
       "    .dataframe thead th {\n",
       "        text-align: right;\n",
       "    }\n",
       "</style>\n",
       "<table border=\"1\" class=\"dataframe\">\n",
       "  <thead>\n",
       "    <tr style=\"text-align: right;\">\n",
       "      <th></th>\n",
       "      <th>net_profit</th>\n",
       "      <th>product_code</th>\n",
       "      <th>product</th>\n",
       "      <th>variant</th>\n",
       "      <th>Quantity Rank</th>\n",
       "      <th>quantity_sold</th>\n",
       "    </tr>\n",
       "    <tr>\n",
       "      <th>Profit Rank</th>\n",
       "      <th></th>\n",
       "      <th></th>\n",
       "      <th></th>\n",
       "      <th></th>\n",
       "      <th></th>\n",
       "      <th></th>\n",
       "    </tr>\n",
       "  </thead>\n",
       "  <tbody>\n",
       "    <tr>\n",
       "      <th>1</th>\n",
       "      <td>6399013.73</td>\n",
       "      <td>A0219150202</td>\n",
       "      <td>AQ WereWolf NAS Internal Hard Drive HDD – 8.89 cm</td>\n",
       "      <td>Plus</td>\n",
       "      <td>5</td>\n",
       "      <td>370148.00</td>\n",
       "    </tr>\n",
       "    <tr>\n",
       "      <th>2</th>\n",
       "      <td>6216106.78</td>\n",
       "      <td>A0219150201</td>\n",
       "      <td>AQ WereWolf NAS Internal Hard Drive HDD – 8.89 cm</td>\n",
       "      <td>Standard</td>\n",
       "      <td>4</td>\n",
       "      <td>378195.00</td>\n",
       "    </tr>\n",
       "    <tr>\n",
       "      <th>3</th>\n",
       "      <td>5984860.00</td>\n",
       "      <td>A0118150103</td>\n",
       "      <td>AQ Dracula HDD – 3.5 Inch SATA 6 Gb/s 5400 RPM 256 MB Cache</td>\n",
       "      <td>Premium</td>\n",
       "      <td>3</td>\n",
       "      <td>380146.00</td>\n",
       "    </tr>\n",
       "    <tr>\n",
       "      <th>4</th>\n",
       "      <td>5973455.70</td>\n",
       "      <td>A0118150104</td>\n",
       "      <td>AQ Dracula HDD – 3.5 Inch SATA 6 Gb/s 5400 RPM 256 MB Cache</td>\n",
       "      <td>Premium Plus</td>\n",
       "      <td>2</td>\n",
       "      <td>386569.00</td>\n",
       "    </tr>\n",
       "    <tr>\n",
       "      <th>5</th>\n",
       "      <td>5701184.82</td>\n",
       "      <td>A0220150203</td>\n",
       "      <td>AQ WereWolf NAS Internal Hard Drive HDD – 8.89 cm</td>\n",
       "      <td>Premium</td>\n",
       "      <td>6</td>\n",
       "      <td>327011.00</td>\n",
       "    </tr>\n",
       "    <tr>\n",
       "      <th>6</th>\n",
       "      <td>5590255.04</td>\n",
       "      <td>A0418150103</td>\n",
       "      <td>AQ Mforce Gen X</td>\n",
       "      <td>Standard 3</td>\n",
       "      <td>1</td>\n",
       "      <td>399751.00</td>\n",
       "    </tr>\n",
       "    <tr>\n",
       "      <th>7</th>\n",
       "      <td>5469572.30</td>\n",
       "      <td>A0321150302</td>\n",
       "      <td>AQ Zion Saga</td>\n",
       "      <td>Plus</td>\n",
       "      <td>8</td>\n",
       "      <td>268082.00</td>\n",
       "    </tr>\n",
       "    <tr>\n",
       "      <th>8</th>\n",
       "      <td>5443264.03</td>\n",
       "      <td>A0320150301</td>\n",
       "      <td>AQ Zion Saga</td>\n",
       "      <td>Standard</td>\n",
       "      <td>7</td>\n",
       "      <td>319568.00</td>\n",
       "    </tr>\n",
       "    <tr>\n",
       "      <th>9</th>\n",
       "      <td>5253307.62</td>\n",
       "      <td>A0321150303</td>\n",
       "      <td>AQ Zion Saga</td>\n",
       "      <td>Premium</td>\n",
       "      <td>9</td>\n",
       "      <td>255814.00</td>\n",
       "    </tr>\n",
       "    <tr>\n",
       "      <th>10</th>\n",
       "      <td>3198627.54</td>\n",
       "      <td>A0118150102</td>\n",
       "      <td>AQ Dracula HDD – 3.5 Inch SATA 6 Gb/s 5400 RPM 256 MB Cache</td>\n",
       "      <td>Plus</td>\n",
       "      <td>11</td>\n",
       "      <td>221924.00</td>\n",
       "    </tr>\n",
       "    <tr>\n",
       "      <th>11</th>\n",
       "      <td>2683754.11</td>\n",
       "      <td>A0118150101</td>\n",
       "      <td>AQ Dracula HDD – 3.5 Inch SATA 6 Gb/s 5400 RPM 256 MB Cache</td>\n",
       "      <td>Standard</td>\n",
       "      <td>10</td>\n",
       "      <td>222942.00</td>\n",
       "    </tr>\n",
       "    <tr>\n",
       "      <th>12</th>\n",
       "      <td>1182072.83</td>\n",
       "      <td>A0418150102</td>\n",
       "      <td>AQ Mforce Gen X</td>\n",
       "      <td>Standard 2</td>\n",
       "      <td>12</td>\n",
       "      <td>101725.00</td>\n",
       "    </tr>\n",
       "    <tr>\n",
       "      <th>13</th>\n",
       "      <td>1123386.85</td>\n",
       "      <td>A0418150101</td>\n",
       "      <td>AQ Mforce Gen X</td>\n",
       "      <td>Standard 1</td>\n",
       "      <td>13</td>\n",
       "      <td>100053.00</td>\n",
       "    </tr>\n",
       "    <tr>\n",
       "      <th>14</th>\n",
       "      <td>647409.43</td>\n",
       "      <td>A0418150104</td>\n",
       "      <td>AQ Mforce Gen X</td>\n",
       "      <td>Plus 1</td>\n",
       "      <td>14</td>\n",
       "      <td>51007.00</td>\n",
       "    </tr>\n",
       "  </tbody>\n",
       "</table>\n",
       "</div>"
      ],
      "text/plain": [
       "             net_profit product_code  \\\n",
       "Profit Rank                            \n",
       "1            6399013.73  A0219150202   \n",
       "2            6216106.78  A0219150201   \n",
       "3            5984860.00  A0118150103   \n",
       "4            5973455.70  A0118150104   \n",
       "5            5701184.82  A0220150203   \n",
       "6            5590255.04  A0418150103   \n",
       "7            5469572.30  A0321150302   \n",
       "8            5443264.03  A0320150301   \n",
       "9            5253307.62  A0321150303   \n",
       "10           3198627.54  A0118150102   \n",
       "11           2683754.11  A0118150101   \n",
       "12           1182072.83  A0418150102   \n",
       "13           1123386.85  A0418150101   \n",
       "14            647409.43  A0418150104   \n",
       "\n",
       "                                                                 product  \\\n",
       "Profit Rank                                                                \n",
       "1                      AQ WereWolf NAS Internal Hard Drive HDD – 8.89 cm   \n",
       "2                      AQ WereWolf NAS Internal Hard Drive HDD – 8.89 cm   \n",
       "3            AQ Dracula HDD – 3.5 Inch SATA 6 Gb/s 5400 RPM 256 MB Cache   \n",
       "4            AQ Dracula HDD – 3.5 Inch SATA 6 Gb/s 5400 RPM 256 MB Cache   \n",
       "5                      AQ WereWolf NAS Internal Hard Drive HDD – 8.89 cm   \n",
       "6                                                        AQ Mforce Gen X   \n",
       "7                                                           AQ Zion Saga   \n",
       "8                                                           AQ Zion Saga   \n",
       "9                                                           AQ Zion Saga   \n",
       "10           AQ Dracula HDD – 3.5 Inch SATA 6 Gb/s 5400 RPM 256 MB Cache   \n",
       "11           AQ Dracula HDD – 3.5 Inch SATA 6 Gb/s 5400 RPM 256 MB Cache   \n",
       "12                                                       AQ Mforce Gen X   \n",
       "13                                                       AQ Mforce Gen X   \n",
       "14                                                       AQ Mforce Gen X   \n",
       "\n",
       "                  variant  Quantity Rank  quantity_sold  \n",
       "Profit Rank                                              \n",
       "1                    Plus              5      370148.00  \n",
       "2                Standard              4      378195.00  \n",
       "3                 Premium              3      380146.00  \n",
       "4            Premium Plus              2      386569.00  \n",
       "5                 Premium              6      327011.00  \n",
       "6              Standard 3              1      399751.00  \n",
       "7                    Plus              8      268082.00  \n",
       "8                Standard              7      319568.00  \n",
       "9                 Premium              9      255814.00  \n",
       "10                   Plus             11      221924.00  \n",
       "11               Standard             10      222942.00  \n",
       "12             Standard 2             12      101725.00  \n",
       "13             Standard 1             13      100053.00  \n",
       "14                 Plus 1             14       51007.00  "
      ]
     },
     "execution_count": 116,
     "metadata": {},
     "output_type": "execute_result"
    }
   ],
   "source": [
    "best1 = best[['Profit Rank', 'net_profit', 'product_code', 'product', 'variant', 'Quantity Rank', 'quantity_sold']]\n",
    "best1.set_index('Profit Rank', inplace=True)\n",
    "best1"
   ]
  },
  {
   "cell_type": "markdown",
   "id": "0cf9fec2",
   "metadata": {},
   "source": [
    "The two most profitable products also brought in the most revenue.  These are the A0219150202 AQ WereWolf NAS Internal Hard Drive HDD Plus bringing in 6.4 million in profit and its lower model the A0219150201 AQ WereWolf NAS Internal Hard Drive HDD Standard bringing in 6.2 million in profit. Even though these products were not the top sellers (coming in 5th and 4th), they were more profitable than the top sellers.\n",
    "\n",
    "The third most profitable product, the A0118150103 AQ Dracula HDD - Premium, was the third leader in quantity and still brought in almost 6 million in profit.\n",
    "\n",
    "Notable, the leader in quantity sold, the A0220150203 - AQ WereWolf NAS Internal Hard Drive HDD – 8.89 cm - Premium\tproduct was 6th in profit.  \n",
    "\n",
    "Sometimes a product has a lower product margin but brings in more profit if it has very high sales.  We found that all profits have a similar profit margin (around 70%).  If a this popular product had a very high margin, increasing sales with a promotion would still mean a profit.  However, this is not the case.  Sales should be encouraged but more attention should be put on the A0219150202 AQ WereWolf which made more profit than the others, thanks in part to its slightly higher profit margin (teetering on 71%).\n",
    "\n",
    "These products should be continued but also special attention should be paid to the AQ Zion Saga Plus and Premium (A0321150302\tand A0321150303) because after only being in the market two years and selling less in quantity, they made a decent profit.  Around 5.4 million in two years give them a decent chance to outperform the other models in later years.\n",
    "\n"
   ]
  },
  {
   "cell_type": "code",
   "execution_count": 119,
   "id": "4a407b73",
   "metadata": {},
   "outputs": [],
   "source": [
    "#export table to csv for dashboard\n",
    "best.to_csv('best.csv')"
   ]
  },
  {
   "cell_type": "markdown",
   "id": "cb21c42b",
   "metadata": {},
   "source": [
    "[Here is the link to the Tableau dashboard](https://public.tableau.com/views/TopSellingProductAnalysisAtilQHardware/Dashboard1?:language=en-US&publish=yes&:sid=&:display_count=n&:origin=viz_share_link)\n",
    "\n",
    "This dashboard contains import charts outlining the best selling products in profit and quantity from 2018-2022.  There is a filter on the side that allows the user to select one year or all years and view the charts and table for those corresponding years."
   ]
  },
  {
   "cell_type": "code",
   "execution_count": null,
   "id": "51e2746b",
   "metadata": {},
   "outputs": [],
   "source": []
  }
 ],
 "metadata": {
  "kernelspec": {
   "display_name": "Python 3 (ipykernel)",
   "language": "python",
   "name": "python3"
  },
  "language_info": {
   "codemirror_mode": {
    "name": "ipython",
    "version": 3
   },
   "file_extension": ".py",
   "mimetype": "text/x-python",
   "name": "python",
   "nbconvert_exporter": "python",
   "pygments_lexer": "ipython3",
   "version": "3.9.12"
  },
  "toc": {
   "base_numbering": 1,
   "nav_menu": {},
   "number_sections": true,
   "sideBar": true,
   "skip_h1_title": true,
   "title_cell": "Table of Contents",
   "title_sidebar": "Contents",
   "toc_cell": false,
   "toc_position": {},
   "toc_section_display": true,
   "toc_window_display": true
  }
 },
 "nbformat": 4,
 "nbformat_minor": 5
}
